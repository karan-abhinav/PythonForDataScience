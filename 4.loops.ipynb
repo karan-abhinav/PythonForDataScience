{
 "cells": [
  {
   "cell_type": "code",
   "execution_count": 5,
   "id": "6dbafc0e-8de3-413e-9295-f3126f0424e0",
   "metadata": {},
   "outputs": [
    {
     "name": "stdout",
     "output_type": "stream",
     "text": [
      "yes i will be able to buy\n"
     ]
    }
   ],
   "source": [
    "a = 500\n",
    "price = 450\n",
    "if price <= 500:\n",
    "    print(\"yes i will be able to buy\")"
   ]
  },
  {
   "cell_type": "code",
   "execution_count": 4,
   "id": "696b27c0-8a01-4b57-b373-123846ee089e",
   "metadata": {},
   "outputs": [
    {
     "data": {
      "text/plain": [
       "True"
      ]
     },
     "execution_count": 4,
     "metadata": {},
     "output_type": "execute_result"
    }
   ],
   "source": [
    "price <= 500"
   ]
  },
  {
   "cell_type": "code",
   "execution_count": 12,
   "id": "75a2a0bb-3a48-4755-b9eb-6d00ce38a444",
   "metadata": {},
   "outputs": [
    {
     "name": "stdout",
     "output_type": "stream",
     "text": [
      "I wont be able to buy\n"
     ]
    }
   ],
   "source": [
    "a = 500\n",
    "price = 850\n",
    "if price <= 500:\n",
    "    print(\"yes i will be able to buy\")\n",
    "else:\n",
    "    print(\"I wont be able to buy\")"
   ]
  },
  {
   "cell_type": "code",
   "execution_count": 11,
   "id": "90d76bed-3174-4cce-b7ce-c12542ce78bd",
   "metadata": {},
   "outputs": [
    {
     "data": {
      "text/plain": [
       "False"
      ]
     },
     "execution_count": 11,
     "metadata": {},
     "output_type": "execute_result"
    }
   ],
   "source": [
    "price <= 500"
   ]
  },
  {
   "cell_type": "code",
   "execution_count": 13,
   "id": "eaf2e91e-4714-416c-a22d-5f197308705d",
   "metadata": {},
   "outputs": [
    {
     "name": "stdout",
     "output_type": "stream",
     "text": [
      "I will try to buy a shirt\n"
     ]
    }
   ],
   "source": [
    "a = 500\n",
    "shirt_price = 200\n",
    "pant_price = 500\n",
    "coat_price = 800\n",
    "if coat_price <= a:\n",
    "    print(\"I will try to buy a coat\")\n",
    "elif pant_price < 500 :\n",
    "    print(\"I will try to buy a pant\")\n",
    "elif shirt_price < 500 :\n",
    "    print(\"I will try to buy a shirt\")\n",
    "else:\n",
    "    print(\"I wont be able to buy\")"
   ]
  },
  {
   "cell_type": "code",
   "execution_count": 15,
   "id": "60e35b48-a0d2-46c7-843c-91b9352140fd",
   "metadata": {},
   "outputs": [
    {
     "name": "stdout",
     "output_type": "stream",
     "text": [
      "This is the testing block\n",
      "I will try to buy a shirt\n"
     ]
    }
   ],
   "source": [
    "a = 500\n",
    "shirt_price = 200\n",
    "pant_price = 500\n",
    "coat_price = 800\n",
    "if True:\n",
    "    print(\"This is the testing block\")\n",
    "\n",
    "if coat_price <= a:\n",
    "    print(\"I will try to buy a coat\")\n",
    "elif pant_price < 500 :\n",
    "    print(\"I will try to buy a pant\")\n",
    "elif shirt_price < 500 :\n",
    "    print(\"I will try to buy a shirt\")\n",
    "else:\n",
    "    print(\"I wont be able to buy\")"
   ]
  },
  {
   "cell_type": "code",
   "execution_count": 16,
   "id": "ad0f8de1-49d5-41c7-acc1-ef2977dea11f",
   "metadata": {},
   "outputs": [
    {
     "name": "stdout",
     "output_type": "stream",
     "text": [
      "Its available under my budget\n"
     ]
    }
   ],
   "source": [
    "a = 500\n",
    "shirt_price = 200\n",
    "pant_price = 500\n",
    "coat_price = 800\n",
    "my_size = 'M'\n",
    "size_store = 'L'\n",
    "if coat_price <= a:\n",
    "    print(\"I will try to buy a coat\")\n",
    "elif pant_price < 500 :\n",
    "    print(\"I will try to buy a pant\")\n",
    "elif shirt_price < 500 :\n",
    "    print(\"Its available under my budget\")\n",
    "    if my_size == size_store:\n",
    "        print(\"I will try to buy a shirt\")\n",
    "else:\n",
    "    print(\"I wont be able to buy\")"
   ]
  },
  {
   "cell_type": "code",
   "execution_count": 17,
   "id": "a11e19a6-db8f-41c9-a5f9-9d20a8a7689d",
   "metadata": {},
   "outputs": [
    {
     "name": "stdout",
     "output_type": "stream",
     "text": [
      "Its available under my budget\n",
      "My size is not available\n"
     ]
    }
   ],
   "source": [
    "a = 500\n",
    "shirt_price = 200\n",
    "pant_price = 500\n",
    "coat_price = 800\n",
    "my_size = 'M'\n",
    "size_store = ['L', 'XL', 'S', 'XXL', 'XXXL']\n",
    "if coat_price <= a:\n",
    "    print(\"I will try to buy a coat\")\n",
    "elif pant_price < 500 :\n",
    "    print(\"I will try to buy a pant\")\n",
    "elif shirt_price < 500 :\n",
    "    print(\"Its available under my budget\")\n",
    "    if my_size in size_store:\n",
    "        print(\"I will try to buy a shirt\")\n",
    "    else:\n",
    "        print(\"My size is not available\") \n",
    "else:\n",
    "    print(\"I wont be able to buy\")"
   ]
  },
  {
   "cell_type": "code",
   "execution_count": 18,
   "id": "61dd06ba-1424-478b-9553-156fcec75a1e",
   "metadata": {},
   "outputs": [
    {
     "name": "stdout",
     "output_type": "stream",
     "text": [
      "Its available under my budget\n",
      "I will try to buy a shirt\n",
      "I will trry to choose it\n"
     ]
    }
   ],
   "source": [
    "a = 500\n",
    "shirt_price = 200\n",
    "pant_price = 500\n",
    "coat_price = 800\n",
    "my_size = 'M'\n",
    "size_store = ['L', 'XL', 'S', 'XXL', 'XXXL', 'M']\n",
    "my_fav_color = 'white'\n",
    "store_clr = ['white', 'red', 'orange', 'green']\n",
    "if coat_price <= a:\n",
    "    print(\"I will try to buy a coat\")\n",
    "elif pant_price < 500 :\n",
    "    print(\"I will try to buy a pant\")\n",
    "elif shirt_price < 500 :\n",
    "    print(\"Its available under my budget\")\n",
    "    if my_size in size_store:\n",
    "        print(\"I will try to buy a shirt\")\n",
    "        if my_fav_color in store_clr:\n",
    "            print(\"I will trry to choose it\")\n",
    "        else:\n",
    "            print(\"My fav_clr is not avaialable and move to  anothewr store\")\n",
    "    else:\n",
    "        print(\"My size is not available\") \n",
    "else:\n",
    "    print(\"I wont be able to buy\")"
   ]
  },
  {
   "cell_type": "code",
   "execution_count": 19,
   "id": "9c6ecf51-0dbe-4b66-b77a-6cb98aa87ed1",
   "metadata": {},
   "outputs": [
    {
     "name": "stdout",
     "output_type": "stream",
     "text": [
      "I am doing this course\n"
     ]
    }
   ],
   "source": [
    "course = ['DSM', 'DSA', 'java', 'big data', 'DA']\n",
    "price = 20000\n",
    "mentor = \"sudhanshu kumar\"\n",
    "if 'DSM' in course and price == 20000 and mentor == \"sudhanshu kumar\":\n",
    "    print(\"I am doing this course\")\n"
   ]
  },
  {
   "cell_type": "code",
   "execution_count": 21,
   "id": "6dd79d91-9212-4e02-9abd-75601ce751c7",
   "metadata": {},
   "outputs": [],
   "source": [
    "course = ['DSM', 'DSA', 'java', 'big data', 'DA']\n",
    "price = 20000\n",
    "mentor = \"sudhanshu kumar\"\n",
    "if 'DSM' in course and price == 1000 and mentor == \"sudhanshu kumar\":\n",
    "    print(\"I am doing this course\")"
   ]
  },
  {
   "cell_type": "code",
   "execution_count": 22,
   "id": "c624d693-4a44-4a00-a7bf-af109331c818",
   "metadata": {},
   "outputs": [
    {
     "name": "stdout",
     "output_type": "stream",
     "text": [
      "Its out of my budget\n"
     ]
    }
   ],
   "source": [
    "course_price = 20000\n",
    "\n",
    "if 10000<=course_price<=15000:\n",
    "    print(\"I will try to buy the course\")\n",
    "else:\n",
    "    print(\"Its out of my budget\")"
   ]
  },
  {
   "cell_type": "code",
   "execution_count": 23,
   "id": "cc0b485e-145f-4323-ab2c-8ce6138429eb",
   "metadata": {},
   "outputs": [
    {
     "data": {
      "text/plain": [
       "False"
      ]
     },
     "execution_count": 23,
     "metadata": {},
     "output_type": "execute_result"
    }
   ],
   "source": [
    "10000<=course_price<=15000"
   ]
  },
  {
   "cell_type": "code",
   "execution_count": 24,
   "id": "42a0828f-5dca-441a-8eba-84a0e0bcc3e5",
   "metadata": {},
   "outputs": [
    {
     "name": "stdin",
     "output_type": "stream",
     "text": [
      "Enter your user name dsfgkjnjkdfsg\n"
     ]
    },
    {
     "name": "stdout",
     "output_type": "stream",
     "text": [
      "Enter correct username and password\n"
     ]
    }
   ],
   "source": [
    "user_name = \"sudh\"\n",
    "passowrd = \"sudh@1234\"\n",
    "\n",
    "if user_name == input(\"Enter your user name\") and passowrd == input(\"Enter your password\"):\n",
    "    print(\"You have logged in successfully\")\n",
    "else:\n",
    "    print(\"Enter correct username and password\")"
   ]
  },
  {
   "cell_type": "code",
   "execution_count": 25,
   "id": "fd2bb559-95a8-4b97-a876-5cbf41c6217f",
   "metadata": {},
   "outputs": [
    {
     "name": "stdin",
     "output_type": "stream",
     "text": [
      "Enter your user name sudh\n",
      "Enter your password sdkfjnsdkjf\n"
     ]
    },
    {
     "name": "stdout",
     "output_type": "stream",
     "text": [
      "Enter correct username and password\n"
     ]
    }
   ],
   "source": [
    "user_name = \"sudh\"\n",
    "passowrd = \"sudh@1234\"\n",
    "\n",
    "if user_name == input(\"Enter your user name\") and passowrd == input(\"Enter your password\"):\n",
    "    print(\"You have logged in successfully\")\n",
    "else:\n",
    "    print(\"Enter correct username and password\")"
   ]
  },
  {
   "cell_type": "code",
   "execution_count": 26,
   "id": "c7544dd6-5205-48dc-a495-59bccdbb9a7a",
   "metadata": {},
   "outputs": [
    {
     "name": "stdin",
     "output_type": "stream",
     "text": [
      "Enter your user name sudh\n",
      "Enter your password sudh@1234\n"
     ]
    },
    {
     "name": "stdout",
     "output_type": "stream",
     "text": [
      "You have logged in successfully\n"
     ]
    }
   ],
   "source": [
    "user_name = \"sudh\"\n",
    "passowrd = \"sudh@1234\"\n",
    "\n",
    "if user_name == input(\"Enter your user name\") and passowrd == input(\"Enter your password\"):\n",
    "    print(\"You have logged in successfully\")\n",
    "else:\n",
    "    print(\"Enter correct username and password\")"
   ]
  },
  {
   "cell_type": "code",
   "execution_count": 29,
   "id": "b2c03e13-4933-4011-ba50-c2ce1f89702e",
   "metadata": {},
   "outputs": [
    {
     "name": "stdin",
     "output_type": "stream",
     "text": [
      "Enter your your red. mob_no 123456\n"
     ]
    },
    {
     "name": "stdout",
     "output_type": "stream",
     "text": [
      "yes you are a registered user\n"
     ]
    },
    {
     "name": "stdin",
     "output_type": "stream",
     "text": [
      "Enter otp sent in your mobile number 1234\n"
     ]
    },
    {
     "name": "stdout",
     "output_type": "stream",
     "text": [
      "You have logged in successfully\n"
     ]
    }
   ],
   "source": [
    "mobile_no = 123456\n",
    "otp = 1234\n",
    "if mobile_no == int(input(\"Enter your your red. mob_no\")):\n",
    "    print(\"yes you are a registered user\")\n",
    "    if otp == int(input(\"Enter otp sent in your mobile number\")):\n",
    "        print(\"You have logged in successfully\")\n",
    "    else:\n",
    "        print(\"OTP is not correct please neter again\")\n",
    "else:\n",
    "    print(\"You have not entered a valid mobile number\")"
   ]
  },
  {
   "cell_type": "code",
   "execution_count": 37,
   "id": "4be49918-0c19-4d40-b08b-a5780deebef0",
   "metadata": {},
   "outputs": [
    {
     "name": "stdin",
     "output_type": "stream",
     "text": [
      "Enter your your red. mob_no 5546544465\n"
     ]
    },
    {
     "name": "stdout",
     "output_type": "stream",
     "text": [
      "yes you are a registered user\n"
     ]
    },
    {
     "name": "stdin",
     "output_type": "stream",
     "text": [
      "Enter otp sent in your mobile number 1234\n"
     ]
    },
    {
     "name": "stdout",
     "output_type": "stream",
     "text": [
      "You have logged in successfully\n"
     ]
    }
   ],
   "source": [
    "mobile_no = {1564554,461236,5546544465,5456654,7894978}\n",
    "otp = 1234\n",
    "if int(input(\"Enter your your red. mob_no\")) in mobile_no:\n",
    "    print(\"yes you are a registered user\")\n",
    "    if otp == int(input(\"Enter otp sent in your mobile number\")):\n",
    "        print(\"You have logged in successfully\")\n",
    "    else:\n",
    "        print(\"OTP is not correct please neter again\")\n",
    "else:\n",
    "    print(\"You have not entered a valid mobile number\")"
   ]
  },
  {
   "cell_type": "code",
   "execution_count": 38,
   "id": "4365a13f-f8ec-4372-937d-5f798bf8740e",
   "metadata": {},
   "outputs": [
    {
     "name": "stdout",
     "output_type": "stream",
     "text": [
      "12\n",
      "3\n",
      "3\n",
      "4\n",
      "5\n",
      "6\n",
      "6\n"
     ]
    }
   ],
   "source": [
    "l = [12,3,3,4,5,6,6]\n",
    "\n",
    "for i in l:\n",
    "    print(i)"
   ]
  },
  {
   "cell_type": "code",
   "execution_count": 44,
   "id": "22b01f0c-5133-4eca-b8ba-f1f45acfa16b",
   "metadata": {},
   "outputs": [
    {
     "name": "stdout",
     "output_type": "stream",
     "text": [
      "1564554\n",
      "yes user is registered\n",
      "Yes student details are avaialable in DB\n",
      "Couse accessed to the user is  ['dsa', 'dsm', 'bigdata']\n",
      "461236\n",
      "5546544465\n",
      "5456654\n",
      "7894978\n"
     ]
    }
   ],
   "source": [
    "mobile_no = [1564554,461236,5546544465,5456654,7894978]\n",
    "stud_mo = 1564554\n",
    "stud_details = {'mobile_no' : 1564554, 'course' : ['dsa', 'dsm', 'bigdata']}\n",
    "for i in mobile_no:\n",
    "    print(i)\n",
    "    if i == stud_mo:\n",
    "        print(\"yes user is registered\")\n",
    "        if i == stud_details['mobile_no']:\n",
    "            print(\"Yes student details are avaialable in DB\")\n",
    "            print(\"Couse accessed to the user is \", stud_details['course'])"
   ]
  },
  {
   "cell_type": "code",
   "execution_count": 47,
   "id": "3ede1d17-dd61-41c9-9ae0-6c4271acc7d8",
   "metadata": {},
   "outputs": [
    {
     "name": "stdout",
     "output_type": "stream",
     "text": [
      "1\n",
      "2\n",
      "3\n",
      "4\n",
      "5\n",
      "6\n",
      "abhi\n",
      "karan\n"
     ]
    }
   ],
   "source": [
    "t = (1,2,3,4,5,6,\"abhi\",\"karan\")\n",
    "for i in t:\n",
    "    print(i)"
   ]
  },
  {
   "cell_type": "code",
   "execution_count": 49,
   "id": "46782f86-9c13-45ba-b542-a7b3c936a29a",
   "metadata": {},
   "outputs": [
    {
     "name": "stdout",
     "output_type": "stream",
     "text": [
      "abhi\n",
      "karan\n"
     ]
    }
   ],
   "source": [
    "t = (1,2,3,4,5,6,\"abhi\",\"karan\")\n",
    "for i in t:\n",
    "    if type(i) == str:\n",
    "        print(i)"
   ]
  },
  {
   "cell_type": "code",
   "execution_count": 50,
   "id": "b9143a40-e165-4196-ab01-888651e6023c",
   "metadata": {},
   "outputs": [
    {
     "name": "stdout",
     "output_type": "stream",
     "text": [
      "[1, 2, 3, 4, 5, 6]\n",
      "['abhi', 'karan']\n"
     ]
    }
   ],
   "source": [
    "t = (1,2,3,4,5,6,\"abhi\",\"karan\")\n",
    "l_int = []\n",
    "i_str = []\n",
    "for i in t:\n",
    "    if type(i) == str:\n",
    "        i_str.append(i)\n",
    "    elif type(i) == int:\n",
    "        l_int.append(i)\n",
    "print(l_int)\n",
    "print(i_str)"
   ]
  },
  {
   "cell_type": "code",
   "execution_count": 51,
   "id": "3199a8b1-d61b-4c97-aa1d-f3ee59112230",
   "metadata": {},
   "outputs": [
    {
     "name": "stdout",
     "output_type": "stream",
     "text": [
      "3\n",
      "4\n",
      "5\n",
      "6\n",
      "7\n",
      "8\n",
      "9\n"
     ]
    }
   ],
   "source": [
    "s = {3,4,5,6,7,8,9}\n",
    "for i in s:\n",
    "    print(i)"
   ]
  },
  {
   "cell_type": "code",
   "execution_count": 53,
   "id": "8c18ee2e-47f7-4ec4-b9e6-4fe750a5f20a",
   "metadata": {},
   "outputs": [],
   "source": [
    "d = {\"name\":\"sudh\", 'class':[\"data analytics\",\"big data\",\"data science\", \"DSA\" \"architecture\"],\n",
    "     'mobile_no':1236127367,'email':\"karan.abhinav@gmail.com\"}"
   ]
  },
  {
   "cell_type": "code",
   "execution_count": 54,
   "id": "46423b1c-40e0-43dc-bd9e-6826b77fdd17",
   "metadata": {},
   "outputs": [
    {
     "data": {
      "text/plain": [
       "{'name': 'sudh',\n",
       " 'class': ['data analytics', 'big data', 'data science', 'DSAarchitecture'],\n",
       " 'mobile_no': 1236127367,\n",
       " 'email': 'karan.abhinav@gmail.com'}"
      ]
     },
     "execution_count": 54,
     "metadata": {},
     "output_type": "execute_result"
    }
   ],
   "source": [
    "d"
   ]
  },
  {
   "cell_type": "code",
   "execution_count": 55,
   "id": "28495224-56a4-48bf-866d-89c6e9d4e244",
   "metadata": {},
   "outputs": [
    {
     "name": "stdout",
     "output_type": "stream",
     "text": [
      "sudh\n",
      "['data analytics', 'big data', 'data science', 'DSAarchitecture']\n",
      "1236127367\n",
      "karan.abhinav@gmail.com\n"
     ]
    }
   ],
   "source": [
    "for i in d.values():\n",
    "    print(i)"
   ]
  },
  {
   "cell_type": "code",
   "execution_count": 57,
   "id": "4bea2f9f-39fe-4eb4-a435-c63cd31c5c6f",
   "metadata": {},
   "outputs": [
    {
     "name": "stdout",
     "output_type": "stream",
     "text": [
      "name\n",
      "class\n",
      "mobile_no\n",
      "email\n"
     ]
    }
   ],
   "source": [
    "for i in d.keys():\n",
    "    print(i)"
   ]
  },
  {
   "cell_type": "code",
   "execution_count": 59,
   "id": "c0c40978-cb55-470b-a2c4-58470c5e6e08",
   "metadata": {},
   "outputs": [
    {
     "name": "stdout",
     "output_type": "stream",
     "text": [
      "['data analytics', 'big data', 'data science', 'DSAarchitecture']\n"
     ]
    }
   ],
   "source": [
    "for i in d.values():\n",
    "    if type(i) == list:\n",
    "        print(i)"
   ]
  },
  {
   "cell_type": "code",
   "execution_count": 60,
   "id": "4065ef3f-b294-48ca-ba23-4e62cb612c03",
   "metadata": {},
   "outputs": [
    {
     "name": "stdout",
     "output_type": "stream",
     "text": [
      "Mentor is teaching bigdata\n"
     ]
    }
   ],
   "source": [
    "for i in d.values():\n",
    "    if type(i) == list:\n",
    "        if \"big data\" in i:\n",
    "            print(\"Mentor is teaching bigdata\")"
   ]
  },
  {
   "cell_type": "code",
   "execution_count": null,
   "id": "20837342-f8f0-4ba5-80fc-8797632fb289",
   "metadata": {},
   "outputs": [],
   "source": []
  }
 ],
 "metadata": {
  "kernelspec": {
   "display_name": "Python 3 (ipykernel)",
   "language": "python",
   "name": "python3"
  },
  "language_info": {
   "codemirror_mode": {
    "name": "ipython",
    "version": 3
   },
   "file_extension": ".py",
   "mimetype": "text/x-python",
   "name": "python",
   "nbconvert_exporter": "python",
   "pygments_lexer": "ipython3",
   "version": "3.10.8"
  }
 },
 "nbformat": 4,
 "nbformat_minor": 5
}
