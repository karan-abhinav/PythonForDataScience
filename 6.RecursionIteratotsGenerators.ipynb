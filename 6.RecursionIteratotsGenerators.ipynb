{
 "cells": [
  {
   "cell_type": "code",
   "execution_count": null,
   "id": "42fc21f4-c794-4059-9c83-aadc8ebd9de5",
   "metadata": {},
   "outputs": [],
   "source": [
    "while True:\n",
    "    print(\"This is my first while loop\")"
   ]
  },
  {
   "cell_type": "code",
   "execution_count": 1,
   "id": "c0cb5d4a-fe14-486c-a955-09bea09886ba",
   "metadata": {},
   "outputs": [
    {
     "name": "stdout",
     "output_type": "stream",
     "text": [
      "10\n",
      "9\n",
      "8\n",
      "7\n",
      "6\n",
      "5\n",
      "4\n",
      "3\n",
      "2\n",
      "1\n"
     ]
    }
   ],
   "source": [
    "a = 10\n",
    "while a>=1:\n",
    "    print(a)\n",
    "    a = a - 1"
   ]
  },
  {
   "cell_type": "code",
   "execution_count": 2,
   "id": "8ad4760c-3103-4897-b626-883013de8217",
   "metadata": {},
   "outputs": [
    {
     "name": "stdout",
     "output_type": "stream",
     "text": [
      "15\n"
     ]
    }
   ],
   "source": [
    "s = 0\n",
    "n = 1\n",
    "t = 5\n",
    "while n <= t :\n",
    "    s = s + n\n",
    "    n = n + 1\n",
    "print(s)"
   ]
  },
  {
   "cell_type": "code",
   "execution_count": 3,
   "id": "6b3373fa-34f4-4f47-9a63-9aa91efe98c9",
   "metadata": {},
   "outputs": [
    {
     "name": "stdout",
     "output_type": "stream",
     "text": [
      "120\n"
     ]
    }
   ],
   "source": [
    "s = 1\n",
    "n = 1\n",
    "t = 5\n",
    "while n <= t :\n",
    "    s = s * n\n",
    "    n = n + 1\n",
    "print(s)"
   ]
  },
  {
   "cell_type": "code",
   "execution_count": 5,
   "id": "6e54aa8f-ec3a-4ae6-91c5-4cb2be160d85",
   "metadata": {},
   "outputs": [
    {
     "name": "stdin",
     "output_type": "stream",
     "text": [
      "Enter a number for which you are looking for table  13\n"
     ]
    },
    {
     "name": "stdout",
     "output_type": "stream",
     "text": [
      "13 * 1 = 13\n",
      "13 * 2 = 26\n",
      "13 * 3 = 39\n",
      "13 * 4 = 52\n",
      "13 * 5 = 65\n",
      "13 * 6 = 78\n",
      "13 * 7 = 91\n",
      "13 * 8 = 104\n",
      "13 * 9 = 117\n",
      "13 * 10 = 130\n"
     ]
    }
   ],
   "source": [
    "n = int(input(\"Enter a number for which you are looking for table \"))\n",
    "i = 1\n",
    "while i <= 10 :\n",
    "    product = n * i\n",
    "    print(n , '*' , i , '=' , product)\n",
    "    i = i +  1"
   ]
  },
  {
   "cell_type": "code",
   "execution_count": 6,
   "id": "a3576247-9378-417c-a8f0-c81a7b84008d",
   "metadata": {},
   "outputs": [
    {
     "name": "stdout",
     "output_type": "stream",
     "text": [
      "5\n",
      "4\n",
      "3\n",
      "2\n",
      "1\n",
      "Break Time is Over\n"
     ]
    }
   ],
   "source": [
    "import time\n",
    "s = 5\n",
    "while s > 0:\n",
    "    print(s)\n",
    "    time.sleep(1)\n",
    "    s = s - 1\n",
    "print(\"Break Time is Over\")"
   ]
  },
  {
   "cell_type": "code",
   "execution_count": 12,
   "id": "45fabc18-26cb-4e43-80ce-40e7b240d497",
   "metadata": {},
   "outputs": [
    {
     "name": "stdout",
     "output_type": "stream",
     "text": [
      "20\n"
     ]
    },
    {
     "name": "stdin",
     "output_type": "stream",
     "text": [
      "Enter your choice(1.biscuit , 2.chips , 3.RebBull , 4.Coke) 2\n"
     ]
    },
    {
     "name": "stdout",
     "output_type": "stream",
     "text": [
      "Take you chips\n",
      "15\n"
     ]
    },
    {
     "name": "stdin",
     "output_type": "stream",
     "text": [
      "Enter your choice(1.biscuit , 2.chips , 3.RebBull , 4.Coke) 2\n"
     ]
    },
    {
     "name": "stdout",
     "output_type": "stream",
     "text": [
      "Take you chips\n",
      "10\n"
     ]
    },
    {
     "name": "stdin",
     "output_type": "stream",
     "text": [
      "Enter your choice(1.biscuit , 2.chips , 3.RebBull , 4.Coke) 2\n"
     ]
    },
    {
     "name": "stdout",
     "output_type": "stream",
     "text": [
      "Take you chips\n",
      "5\n"
     ]
    },
    {
     "name": "stdin",
     "output_type": "stream",
     "text": [
      "Enter your choice(1.biscuit , 2.chips , 3.RebBull , 4.Coke) 2\n"
     ]
    },
    {
     "name": "stdout",
     "output_type": "stream",
     "text": [
      "Take you chips\n",
      "You dont have enough balance in your wallet\n"
     ]
    }
   ],
   "source": [
    "\"\"\"\n",
    "Vending Machine Problem\n",
    "\"\"\"\n",
    "\n",
    "money_in_hand = 20\n",
    "while money_in_hand >= 5 :\n",
    "    print(money_in_hand)\n",
    "    choice = int(input(\"Enter your choice(1.biscuit , 2.chips , 3.RebBull , 4.Coke)\"))\n",
    "    if choice == 1 :\n",
    "        print(\"Take your biscuit\")\n",
    "        money_in_hand = money_in_hand - 4\n",
    "    elif choice == 2 :\n",
    "        print(\"Take you chips\")\n",
    "        money_in_hand = money_in_hand - 5\n",
    "    elif choice == 3 :\n",
    "        print(\"Take your Redbull\")\n",
    "        money_in_hand = money_in_hand - 10\n",
    "    elif choice == 4 :\n",
    "        print(\"Take your Cole\")\n",
    "        money_in_hand = money_in_hand - 8\n",
    "    else:\n",
    "        print(\"you have not entered the correct choice\")\n",
    "print(\"You dont have enough balance in your wallet\")"
   ]
  },
  {
   "cell_type": "code",
   "execution_count": 13,
   "id": "d20a9a13-a853-4cd7-92f6-4a8b47390b02",
   "metadata": {},
   "outputs": [
    {
     "name": "stdout",
     "output_type": "stream",
     "text": [
      "5\n",
      "4\n",
      "3\n",
      "2\n",
      "1\n",
      "Break Time is Over\n"
     ]
    }
   ],
   "source": [
    "import time\n",
    "s = 5\n",
    "while s > 0:\n",
    "    print(s)\n",
    "    time.sleep(1)\n",
    "    s = s - 1\n",
    "print(\"Break Time is Over\")"
   ]
  },
  {
   "cell_type": "code",
   "execution_count": 16,
   "id": "9457fe87-31b5-4d26-8d21-3813d91aa45e",
   "metadata": {},
   "outputs": [
    {
     "name": "stdout",
     "output_type": "stream",
     "text": [
      "Enter s to stop the timer\n"
     ]
    },
    {
     "name": "stdin",
     "output_type": "stream",
     "text": [
      "Enter s for stop d\n"
     ]
    },
    {
     "name": "stdout",
     "output_type": "stream",
     "text": [
      "Enter s to stop the timer\n"
     ]
    },
    {
     "name": "stdin",
     "output_type": "stream",
     "text": [
      "Enter s for stop h\n"
     ]
    },
    {
     "name": "stdout",
     "output_type": "stream",
     "text": [
      "Enter s to stop the timer\n"
     ]
    },
    {
     "name": "stdin",
     "output_type": "stream",
     "text": [
      "Enter s for stop e\n"
     ]
    },
    {
     "name": "stdout",
     "output_type": "stream",
     "text": [
      "Enter s to stop the timer\n"
     ]
    },
    {
     "name": "stdin",
     "output_type": "stream",
     "text": [
      "Enter s for stop d\n"
     ]
    },
    {
     "name": "stdout",
     "output_type": "stream",
     "text": [
      "Enter s to stop the timer\n"
     ]
    },
    {
     "name": "stdin",
     "output_type": "stream",
     "text": [
      "Enter s for stop s\n"
     ]
    },
    {
     "name": "stdout",
     "output_type": "stream",
     "text": [
      "Start the class break is over\n"
     ]
    }
   ],
   "source": [
    "import time\n",
    "stop = False\n",
    "while not stop :\n",
    "    print(\"Enter s to stop the timer\")\n",
    "    time.sleep(1)\n",
    "    press_stop = input(\"Enter s for stop\")\n",
    "    \n",
    "    if press_stop.lower() == 's' :\n",
    "        stop = True\n",
    "print(\"Start the class break is over\")"
   ]
  },
  {
   "cell_type": "code",
   "execution_count": 3,
   "id": "79eadd36-3cac-4fc2-b665-93c0a06897e7",
   "metadata": {},
   "outputs": [
    {
     "name": "stdin",
     "output_type": "stream",
     "text": [
      "Enter The user id Abhinav\n",
      "Enter the password adfsdf\n",
      "Enter the password sdf\n",
      "Enter the password sdf\n"
     ]
    },
    {
     "name": "stdout",
     "output_type": "stream",
     "text": [
      "Account has been locked for 24 hours\n"
     ]
    }
   ],
   "source": [
    "Actual_id = \"Abhinav\"\n",
    "Actuall_Passowrd = \"abh123456\"\n",
    "Actual_id_check = False\n",
    "maximum_attempts = 1\n",
    "used_id = input(\"Enter The user id\")\n",
    "while maximum_attempts <= 3: \n",
    "    if used_id == Actual_id :\n",
    "        Actual_id_check = True\n",
    "    else:\n",
    "        print(\"Your user id is incorrect, Please try again\")\n",
    "        break\n",
    "    if Actual_id_check == True :\n",
    "        passowrd = input(\"Enter the password\")\n",
    "        if passowrd == Actuall_Passowrd :\n",
    "            print(\"Logged in successfully\")\n",
    "            break\n",
    "        maximum_attempts = maximum_attempts + 1 \n",
    "if   maximum_attempts > 3 :\n",
    "    print(\"Account has been locked for 24 hours\")"
   ]
  },
  {
   "cell_type": "code",
   "execution_count": 15,
   "id": "dd52e1ba-5ec4-407b-bdaa-f2f77869ff95",
   "metadata": {},
   "outputs": [
    {
     "name": "stdin",
     "output_type": "stream",
     "text": [
      "Enter The Task skjdrfnkjdsf\n",
      "Press n to continue or y to break n\n",
      "Enter The Task sfd\n",
      "Press n to continue or y to break n\n",
      "Enter The Task sdf\n",
      "Press n to continue or y to break n\n",
      "Enter The Task dfgdg\n",
      "Press n to continue or y to break y\n"
     ]
    },
    {
     "name": "stdout",
     "output_type": "stream",
     "text": [
      "my todo list is  ['skjdrfnkjdsf', 'sfd', 'sdf', 'dfgdg']\n"
     ]
    }
   ],
   "source": [
    "todo_list = []\n",
    "end_of_list = 'n'\n",
    "while end_of_list != 'y' :\n",
    "    todo_item = input(\"Enter The Task\")\n",
    "    todo_list.append(todo_item)\n",
    "    end_of_list = input(\"Press n to continue or y to break\")\n",
    "print(\"my todo list is \", todo_list)"
   ]
  },
  {
   "cell_type": "code",
   "execution_count": 16,
   "id": "8fe08486-127e-4bdf-b8b5-327769b2ce63",
   "metadata": {},
   "outputs": [],
   "source": [
    "def fact(n) :\n",
    "    if n == 0 :\n",
    "        return 1\n",
    "    else :\n",
    "        return n * fact(n-1)"
   ]
  },
  {
   "cell_type": "code",
   "execution_count": 17,
   "id": "fa7be916-eec1-44fe-992c-3b22682385f0",
   "metadata": {},
   "outputs": [
    {
     "data": {
      "text/plain": [
       "120"
      ]
     },
     "execution_count": 17,
     "metadata": {},
     "output_type": "execute_result"
    }
   ],
   "source": [
    "fact(5)"
   ]
  },
  {
   "cell_type": "code",
   "execution_count": 30,
   "id": "ed0bacfb-bc0d-4240-8232-dd786159e4d2",
   "metadata": {},
   "outputs": [],
   "source": [
    "def fib(n):\n",
    "    if n<=1:\n",
    "        return n\n",
    "    else :\n",
    "        return fib(n-2) + fib(n-1)"
   ]
  },
  {
   "cell_type": "code",
   "execution_count": 31,
   "id": "c133b801-317c-48a1-be7d-13a004db2879",
   "metadata": {},
   "outputs": [
    {
     "data": {
      "text/plain": [
       "5"
      ]
     },
     "execution_count": 31,
     "metadata": {},
     "output_type": "execute_result"
    }
   ],
   "source": [
    "fib(5)"
   ]
  },
  {
   "cell_type": "code",
   "execution_count": 10,
   "id": "d8058477-d508-4af9-bd90-7814ded3123d",
   "metadata": {},
   "outputs": [],
   "source": [
    "# Without Recursion\n",
    "def SumOfDigit(n) :\n",
    "    sum = 0\n",
    "    while n != 0 :\n",
    "        d = n % 10\n",
    "        sum = sum + d\n",
    "        n = n//10     #// -> Floor Division\n",
    "    print(int(sum))"
   ]
  },
  {
   "cell_type": "code",
   "execution_count": 11,
   "id": "027b786b-fa8b-4f88-96d9-cf76c049554c",
   "metadata": {},
   "outputs": [
    {
     "name": "stdout",
     "output_type": "stream",
     "text": [
      "15\n"
     ]
    }
   ],
   "source": [
    "SumOfDigit(456)"
   ]
  },
  {
   "cell_type": "code",
   "execution_count": 12,
   "id": "547e86b3-7749-4e08-bf39-ca6c42c043a8",
   "metadata": {},
   "outputs": [],
   "source": [
    "# With Recursion\n",
    "def SumDigit(n) :\n",
    "    if n <= 9:\n",
    "        return n\n",
    "    else:\n",
    "        return n % 10 + SumDigit(n//10)"
   ]
  },
  {
   "cell_type": "code",
   "execution_count": 15,
   "id": "fcc5c25f-5e2c-4d39-bc83-f35dd73fb0c0",
   "metadata": {},
   "outputs": [
    {
     "data": {
      "text/plain": [
       "25"
      ]
     },
     "execution_count": 15,
     "metadata": {},
     "output_type": "execute_result"
    }
   ],
   "source": [
    "SumDigit(1234456)"
   ]
  },
  {
   "cell_type": "code",
   "execution_count": 17,
   "id": "db981ce4-b7ab-4187-9062-5a61bcbd5896",
   "metadata": {},
   "outputs": [
    {
     "data": {
      "text/plain": [
       "7"
      ]
     },
     "execution_count": 17,
     "metadata": {},
     "output_type": "execute_result"
    }
   ],
   "source": [
    "# Without Recursion Findout the maximum number in a given list\n",
    "l =[2,5,7,3]\n",
    "max(l)"
   ]
  },
  {
   "cell_type": "code",
   "execution_count": 1,
   "id": "dcff2aab-66b4-4789-aa26-0fbb9a502e8e",
   "metadata": {},
   "outputs": [],
   "source": [
    "# With Recursion Findout the maximum number in a given list\n",
    "def max_find(l):\n",
    "    if len(l) == 1:\n",
    "        return l[0]\n",
    "    else :\n",
    "        return max(l[0],max_find(l[1:]))\n",
    "        "
   ]
  },
  {
   "cell_type": "code",
   "execution_count": 2,
   "id": "19784bea-8426-49bf-84b7-9923a0444aea",
   "metadata": {},
   "outputs": [
    {
     "data": {
      "text/plain": [
       "9"
      ]
     },
     "execution_count": 2,
     "metadata": {},
     "output_type": "execute_result"
    }
   ],
   "source": [
    "max_find([1,5,9,3,5])"
   ]
  },
  {
   "cell_type": "code",
   "execution_count": 3,
   "id": "2b1adcea-7911-409e-9282-4b50841a4de3",
   "metadata": {},
   "outputs": [
    {
     "data": {
      "text/plain": [
       "25"
      ]
     },
     "execution_count": 3,
     "metadata": {},
     "output_type": "execute_result"
    }
   ],
   "source": [
    "5**2"
   ]
  },
  {
   "cell_type": "code",
   "execution_count": 4,
   "id": "382256f2-c055-4fda-88d0-22b1f46d98ee",
   "metadata": {},
   "outputs": [
    {
     "data": {
      "text/plain": [
       "3125"
      ]
     },
     "execution_count": 4,
     "metadata": {},
     "output_type": "execute_result"
    }
   ],
   "source": [
    "5**5"
   ]
  },
  {
   "cell_type": "code",
   "execution_count": 5,
   "id": "9216e3bf-04b8-4584-ae76-02b51da30696",
   "metadata": {},
   "outputs": [
    {
     "data": {
      "text/plain": [
       "3125"
      ]
     },
     "execution_count": 5,
     "metadata": {},
     "output_type": "execute_result"
    }
   ],
   "source": [
    "pow(5,5)"
   ]
  },
  {
   "cell_type": "code",
   "execution_count": 8,
   "id": "3d513420-529d-4730-b783-ff2fd91b55d7",
   "metadata": {},
   "outputs": [],
   "source": [
    "# With recurion calculate the power of a given number\n",
    "def power_fun(n, k):\n",
    "    if k == 0:\n",
    "        return 1\n",
    "    else :\n",
    "        return n * power_fun(n, k-1)"
   ]
  },
  {
   "cell_type": "code",
   "execution_count": 9,
   "id": "b46f9804-26b2-4056-a374-862497ae9ec6",
   "metadata": {},
   "outputs": [
    {
     "data": {
      "text/plain": [
       "6561"
      ]
     },
     "execution_count": 9,
     "metadata": {},
     "output_type": "execute_result"
    }
   ],
   "source": [
    "power_fun(3,8)"
   ]
  },
  {
   "cell_type": "code",
   "execution_count": 10,
   "id": "4fe2b9a3-442c-4536-bec2-2b15f1024a9f",
   "metadata": {},
   "outputs": [
    {
     "data": {
      "text/plain": [
       "16"
      ]
     },
     "execution_count": 10,
     "metadata": {},
     "output_type": "execute_result"
    }
   ],
   "source": [
    "power_fun(2,4)"
   ]
  },
  {
   "cell_type": "code",
   "execution_count": 11,
   "id": "3020900a-3d46-4b19-8e17-f96036271689",
   "metadata": {},
   "outputs": [
    {
     "data": {
      "text/plain": [
       "7"
      ]
     },
     "execution_count": 11,
     "metadata": {},
     "output_type": "execute_result"
    }
   ],
   "source": [
    "# Without Recursion calculate the length of a string\n",
    "s = \"Abhinav\"\n",
    "len(s)"
   ]
  },
  {
   "cell_type": "code",
   "execution_count": 12,
   "id": "90d07302-ff6a-4627-ad91-675809d047f2",
   "metadata": {},
   "outputs": [],
   "source": [
    "# With Recursion calculate the length of a string\n",
    "def find_len(s):\n",
    "    if s == \"\":\n",
    "        return 0\n",
    "    else :\n",
    "        return 1 + find_len(s[1:])"
   ]
  },
  {
   "cell_type": "code",
   "execution_count": 13,
   "id": "c6bc2788-08b6-4360-9f09-6df0607107f0",
   "metadata": {},
   "outputs": [
    {
     "data": {
      "text/plain": [
       "7"
      ]
     },
     "execution_count": 13,
     "metadata": {},
     "output_type": "execute_result"
    }
   ],
   "source": [
    "find_len(\"Abhinav\")"
   ]
  },
  {
   "cell_type": "code",
   "execution_count": 14,
   "id": "e29c5e53-6a90-4926-94f5-6b34742f0628",
   "metadata": {},
   "outputs": [
    {
     "data": {
      "text/plain": [
       "3"
      ]
     },
     "execution_count": 14,
     "metadata": {},
     "output_type": "execute_result"
    }
   ],
   "source": [
    "find_len(\"DSU\")"
   ]
  },
  {
   "cell_type": "code",
   "execution_count": 15,
   "id": "77212ef0-ad4d-46fd-bceb-10ebbe9b4608",
   "metadata": {},
   "outputs": [
    {
     "data": {
      "text/plain": [
       "'vanihbA'"
      ]
     },
     "execution_count": 15,
     "metadata": {},
     "output_type": "execute_result"
    }
   ],
   "source": [
    "# Without Recursion if we have to reverse the string\n",
    "s[::-1]"
   ]
  },
  {
   "cell_type": "code",
   "execution_count": 16,
   "id": "ec0947d4-1285-4916-b1a0-bf7500623024",
   "metadata": {},
   "outputs": [],
   "source": [
    "# With recursion revrsal of a string\n",
    "def find_reverse(s):\n",
    "    if s == \"\":\n",
    "        return \"\"\n",
    "    else :\n",
    "        return find_reverse(s[1:]) + s[0]\n",
    "    "
   ]
  },
  {
   "cell_type": "code",
   "execution_count": 17,
   "id": "eb8fc370-6bc1-4498-9e28-fa1597b3445c",
   "metadata": {},
   "outputs": [
    {
     "data": {
      "text/plain": [
       "'USD'"
      ]
     },
     "execution_count": 17,
     "metadata": {},
     "output_type": "execute_result"
    }
   ],
   "source": [
    "find_reverse(\"DSU\")"
   ]
  },
  {
   "cell_type": "code",
   "execution_count": 18,
   "id": "77c6171b-57b8-4398-bae3-92effb1d7f2e",
   "metadata": {},
   "outputs": [
    {
     "data": {
      "text/plain": [
       "'sllikswp'"
      ]
     },
     "execution_count": 18,
     "metadata": {},
     "output_type": "execute_result"
    }
   ],
   "source": [
    "find_reverse(\"pwskills\")"
   ]
  },
  {
   "cell_type": "code",
   "execution_count": 2,
   "id": "fdf6c72c-b673-479a-9fcb-f46241284107",
   "metadata": {},
   "outputs": [],
   "source": [
    "def find_char_count(s,c) :\n",
    "    if s==\"\":\n",
    "        return 0\n",
    "    elif s[0] == c:\n",
    "        return 1 + find_char_count(s[1:],c)\n",
    "    else :\n",
    "        return find_char_count(s[1:],c)"
   ]
  },
  {
   "cell_type": "code",
   "execution_count": 3,
   "id": "c60dce9b-ecbd-4b76-b518-3845af44e0b8",
   "metadata": {},
   "outputs": [
    {
     "data": {
      "text/plain": [
       "2"
      ]
     },
     "execution_count": 3,
     "metadata": {},
     "output_type": "execute_result"
    }
   ],
   "source": [
    "find_char_count(\"abhinav\",'a')"
   ]
  },
  {
   "cell_type": "code",
   "execution_count": 3,
   "id": "0bbc05d7-1db2-4182-bc7f-504a8d7a8798",
   "metadata": {},
   "outputs": [],
   "source": [
    "l = [4,5,6,3,4,5,6,6,7]"
   ]
  },
  {
   "cell_type": "code",
   "execution_count": 4,
   "id": "ddbccb34-2394-4e6f-9549-a5c2676445bc",
   "metadata": {},
   "outputs": [],
   "source": [
    "# Given a list using recurssion we need to check whether the list is sorted in the ascending order or not\n",
    "# Outcome of this problem statement should be in boolean(True/False)\n",
    "def check_sort_list(l):\n",
    "    if len(l)<=1 :\n",
    "        return True\n",
    "    elif l[0] > l[1]:\n",
    "        return False\n",
    "    else :\n",
    "        return check_sort_list(l[1:])"
   ]
  },
  {
   "cell_type": "code",
   "execution_count": 5,
   "id": "562695c7-2785-4ee9-a182-b882d934c365",
   "metadata": {},
   "outputs": [
    {
     "data": {
      "text/plain": [
       "False"
      ]
     },
     "execution_count": 5,
     "metadata": {},
     "output_type": "execute_result"
    }
   ],
   "source": [
    "check_sort_list(l)"
   ]
  },
  {
   "cell_type": "code",
   "execution_count": 3,
   "id": "9f93947c-3f76-465e-93b8-a2f9e9360b20",
   "metadata": {},
   "outputs": [],
   "source": [
    "# Write a program to check if a given number is a perfect square or not using recursion.\n",
    "def check_per_square(n,start = 1):\n",
    "    if n == start ** 2:\n",
    "        return True\n",
    "    elif n < start ** 2:\n",
    "        return False\n",
    "    else:\n",
    "        return check_per_square(n, start+1)"
   ]
  },
  {
   "cell_type": "code",
   "execution_count": 5,
   "id": "1033eade-438f-42e0-b3a7-11f7c4b451a2",
   "metadata": {},
   "outputs": [
    {
     "data": {
      "text/plain": [
       "False"
      ]
     },
     "execution_count": 5,
     "metadata": {},
     "output_type": "execute_result"
    }
   ],
   "source": [
    "check_per_square(8)"
   ]
  },
  {
   "cell_type": "code",
   "execution_count": 9,
   "id": "0a94633f-0ce5-4d6b-99bb-ceb5f986e33a",
   "metadata": {},
   "outputs": [],
   "source": [
    "#iterator and iterables\n",
    "l = [2,3,4,5,6]\n",
    "a = 10\n",
    "s = \"Sudh\" "
   ]
  },
  {
   "cell_type": "code",
   "execution_count": 7,
   "id": "d6dc3b49-0253-4e2b-bdf4-01eeb7dc07fe",
   "metadata": {},
   "outputs": [
    {
     "name": "stdout",
     "output_type": "stream",
     "text": [
      "2\n",
      "3\n",
      "4\n",
      "5\n",
      "6\n"
     ]
    }
   ],
   "source": [
    "for i in l :\n",
    "    print(i)"
   ]
  },
  {
   "cell_type": "code",
   "execution_count": 8,
   "id": "a7d72651-497f-45b9-b2b6-9ba0888a4f88",
   "metadata": {},
   "outputs": [
    {
     "name": "stdout",
     "output_type": "stream",
     "text": [
      "S\n",
      "u\n",
      "d\n",
      "h\n"
     ]
    }
   ],
   "source": [
    "for i in s :\n",
    "    print(i)"
   ]
  },
  {
   "cell_type": "code",
   "execution_count": 9,
   "id": "337d65e5-c127-44bc-9b5a-431eee7d28da",
   "metadata": {},
   "outputs": [
    {
     "ename": "TypeError",
     "evalue": "'int' object is not iterable",
     "output_type": "error",
     "traceback": [
      "\u001b[0;31m---------------------------------------------------------------------------\u001b[0m",
      "\u001b[0;31mTypeError\u001b[0m                                 Traceback (most recent call last)",
      "Cell \u001b[0;32mIn[9], line 1\u001b[0m\n\u001b[0;32m----> 1\u001b[0m \u001b[38;5;28;01mfor\u001b[39;00m i \u001b[38;5;129;01min\u001b[39;00m a :\n\u001b[1;32m      2\u001b[0m     \u001b[38;5;28mprint\u001b[39m(i)\n",
      "\u001b[0;31mTypeError\u001b[0m: 'int' object is not iterable"
     ]
    }
   ],
   "source": [
    "for i in a :\n",
    "    print(i)"
   ]
  },
  {
   "cell_type": "code",
   "execution_count": 10,
   "id": "8cea48f6-9af5-438a-8b17-b53b05ddd38a",
   "metadata": {},
   "outputs": [
    {
     "ename": "TypeError",
     "evalue": "'int' object is not iterable",
     "output_type": "error",
     "traceback": [
      "\u001b[0;31m---------------------------------------------------------------------------\u001b[0m",
      "\u001b[0;31mTypeError\u001b[0m                                 Traceback (most recent call last)",
      "Cell \u001b[0;32mIn[10], line 1\u001b[0m\n\u001b[0;32m----> 1\u001b[0m \u001b[38;5;28;43miter\u001b[39;49m\u001b[43m(\u001b[49m\u001b[38;5;241;43m10\u001b[39;49m\u001b[43m)\u001b[49m\n",
      "\u001b[0;31mTypeError\u001b[0m: 'int' object is not iterable"
     ]
    }
   ],
   "source": [
    "iter(10)"
   ]
  },
  {
   "cell_type": "code",
   "execution_count": 12,
   "id": "33e3bc32-7579-41c4-b6b8-6c312a3d8de6",
   "metadata": {},
   "outputs": [],
   "source": [
    "s1  = iter(\"Abhi\")"
   ]
  },
  {
   "cell_type": "code",
   "execution_count": 13,
   "id": "3c71ffd4-e34e-4115-8a00-8f6887e67be6",
   "metadata": {},
   "outputs": [
    {
     "data": {
      "text/plain": [
       "<str_iterator at 0x7f32783c9960>"
      ]
     },
     "execution_count": 13,
     "metadata": {},
     "output_type": "execute_result"
    }
   ],
   "source": [
    "s1"
   ]
  },
  {
   "cell_type": "code",
   "execution_count": 14,
   "id": "1ad4914d-5143-44ca-8c8a-f4a2b164aee0",
   "metadata": {},
   "outputs": [
    {
     "data": {
      "text/plain": [
       "'A'"
      ]
     },
     "execution_count": 14,
     "metadata": {},
     "output_type": "execute_result"
    }
   ],
   "source": [
    "next(s1)"
   ]
  },
  {
   "cell_type": "code",
   "execution_count": 15,
   "id": "b877377a-153c-4a84-a32c-f36591590e06",
   "metadata": {},
   "outputs": [
    {
     "data": {
      "text/plain": [
       "'b'"
      ]
     },
     "execution_count": 15,
     "metadata": {},
     "output_type": "execute_result"
    }
   ],
   "source": [
    "next(s1)"
   ]
  },
  {
   "cell_type": "code",
   "execution_count": 16,
   "id": "9fe1aa8b-fa41-47f7-b43c-08a66c9e38be",
   "metadata": {},
   "outputs": [
    {
     "data": {
      "text/plain": [
       "'h'"
      ]
     },
     "execution_count": 16,
     "metadata": {},
     "output_type": "execute_result"
    }
   ],
   "source": [
    "next(s1)"
   ]
  },
  {
   "cell_type": "code",
   "execution_count": 17,
   "id": "8be90da0-9224-452b-ac93-3c116dac3f08",
   "metadata": {},
   "outputs": [
    {
     "data": {
      "text/plain": [
       "'i'"
      ]
     },
     "execution_count": 17,
     "metadata": {},
     "output_type": "execute_result"
    }
   ],
   "source": [
    "next(s1)"
   ]
  },
  {
   "cell_type": "code",
   "execution_count": 18,
   "id": "f72b2cc4-9c05-4153-84fa-7a1c2d6627a3",
   "metadata": {},
   "outputs": [
    {
     "ename": "StopIteration",
     "evalue": "",
     "output_type": "error",
     "traceback": [
      "\u001b[0;31m---------------------------------------------------------------------------\u001b[0m",
      "\u001b[0;31mStopIteration\u001b[0m                             Traceback (most recent call last)",
      "Cell \u001b[0;32mIn[18], line 1\u001b[0m\n\u001b[0;32m----> 1\u001b[0m \u001b[38;5;28;43mnext\u001b[39;49m\u001b[43m(\u001b[49m\u001b[43ms1\u001b[49m\u001b[43m)\u001b[49m\n",
      "\u001b[0;31mStopIteration\u001b[0m: "
     ]
    }
   ],
   "source": [
    "next(s1)"
   ]
  },
  {
   "cell_type": "code",
   "execution_count": 19,
   "id": "5bc6fbd2-7c7f-4ce3-be77-20aeb282572e",
   "metadata": {},
   "outputs": [],
   "source": [
    "s2 = \"pwskills\""
   ]
  },
  {
   "cell_type": "code",
   "execution_count": 20,
   "id": "5a8ba108-29ed-47c9-810a-5b7254943822",
   "metadata": {},
   "outputs": [
    {
     "ename": "TypeError",
     "evalue": "'str' object is not an iterator",
     "output_type": "error",
     "traceback": [
      "\u001b[0;31m---------------------------------------------------------------------------\u001b[0m",
      "\u001b[0;31mTypeError\u001b[0m                                 Traceback (most recent call last)",
      "Cell \u001b[0;32mIn[20], line 1\u001b[0m\n\u001b[0;32m----> 1\u001b[0m \u001b[38;5;28;43mnext\u001b[39;49m\u001b[43m(\u001b[49m\u001b[43ms2\u001b[49m\u001b[43m)\u001b[49m\n",
      "\u001b[0;31mTypeError\u001b[0m: 'str' object is not an iterator"
     ]
    }
   ],
   "source": [
    "next(s2)"
   ]
  },
  {
   "cell_type": "code",
   "execution_count": 22,
   "id": "6744115f-2a20-4aa5-ade3-87ea86ce13a9",
   "metadata": {},
   "outputs": [
    {
     "name": "stdout",
     "output_type": "stream",
     "text": [
      "p\n",
      "w\n",
      "s\n",
      "k\n",
      "i\n",
      "l\n",
      "l\n",
      "s\n"
     ]
    }
   ],
   "source": [
    "for i in s2 :\n",
    "    print(i)"
   ]
  },
  {
   "cell_type": "code",
   "execution_count": 23,
   "id": "7bfd22fa-9db7-4b86-ac79-6dde5d02c2d2",
   "metadata": {},
   "outputs": [
    {
     "ename": "TypeError",
     "evalue": "'int' object is not iterable",
     "output_type": "error",
     "traceback": [
      "\u001b[0;31m---------------------------------------------------------------------------\u001b[0m",
      "\u001b[0;31mTypeError\u001b[0m                                 Traceback (most recent call last)",
      "Cell \u001b[0;32mIn[23], line 1\u001b[0m\n\u001b[0;32m----> 1\u001b[0m \u001b[38;5;28;43miter\u001b[39;49m\u001b[43m(\u001b[49m\u001b[38;5;241;43m10\u001b[39;49m\u001b[43m)\u001b[49m\n",
      "\u001b[0;31mTypeError\u001b[0m: 'int' object is not iterable"
     ]
    }
   ],
   "source": [
    "iter(10)"
   ]
  },
  {
   "cell_type": "code",
   "execution_count": 24,
   "id": "fd5ef6e4-1186-41ee-858b-515d7787e4b7",
   "metadata": {},
   "outputs": [
    {
     "data": {
      "text/plain": [
       "<list_iterator at 0x7f3278421ea0>"
      ]
     },
     "execution_count": 24,
     "metadata": {},
     "output_type": "execute_result"
    }
   ],
   "source": [
    "iter([1,2,3,4,5])"
   ]
  },
  {
   "cell_type": "code",
   "execution_count": 1,
   "id": "29fb8380-2f62-4a0f-b00a-8fd981425169",
   "metadata": {},
   "outputs": [],
   "source": [
    "l = iter([1,2,3,4,5])"
   ]
  },
  {
   "cell_type": "code",
   "execution_count": 2,
   "id": "2c0dadaf-ef55-410a-8c30-281abcf77bf3",
   "metadata": {},
   "outputs": [
    {
     "data": {
      "text/plain": [
       "1"
      ]
     },
     "execution_count": 2,
     "metadata": {},
     "output_type": "execute_result"
    }
   ],
   "source": [
    "next(l)"
   ]
  },
  {
   "cell_type": "code",
   "execution_count": 3,
   "id": "de7163c4-a754-47d2-94c5-1ab0829dc633",
   "metadata": {},
   "outputs": [
    {
     "data": {
      "text/plain": [
       "2"
      ]
     },
     "execution_count": 3,
     "metadata": {},
     "output_type": "execute_result"
    }
   ],
   "source": [
    "next(l)"
   ]
  },
  {
   "cell_type": "code",
   "execution_count": 4,
   "id": "6e0c2433-8735-4a20-91b3-e499b81ccf6d",
   "metadata": {},
   "outputs": [
    {
     "data": {
      "text/plain": [
       "3"
      ]
     },
     "execution_count": 4,
     "metadata": {},
     "output_type": "execute_result"
    }
   ],
   "source": [
    "next(l)"
   ]
  },
  {
   "cell_type": "code",
   "execution_count": 5,
   "id": "1a6df8af-51b5-4e28-8768-78449ad8a09b",
   "metadata": {},
   "outputs": [
    {
     "data": {
      "text/plain": [
       "4"
      ]
     },
     "execution_count": 5,
     "metadata": {},
     "output_type": "execute_result"
    }
   ],
   "source": [
    "next(l)"
   ]
  },
  {
   "cell_type": "code",
   "execution_count": 6,
   "id": "98e9db58-00cb-4049-ba05-33df56a7839a",
   "metadata": {},
   "outputs": [
    {
     "data": {
      "text/plain": [
       "5"
      ]
     },
     "execution_count": 6,
     "metadata": {},
     "output_type": "execute_result"
    }
   ],
   "source": [
    "next(l)"
   ]
  },
  {
   "cell_type": "code",
   "execution_count": 7,
   "id": "9f2c7258-5cda-4e96-9c96-b3c3d2bb1343",
   "metadata": {},
   "outputs": [
    {
     "ename": "StopIteration",
     "evalue": "",
     "output_type": "error",
     "traceback": [
      "\u001b[0;31m---------------------------------------------------------------------------\u001b[0m",
      "\u001b[0;31mStopIteration\u001b[0m                             Traceback (most recent call last)",
      "Cell \u001b[0;32mIn[7], line 1\u001b[0m\n\u001b[0;32m----> 1\u001b[0m \u001b[38;5;28;43mnext\u001b[39;49m\u001b[43m(\u001b[49m\u001b[43ml\u001b[49m\u001b[43m)\u001b[49m\n",
      "\u001b[0;31mStopIteration\u001b[0m: "
     ]
    }
   ],
   "source": [
    "next(l)"
   ]
  },
  {
   "cell_type": "code",
   "execution_count": 1,
   "id": "df1a2149-0ef4-4884-8665-2f7459e03658",
   "metadata": {},
   "outputs": [
    {
     "ename": "TypeError",
     "evalue": "'int' object is not iterable",
     "output_type": "error",
     "traceback": [
      "\u001b[0;31m---------------------------------------------------------------------------\u001b[0m",
      "\u001b[0;31mTypeError\u001b[0m                                 Traceback (most recent call last)",
      "Cell \u001b[0;32mIn[1], line 1\u001b[0m\n\u001b[0;32m----> 1\u001b[0m \u001b[38;5;28;01mfor\u001b[39;00m i \u001b[38;5;129;01min\u001b[39;00m \u001b[38;5;241m1234\u001b[39m :\n\u001b[1;32m      2\u001b[0m     \u001b[38;5;28mprint\u001b[39m(i)\n",
      "\u001b[0;31mTypeError\u001b[0m: 'int' object is not iterable"
     ]
    }
   ],
   "source": [
    "for i in 1234 :\n",
    "    print(i)"
   ]
  },
  {
   "cell_type": "code",
   "execution_count": 2,
   "id": "13a6d910-c705-48b0-ba50-ee65aefe9890",
   "metadata": {},
   "outputs": [
    {
     "name": "stdout",
     "output_type": "stream",
     "text": [
      "2\n",
      "3\n",
      "4\n",
      "5\n",
      "56\n"
     ]
    }
   ],
   "source": [
    "for i in {2,3,4,5,56} :\n",
    "    print(i)"
   ]
  },
  {
   "cell_type": "code",
   "execution_count": 3,
   "id": "f64b51a3-4297-4df1-b1cf-0737cd137f38",
   "metadata": {},
   "outputs": [
    {
     "data": {
      "text/plain": [
       "<set_iterator at 0x7fece40692c0>"
      ]
     },
     "execution_count": 3,
     "metadata": {},
     "output_type": "execute_result"
    }
   ],
   "source": [
    "iter({2,3,4,5,56})"
   ]
  },
  {
   "cell_type": "code",
   "execution_count": 4,
   "id": "ae3c7966-24c2-4252-a5b6-1970bb62d2c5",
   "metadata": {},
   "outputs": [
    {
     "name": "stdout",
     "output_type": "stream",
     "text": [
      "2\n",
      "3\n",
      "4\n",
      "5\n"
     ]
    }
   ],
   "source": [
    "for i in (2,3,4,5) :\n",
    "    print(i)"
   ]
  },
  {
   "cell_type": "code",
   "execution_count": 5,
   "id": "b1b7265b-47cf-4764-99db-3e43619b52c7",
   "metadata": {},
   "outputs": [
    {
     "data": {
      "text/plain": [
       "<tuple_iterator at 0x7feccdd30910>"
      ]
     },
     "execution_count": 5,
     "metadata": {},
     "output_type": "execute_result"
    }
   ],
   "source": [
    "iter((2,3,4,5))"
   ]
  },
  {
   "cell_type": "code",
   "execution_count": 6,
   "id": "65e0b998-1cf5-409d-8f9b-d0afd4356d6b",
   "metadata": {},
   "outputs": [
    {
     "ename": "TypeError",
     "evalue": "'bool' object is not iterable",
     "output_type": "error",
     "traceback": [
      "\u001b[0;31m---------------------------------------------------------------------------\u001b[0m",
      "\u001b[0;31mTypeError\u001b[0m                                 Traceback (most recent call last)",
      "Cell \u001b[0;32mIn[6], line 1\u001b[0m\n\u001b[0;32m----> 1\u001b[0m \u001b[38;5;28;43miter\u001b[39;49m\u001b[43m(\u001b[49m\u001b[38;5;28;43;01mTrue\u001b[39;49;00m\u001b[43m)\u001b[49m\n",
      "\u001b[0;31mTypeError\u001b[0m: 'bool' object is not iterable"
     ]
    }
   ],
   "source": [
    "iter(True)"
   ]
  },
  {
   "cell_type": "code",
   "execution_count": 7,
   "id": "2b9d0687-6511-44a9-b689-36d179adcab9",
   "metadata": {},
   "outputs": [],
   "source": [
    "d = iter({'key':\"fdsfss\"})"
   ]
  },
  {
   "cell_type": "code",
   "execution_count": 8,
   "id": "92b29ad6-428c-472b-8b54-410b309b9125",
   "metadata": {},
   "outputs": [
    {
     "data": {
      "text/plain": [
       "'key'"
      ]
     },
     "execution_count": 8,
     "metadata": {},
     "output_type": "execute_result"
    }
   ],
   "source": [
    "next(d)"
   ]
  },
  {
   "cell_type": "code",
   "execution_count": 10,
   "id": "38b4c7ea-a246-42f3-909d-53f9ff8acfcf",
   "metadata": {},
   "outputs": [
    {
     "data": {
      "text/plain": [
       "range(0, 5)"
      ]
     },
     "execution_count": 10,
     "metadata": {},
     "output_type": "execute_result"
    }
   ],
   "source": [
    "#Generator\n",
    "range(0,5)"
   ]
  },
  {
   "cell_type": "code",
   "execution_count": 11,
   "id": "9270f47b-9b21-4e3d-847e-ae242ad617ba",
   "metadata": {},
   "outputs": [
    {
     "data": {
      "text/plain": [
       "[0, 1, 2, 3, 4]"
      ]
     },
     "execution_count": 11,
     "metadata": {},
     "output_type": "execute_result"
    }
   ],
   "source": [
    "list(range(0,5))"
   ]
  },
  {
   "cell_type": "code",
   "execution_count": 12,
   "id": "98039ce1-b59b-4d32-b452-ae91f1621c5d",
   "metadata": {},
   "outputs": [
    {
     "name": "stdout",
     "output_type": "stream",
     "text": [
      "0\n",
      "1\n",
      "2\n",
      "3\n",
      "4\n"
     ]
    }
   ],
   "source": [
    "for i in range(0,5) :\n",
    "    print(i)"
   ]
  },
  {
   "cell_type": "code",
   "execution_count": 13,
   "id": "b477f047-7118-40c7-bde1-50c686fcaa21",
   "metadata": {},
   "outputs": [],
   "source": [
    "i = iter(range(0, 5))"
   ]
  },
  {
   "cell_type": "code",
   "execution_count": 14,
   "id": "0e76a6db-2fed-400e-974a-f4ff4a05923f",
   "metadata": {},
   "outputs": [
    {
     "data": {
      "text/plain": [
       "0"
      ]
     },
     "execution_count": 14,
     "metadata": {},
     "output_type": "execute_result"
    }
   ],
   "source": [
    "next(i)"
   ]
  },
  {
   "cell_type": "code",
   "execution_count": 15,
   "id": "c5ac7a7e-2c57-4524-ae8c-e89e513e5e0b",
   "metadata": {},
   "outputs": [
    {
     "data": {
      "text/plain": [
       "1"
      ]
     },
     "execution_count": 15,
     "metadata": {},
     "output_type": "execute_result"
    }
   ],
   "source": [
    "next(i)"
   ]
  },
  {
   "cell_type": "code",
   "execution_count": 16,
   "id": "f9d7cc97-7fc0-4c49-b2e6-15c7a9cd7a5a",
   "metadata": {},
   "outputs": [
    {
     "data": {
      "text/plain": [
       "2"
      ]
     },
     "execution_count": 16,
     "metadata": {},
     "output_type": "execute_result"
    }
   ],
   "source": [
    "next(i)"
   ]
  },
  {
   "cell_type": "code",
   "execution_count": 17,
   "id": "4b3c401d-0921-4a27-b80d-31463084aeaf",
   "metadata": {},
   "outputs": [
    {
     "data": {
      "text/plain": [
       "3"
      ]
     },
     "execution_count": 17,
     "metadata": {},
     "output_type": "execute_result"
    }
   ],
   "source": [
    "next(i)"
   ]
  },
  {
   "cell_type": "code",
   "execution_count": 18,
   "id": "c4d5e439-5afe-4508-8b43-b1b3bafb819a",
   "metadata": {},
   "outputs": [
    {
     "data": {
      "text/plain": [
       "4"
      ]
     },
     "execution_count": 18,
     "metadata": {},
     "output_type": "execute_result"
    }
   ],
   "source": [
    "next(i)"
   ]
  },
  {
   "cell_type": "code",
   "execution_count": 19,
   "id": "67e92ec5-8456-4054-9f72-9e886e58b3e1",
   "metadata": {},
   "outputs": [
    {
     "ename": "StopIteration",
     "evalue": "",
     "output_type": "error",
     "traceback": [
      "\u001b[0;31m---------------------------------------------------------------------------\u001b[0m",
      "\u001b[0;31mStopIteration\u001b[0m                             Traceback (most recent call last)",
      "Cell \u001b[0;32mIn[19], line 1\u001b[0m\n\u001b[0;32m----> 1\u001b[0m \u001b[38;5;28;43mnext\u001b[39;49m\u001b[43m(\u001b[49m\u001b[43mi\u001b[49m\u001b[43m)\u001b[49m\n",
      "\u001b[0;31mStopIteration\u001b[0m: "
     ]
    }
   ],
   "source": [
    "next(i)"
   ]
  },
  {
   "cell_type": "code",
   "execution_count": 1,
   "id": "0f884c68-9364-49cc-b4b8-fa4e10a1e059",
   "metadata": {},
   "outputs": [
    {
     "ename": "TypeError",
     "evalue": "'int' object is not iterable",
     "output_type": "error",
     "traceback": [
      "\u001b[0;31m---------------------------------------------------------------------------\u001b[0m",
      "\u001b[0;31mTypeError\u001b[0m                                 Traceback (most recent call last)",
      "Cell \u001b[0;32mIn[1], line 1\u001b[0m\n\u001b[0;32m----> 1\u001b[0m \u001b[38;5;28;01mfor\u001b[39;00m i \u001b[38;5;129;01min\u001b[39;00m \u001b[38;5;241m1234\u001b[39m:\n\u001b[1;32m      2\u001b[0m     \u001b[38;5;28mprint\u001b[39m(i)\n",
      "\u001b[0;31mTypeError\u001b[0m: 'int' object is not iterable"
     ]
    }
   ],
   "source": [
    "for i in 1234:\n",
    "    print(i)"
   ]
  },
  {
   "cell_type": "code",
   "execution_count": 5,
   "id": "71d42710-5fb3-49af-940c-1ecc4027eea6",
   "metadata": {},
   "outputs": [
    {
     "data": {
      "text/plain": [
       "range(0, 5)"
      ]
     },
     "execution_count": 5,
     "metadata": {},
     "output_type": "execute_result"
    }
   ],
   "source": [
    "range(0,5) #range is a kind of a generator function which retun an object"
   ]
  },
  {
   "cell_type": "code",
   "execution_count": 6,
   "id": "9acf26f3-e1aa-4c55-b152-426e63294779",
   "metadata": {},
   "outputs": [
    {
     "data": {
      "text/plain": [
       "4"
      ]
     },
     "execution_count": 6,
     "metadata": {},
     "output_type": "execute_result"
    }
   ],
   "source": [
    "len(\"abhi\")"
   ]
  },
  {
   "cell_type": "code",
   "execution_count": 7,
   "id": "81316563-a777-48da-a449-8ef9c7f2faf8",
   "metadata": {},
   "outputs": [],
   "source": [
    "def count_fun(n):\n",
    "    i = 1\n",
    "    while i<=n:\n",
    "        yield i\n",
    "        i = i + 1"
   ]
  },
  {
   "cell_type": "code",
   "execution_count": 8,
   "id": "4f8ccdc5-df79-4adf-b7f6-68274c14c9cb",
   "metadata": {},
   "outputs": [
    {
     "data": {
      "text/plain": [
       "<generator object count_fun at 0x7f24942a7220>"
      ]
     },
     "execution_count": 8,
     "metadata": {},
     "output_type": "execute_result"
    }
   ],
   "source": [
    "count_fun(9)"
   ]
  },
  {
   "cell_type": "code",
   "execution_count": 9,
   "id": "0e40bf2f-466a-4192-8783-c9086550ff97",
   "metadata": {},
   "outputs": [
    {
     "name": "stdout",
     "output_type": "stream",
     "text": [
      "1\n",
      "2\n",
      "3\n",
      "4\n",
      "5\n",
      "6\n",
      "7\n",
      "8\n",
      "9\n"
     ]
    }
   ],
   "source": [
    "for i in count_fun(9):\n",
    "    print(i)"
   ]
  },
  {
   "cell_type": "code",
   "execution_count": 10,
   "id": "457ad146-79cc-448f-904f-2300f108e900",
   "metadata": {},
   "outputs": [],
   "source": [
    "j = iter(count_fun(9))"
   ]
  },
  {
   "cell_type": "code",
   "execution_count": 11,
   "id": "90c8d99e-2416-4ce8-9302-7d9e1ac7947c",
   "metadata": {},
   "outputs": [
    {
     "data": {
      "text/plain": [
       "<generator object count_fun at 0x7f24942a7450>"
      ]
     },
     "execution_count": 11,
     "metadata": {},
     "output_type": "execute_result"
    }
   ],
   "source": [
    "j"
   ]
  },
  {
   "cell_type": "code",
   "execution_count": 12,
   "id": "450ab6a8-71df-4da8-8a6b-ab0239fd4329",
   "metadata": {},
   "outputs": [
    {
     "data": {
      "text/plain": [
       "1"
      ]
     },
     "execution_count": 12,
     "metadata": {},
     "output_type": "execute_result"
    }
   ],
   "source": [
    "next(j)"
   ]
  },
  {
   "cell_type": "code",
   "execution_count": 13,
   "id": "22e18224-f3a9-4e65-9c3e-40bacf71ce35",
   "metadata": {},
   "outputs": [
    {
     "data": {
      "text/plain": [
       "2"
      ]
     },
     "execution_count": 13,
     "metadata": {},
     "output_type": "execute_result"
    }
   ],
   "source": [
    "next(j)"
   ]
  },
  {
   "cell_type": "code",
   "execution_count": 14,
   "id": "f9a3ab95-b2c7-43f7-bf5d-d916b92e9a18",
   "metadata": {},
   "outputs": [
    {
     "data": {
      "text/plain": [
       "3"
      ]
     },
     "execution_count": 14,
     "metadata": {},
     "output_type": "execute_result"
    }
   ],
   "source": [
    "next(j)"
   ]
  },
  {
   "cell_type": "code",
   "execution_count": 1,
   "id": "0935495c-7e9c-469c-8e2c-9cd6b2fba027",
   "metadata": {},
   "outputs": [],
   "source": [
    "def fib(n):\n",
    "    a,b = 0,1\n",
    "    for i in range(n):\n",
    "        yield a\n",
    "        a,b = b, a+b"
   ]
  },
  {
   "cell_type": "code",
   "execution_count": 3,
   "id": "09cf80ab-436b-4ff6-b665-7ea2d50e7678",
   "metadata": {},
   "outputs": [
    {
     "name": "stdout",
     "output_type": "stream",
     "text": [
      "0\n",
      "1\n",
      "1\n",
      "2\n",
      "3\n",
      "5\n",
      "8\n",
      "13\n",
      "21\n"
     ]
    }
   ],
   "source": [
    "for i in fib(9):\n",
    "    print(i)"
   ]
  },
  {
   "cell_type": "code",
   "execution_count": 4,
   "id": "3d3777c0-5ec0-4b59-9560-0f09e2468cea",
   "metadata": {},
   "outputs": [
    {
     "name": "stdout",
     "output_type": "stream",
     "text": [
      " 19th_August_Python_Basics.ipynb\n",
      "'1.Python Basic variables.ipynb'\n",
      " 20th_August_Python_Basics_Practice_Test.ipynb\n",
      " 2.PythonBasicDataype.ipynb\n",
      " 3.Pyhton_3rdClasss.ipynb\n",
      " 4.loops.ipynb\n",
      " 5.functions.ipynb\n",
      " 6.RecursionIteratotsGenerators.ipynb\n",
      " README.md\n",
      " sample-code.ipynb\n",
      " test.txt\n"
     ]
    }
   ],
   "source": [
    "ls"
   ]
  },
  {
   "cell_type": "code",
   "execution_count": 5,
   "id": "de40f06a-ad58-475c-b02c-060db2b7e126",
   "metadata": {},
   "outputs": [
    {
     "data": {
      "text/plain": [
       "'/home/jovyan/work'"
      ]
     },
     "execution_count": 5,
     "metadata": {},
     "output_type": "execute_result"
    }
   ],
   "source": [
    "pwd"
   ]
  },
  {
   "cell_type": "code",
   "execution_count": 6,
   "id": "4c15e46e-09a3-40c4-8f18-4f777c394ca9",
   "metadata": {},
   "outputs": [
    {
     "name": "stdout",
     "output_type": "stream",
     "text": [
      "Google LLC (/ˈɡuːɡəl/ ⓘ) is an American multinational technology company focusing on artificial intelligence,[9] online advertising, search engine technology, cloud computing, computer software, quantum computing, e-commerce, and consumer electronics. It has been referred to as \"the most powerful company in the world\"[10] and as one of the world's most valuable brands due to its market dominance, data collection, and technological advantages in the field of artificial intelligence.[11][12][13] Alongside Amazon, Apple Inc., Meta Platforms, and Microsoft, Google's parent company Alphabet Inc. is one of the five Big Tech companies.\n",
      "\n",
      "\n",
      "\n",
      "Google was founded on September 4, 1998, by American computer scientists Larry Page and Sergey Brin while they were PhD students at Stanford University in California. Together they own about 14% of its publicly listed shares and control 56% of its stockholder voting power through super-voting stock. The company went public via an initial public offering (IPO) in 2004. In 2015, Google was reorganized as a wholly owned subsidiary of Alphabet Inc. Google is Alphabet's largest subsidiary and is a holding company for Alphabet's internet properties and interests. Sundar Pichai was appointed CEO of Google on October 24, 2015, replacing Larry Page, who became the CEO of Alphabet. On December 3, 2019, Pichai also became the CEO of Alphabet.[14]\n",
      "\n",
      "\n",
      "\n",
      "The company has since rapidly grown to offer a multitude of products and services beyond Google Search, many of which hold dominant market positions. These products address a wide range of use cases, including email (Gmail), navigation (Waze & Maps), cloud computing (Cloud), web browsing (Chrome), video sharing (YouTube), productivity (Workspace), operating systems (Android), cloud storage (Drive), language translation (Translate), photo storage (Photos), video calling (Meet), smart home (Nest), smartphones (Pixel), wearable technology (Pixel Watch & Fitbit), music streaming (YouTube Music), video on demand (YouTube TV), artificial intelligence (Google Assistant), machine learning APIs (TensorFlow), AI chips (TPU), and more. Discontinued Google products include gaming (Stadia), Glass, Google+, Reader, Play Music, Nexus, Hangouts, and Inbox by Gmail.[15][16]\n",
      "\n",
      "\n",
      "\n",
      "Google's other ventures outside of Internet services and consumer electronics include quantum computing (Sycamore), self-driving cars (Waymo, formerly the Google Self-Driving Car Project), smart cities (Sidewalk Labs), and transformer models (Google Deepmind).[17]\n",
      "\n",
      "\n",
      "\n",
      "Google and YouTube are the two most visited websites worldwide followed by Facebook and X. Google is also the largest search engine, mapping and navigation application, email provider, office suite, video sharing platform, photo and cloud storage provider, mobile operating system, web browser, ML framework, and AI virtual assistant provider in the world as measured by market share. On the list of most valuable brands, Google is ranked second by Forbes[18] and fourth by Interbrand.[19] It has received significant criticism involving issues such as privacy concerns, tax avoidance, censorship, search neutrality, antitrust and abuse of its monopoly position.\n",
      "\n",
      "\n",
      "\n",
      "History\n",
      "\n",
      "Main articles: History of Google and List of mergers and acquisitions by Alphabet\n",
      "\n",
      "See also: Alphabet Inc.\n",
      "\n",
      "Early years\n",
      "\n",
      "\n",
      "\n",
      "Larry Page and Sergey Brin in 2003\n",
      "\n",
      "Google began in January 1996 as a research project by Larry Page and Sergey Brin when they were both PhD students at Stanford University in California.[20][21][22] The project initially involved an unofficial \"third founder\", Scott Hassan, the original lead programmer who wrote much of the code for the original Google Search engine, but he left before Google was officially founded as a company;[23][24] Hassan went on to pursue a career in robotics and founded the company Willow Garage in 2006.[25][26]\n",
      "\n",
      "\n",
      "\n",
      "While conventional search engines ranked results by counting how many times the search terms appeared on the page, they theorized about a better system that analyzed the relationships among websites.[27] They called this algorithm PageRank; it determined a website's relevance by the number of pages, and the importance of those pages that linked back to the original site.[28][29] Page told his ideas to Hassan, who began writing the code to implement Page's ideas.[23]\n",
      "\n",
      "\n",
      "\n",
      "Page and Brin originally nicknamed the new search engine \"BackRub\", because the system checked backlinks to estimate the importance of a site.[20][30][31] Hassan as well as Alan Steremberg were cited by Page and Brin as being critical to the development of Google. Rajeev Motwani and Terry Winograd later co-authored with Page and Brin the first paper about the project, describing PageRank and the initial prototype of the Google search engine, published in 1998. Héctor García-Molina and Jeff Ullman were also cited as contributors to the project.[32] PageRank was influenced by a similar page-ranking and site-scoring algorithm earlier used for RankDex, developed by Robin Li in 1996, with Larry Page's PageRank patent including a citation to Li's earlier RankDex patent; Li later went on to create the Chinese search engine Baidu.[33][34]\n",
      "\n",
      "\n",
      "\n",
      "Eventually, they changed the name to Google; the name of the search engine was a misspelling of the word googol,[20][35][36] a very large number written 10100 (1 followed by 100 zeros), picked to signify that the search engine was intended to provide large quantities of information.[37]\n",
      "\n",
      "\n",
      "\n",
      "Google's homepage in 1998\n",
      "\n",
      "Google's original homepage had a simple design because the company founders had little experience in HTML, the markup language used for designing web pages.[38]\n",
      "\n",
      "Google was initially funded by an August 1998 investment of $100,000 from Andy Bechtolsheim,[20] co-founder of Sun Microsystems. This initial investment served as a motivation to incorporate the company to be able to use the funds.[39][40] Page and Brin initially approached David Cheriton for advice because he had a nearby office in Stanford, and they knew he had startup experience, having recently sold the company he co-founded, Granite Systems, to Cisco for $220 million. David arranged a meeting with Page and Brin and his Granite co-founder Andy Bechtolsheim. The meeting was set for 8 a.m. at the front porch of David's home in Palo Alto and it had to be brief because Andy had another meeting at Cisco, where he now worked after the acquisition, at 9 a.m. Andy briefly tested a demo of the website, liked what he saw, and then went back to his car to grab the check. David Cheriton later also joined in with a $250,000 investment.[41][42]\n",
      "\n",
      "\n",
      "\n",
      "Google received money from two other angel investors in 1998: Amazon.com founder Jeff Bezos, and entrepreneur Ram Shriram.[43] Page and Brin had first approached Shriram, who was a venture capitalist, for funding and counsel, and Shriram invested $250,000 in Google in February 1998. Shriram knew Bezos because Amazon had acquired Junglee, at which Shriram was the president. It was Shriram who told Bezos about Google. Bezos asked Shriram to meet Google's founders and they met six months after Shriram had made his investment when Bezos and his wife were on a vacation trip to the Bay Area. Google's initial funding round had already formally closed but Bezos' status as CEO of Amazon was enough to persuade Page and Brin to extend the round and accept his investment.[44][45]\n",
      "\n",
      "\n",
      "\n",
      "Between these initial investors, friends, and family Google raised around $1,000,000, which is what allowed them to open up their original shop in Menlo Park, California.[46] Craig Silverstein, a fellow PhD student at Stanford, was hired as the first employee.[22][47][48]\n",
      "\n",
      "\n",
      "\n",
      "After some additional, small investments through the end of 1998 to early 1999,[43] a new $25 million round of funding was announced on June 7, 1999,[49] with major investors including the venture capital firms Kleiner Perkins and Sequoia Capital.[40] Both firms were initially reticent about investing jointly in Google, as each wanted to retain a larger percentage of control over the company to themselves. Larry and Sergey however insisted in taking investments from both. Both venture companies finally agreed to investing jointly $12.5 million each due to their belief in Google's great potential and through the mediation of earlier angel investors Ron Conway and Ram Shriram who had contacts in the venture companies.[50]\n",
      "\n",
      "\n",
      "\n",
      "Growth\n",
      "\n",
      "In March 1999, the company moved its offices to Palo Alto, California,[51] which is home to several prominent Silicon Valley technology start-ups.[52] The next year, Google began selling advertisements associated with search keywords against Page and Brin's initial opposition toward an advertising-funded search engine.[53][22] To maintain an uncluttered page design, advertisements were solely text-based.[54] In June 2000, it was announced that Google would become the default search engine provider for Yahoo!, one of the most popular websites at the time, replacing Inktomi.[55][56]\n",
      "\n",
      "\n",
      "\n",
      "Google's first servers, showing lots of exposed wiring and circuit boards\n",
      "\n",
      "Google's first production server[57]\n",
      "\n",
      "In 2003, after outgrowing two other locations, the company leased an office complex from Silicon Graphics, at 1600 Amphitheatre Parkway in Mountain View, California.[58] The complex became known as the Googleplex, a play on the word googolplex, the number one followed by a googol of zeroes. Three years later, Google bought the property from SGI for $319 million.[59] By that time, the name \"Google\" had found its way into everyday language, causing the verb \"google\" to be added to the Merriam-Webster Collegiate Dictionary and the Oxford English Dictionary, denoted as: \"to use the Google search engine to obtain information on the Internet\".[60][61] The first use of the verb on television appeared in an October 2002 episode of Buffy the Vampire Slayer.[62]\n",
      "\n",
      "\n",
      "\n",
      "Additionally, in 2001 Google's investors felt the need to have a strong internal management, and they agreed to hire Eric Schmidt as the chairman and CEO of Google.[46] Eric was proposed by John Doerr from Kleiner Perkins. He had been trying to find a CEO that Sergey and Larry would accept for several months, but they rejected several candidates because they wanted to retain control over the company. Michael Moritz from Sequoia Capital at one point even menaced requesting Google to immediately pay back Sequoia's $12.5m investment if they did not fulfill their promise to hire a chief executive officer, which had been made verbally during investment negotiations. Eric was not initially enthusiastic about joining Google either, as the company's full potential had not yet been widely recognized at the time, and as he was occupied with his responsibilities at Novell where he was CEO. As part of him joining, Eric agreed to buy $1 million of Google preferred stocks as a way to show his commitment and to provide funds Google needed.[63]\n",
      "\n",
      "\n",
      "\n",
      "Initial public offering\n",
      "\n",
      "On August 19, 2004, Google became a public company via an initial public offering. At that time Larry Page, Sergey Brin, and Eric Schmidt agreed to work together at Google for 20 years, until the year 2024.[64] The company offered 19,605,052 shares at a price of $85 per share.[65][66] Shares were sold in an online auction format using a system built by Morgan Stanley and Credit Suisse, underwriters for the deal.[67][68] The sale of $1.67 billion gave Google a market capitalization of more than $23 billion.[69]\n",
      "\n",
      "\n",
      "\n",
      "\n",
      "\n",
      "Eric Schmidt, CEO of Google from 2001 to 2011\n",
      "\n",
      "On November 13, 2006, Google acquired YouTube for $1.65 billion in Google stock,[70][71][72][73] On March 11, 2008, Google acquired DoubleClick for $3.1 billion, transferring to Google valuable relationships that DoubleClick had with Web publishers and advertising agencies.[74][75]\n",
      "\n",
      "\n",
      "\n",
      "By 2011, Google was handling approximately 3 billion searches per day. To handle this workload, Google built 11 data centers around the world with several thousand servers in each. These data centers allowed Google to handle the ever-changing workload more efficiently.[46]\n",
      "\n",
      "\n",
      "\n",
      "In May 2011, the number of monthly unique visitors to Google surpassed one billion for the first time.[76][77]\n",
      "\n",
      "\n",
      "\n",
      "In May 2012, Google acquired Motorola Mobility for $12.5 billion, in its largest acquisition to date.[78][79][80] This purchase was made in part to help Google gain Motorola's considerable patent portfolio on mobile phones and wireless technologies, to help protect Google in its ongoing patent disputes with other companies,[81] mainly Apple and Microsoft,[82] and to allow it to continue to freely offer Android.[83]\n",
      "\n",
      "\n",
      "\n",
      "2012 onward\n",
      "\n",
      "In June 2013, Google acquired Waze, a $966 million deal.[84] While Waze would remain an independent entity, its social features, such as its crowdsourced location platform, were reportedly valuable integrations between Waze and Google Maps, Google's own mapping service.[85]\n",
      "\n",
      "\n",
      "\n",
      "Google announced the launch of a new company, called Calico, on September 19, 2013, to be led by Apple Inc. chairman Arthur Levinson. In the official public statement, Page explained that the \"health and well-being\" company would focus on \"the challenge of ageing and associated diseases\".[86]\n",
      "\n",
      "\n",
      "\n",
      "\n",
      "\n",
      "Entrance of building where Google and its subsidiary Deep Mind are located at 6 Pancras Square, London\n",
      "\n",
      "On January 26, 2014, Google announced it had agreed to acquire DeepMind Technologies, a privately held artificial intelligence company from London.[87] Technology news website Recode reported that the company was purchased for $400 million, yet the source of the information was not disclosed. A Google spokesperson declined to comment on the price.[88][89] The purchase of DeepMind aids in Google's recent growth in the artificial intelligence and robotics community.[90]/ In 2015, DeepMind's AlphaGo became the first computer program to defeat a top human pro at the game of Go.\n",
      "\n",
      "\n",
      "\n",
      "According to Interbrand's annual Best Global Brands report, Google has been the second most valuable brand in the world (behind Apple Inc.) in 2013,[91] 2014,[92] 2015,[93] and 2016, with a valuation of $133 billion.[94]\n",
      "\n",
      "\n",
      "\n",
      "On August 10, 2015, Google announced plans to reorganize its various interests as a conglomerate named Alphabet Inc. Google became Alphabet's largest subsidiary and the umbrella company for Alphabet's Internet interests. Upon completion of the restructuring, Sundar Pichai became CEO of Google, replacing Larry Page, who became CEO of Alphabet.[95][96][97]\n",
      "\n",
      "\n",
      "\n",
      "\n",
      "\n",
      "Current Google CEO, Sundar Pichai, with Prime Minister of India, Narendra Modi\n",
      "\n",
      "On August 8, 2017, Google fired employee James Damore after he distributed a memo throughout the company that argued bias and \"Google's Ideological Echo Chamber\" clouded their thinking about diversity and inclusion, and that it is also biological factors, not discrimination alone, that cause the average woman to be less interested than men in technical positions.[98] Google CEO Sundar Pichai accused Damore of violating company policy by \"advancing harmful gender stereotypes in our workplace\", and he was fired on the same day.[99][100][101]\n",
      "\n",
      "\n",
      "\n",
      "Between 2018 and 2019, tensions between the company's leadership and its workers escalated as staff protested company decisions on internal sexual harassment, Dragonfly, a censored Chinese search engine, and Project Maven, a military drone artificial intelligence, which had been seen as areas of revenue growth for the company.[102][103] On October 25, 2018, The New York Times published the exposé, \"How Google Protected Andy Rubin, the 'Father of Android'\". The company subsequently announced that \"48 employees have been fired over the last two years\" for sexual misconduct.[104] On November 1, 2018, more than 20,000 Google employees and contractors staged a global walk-out to protest the company's handling of sexual harassment complaints.[105][106] CEO Sundar Pichai was reported to be in support of the protests.[107] Later in 2019, some workers accused the company of retaliating against internal activists.[103]\n",
      "\n",
      "\n",
      "\n",
      "On March 19, 2019, Google announced that it would enter the video game market, launching a cloud gaming platform called Google Stadia.[108]\n",
      "\n",
      "\n",
      "\n",
      "On June 3, 2019, the United States Department of Justice reported that it would investigate Google for antitrust violations.[109] This led to the filing of an antitrust lawsuit in October 2020, on the grounds the company had abused a monopoly position in the search and search advertising markets.[110]\n",
      "\n",
      "\n",
      "\n",
      "In December 2019, former PayPal chief operating officer Bill Ready became Google's new commerce chief. Ready's role will not be directly involved with Google Pay.[111]\n",
      "\n",
      "\n",
      "\n",
      "In April 2020, due to the COVID-19 pandemic, Google announced several cost-cutting measures. Such measures included slowing down hiring for the remainder of 2020, except for a small number of strategic areas, recalibrating the focus and pace of investments in areas like data centers and machines, and non-business essential marketing and travel.[112] Most employees were also working from home due to the COVID-19 pandemic and the success of it even led to Google announcing that they would be permanently converting some of their jobs to work from home [113]\n",
      "\n",
      "\n",
      "\n",
      "The 2020 Google services outages disrupted Google services: one in August that affected Google Drive among others, another in November affecting YouTube, and a third in December affecting the entire suite of Google applications. All three outages were resolved within hours.[114][115][116]\n",
      "\n",
      "\n",
      "\n",
      "In 2021, the Alphabet Workers Union was founded, composed mostly of Google employees.[117]\n",
      "\n",
      "\n",
      "\n",
      "In January 2021, the Australian Government proposed legislation that would require Google and Facebook to pay media companies for the right to use their content. In response, Google threatened to close off access to its search engine in Australia.[118]\n",
      "\n",
      "\n",
      "\n",
      "In March 2021, Google reportedly paid $20 million for Ubisoft ports on Google Stadia.[119] Google spent \"tens of millions of dollars\" on getting major publishers such as Ubisoft and Take-Two to bring some of their biggest games to Stadia.[120]\n",
      "\n",
      "\n",
      "\n",
      "In April 2021, The Wall Street Journal reported that Google ran a years-long program called \"Project Bernanke\" that used data from past advertising bids to gain an advantage over competing for ad services. This was revealed in documents concerning the antitrust lawsuit filed by ten US states against Google in December.[121]\n",
      "\n",
      "\n",
      "\n",
      "In September 2021, the Australian government announced plans to curb Google's capability to sell targeted ads, claiming that the company has a monopoly on the market harming publishers, advertisers, and consumers.[122]\n",
      "\n",
      "\n",
      "\n",
      "In 2022, Google began accepting requests for the removal of phone numbers, physical addresses and email addresses from its search results. It had previously accepted requests for removing confidential data only, such as Social Security numbers, bank account and credit card numbers, personal signatures, and medical records. Even with the new policy, Google may remove information from only certain but not all search queries. It would not remove content that is \"broadly useful\", such as news articles, or already part of the public record.[123]\n",
      "\n",
      "\n",
      "\n",
      "In May 2022, Google announced that the company had acquired California based, MicroLED display technology development and manufacturing Start-up Raxium. Raxium is set to join Google's Devices and Services team to aid in the development of micro-optics, monolithic integration, and system integration.[124][125]\n",
      "\n",
      "\n",
      "\n",
      "In early 2023, following the success of ChatGPT and concerns that Google was falling behind in the AI race, Google's senior management issued a \"code red\" and a \"directive that all of its most important products—those with more than a billion users—must incorporate generative AI within months\".[126]\n",
      "\n",
      "\n",
      "\n",
      "In early May 2023, Google announced its plans to build two additional data centers in Ohio. These centers, which will be built in Columbus and Lancaster, will power up the company’s tools, including AI technology. The said data hub will add to the already operational center near Columbus, bringing Google's total investment in Ohio to over $2 billion.[127]\n",
      "\n",
      "\n",
      "\n",
      "Products and services\n",
      "\n",
      "Main article: List of Google products\n",
      "\n",
      "Search engine\n",
      "\n",
      "Main articles: Google Search and Google Images\n",
      "\n",
      "Google indexes billions of web pages to allow users to search for the information they desire through the use of keywords and operators.[128] According to comScore market research from November 2009, Google Search is the dominant search engine in the United States market, with a market share of 65.6%.[129] In May 2017, Google enabled a new \"Personal\" tab in Google Search, letting users search for content in their Google accounts' various services, including email messages from Gmail and photos from Google Photos.[130][131]\n",
      "\n",
      "\n",
      "\n",
      "Google launched its Google News service in 2002, an automated service which summarizes news articles from various websites.[132] Google also hosts Google Books, a service which searches the text found in books in its database and shows limited previews or and the full book where allowed.[133]\n",
      "\n",
      "\n",
      "\n",
      "Google expanded its search services to include shopping (launched originally as Froogle in 2002),[134] finance (launched 2006),[135] and flights (launched 2011).[136]\n",
      "\n",
      "\n",
      "\n",
      "Advertising\n",
      "\n",
      "\n",
      "\n",
      "Google on ad-tech London, 2010\n",
      "\n",
      "Google generates most of its revenues from advertising. This includes sales of apps, purchases made in-app, digital content products on Google and YouTube, Android and licensing and service fees, including fees received for Google Cloud offerings. Forty-six percent of this profit was from clicks (cost per clicks), amounting to US$109,652 million in 2017. This includes three principal methods, namely AdMob, AdSense (such as AdSense for Content, AdSense for Search, etc.) and DoubleClick AdExchange.[137]\n",
      "\n",
      "\n",
      "\n",
      "In addition to its own algorithms for understanding search requests, Google uses technology its acquisition of DoubleClick, to project user interest and target advertising to the search context and the user history.[138][139]\n",
      "\n",
      "\n",
      "\n",
      "In 2007, Google launched \"AdSense for Mobile\", taking advantage of the emerging mobile advertising market.[140]\n",
      "\n",
      "\n",
      "\n",
      "Google Analytics allows website owners to track where and how people use their website, for example by examining click rates for all the links on a page.[141] Google advertisements can be placed on third-party websites in a two-part program. Google Ads allows advertisers to display their advertisements in the Google content network, through a cost-per-click scheme.[142] The sister service, Google AdSense, allows website owners to display these advertisements on their website and earn money every time ads are clicked.[143] One of the criticisms of this program is the possibility of click fraud, which occurs when a person or automated script clicks on advertisements without being interested in the product, causing the advertiser to pay money to Google unduly. Industry reports in 2006 claimed that approximately 14 to 20 percent of clicks were fraudulent or invalid.[144] Google Search Console (rebranded from Google Webmaster Tools in May 2015) allows webmasters to check the sitemap, crawl rate, and for security issues of their websites, as well as optimize their website's visibility.\n",
      "\n",
      "\n",
      "\n",
      "Consumer services\n",
      "\n",
      "Web-based services\n",
      "\n",
      "Google offers Gmail for email,[145] Google Calendar for time-management and scheduling,[146] Google Maps for mapping, navigation and satellite imagery,[147] Google Drive for cloud storage of files,[148] Google Docs, Sheets and Slides for productivity,[148] Google Photos for photo storage and sharing,[149] Google Keep for note-taking,[150] Google Translate for language translation,[151] YouTube for video viewing and sharing,[152] Google My Business for managing public business information,[153] and Duo for social interaction.[154] In March 2019, Google unveiled a cloud gaming service named Stadia.[108] A job search product has also existed since before 2017,[155][156][157] Google for Jobs is an enhanced search feature that aggregates listings from job boards and career sites.[158]\n",
      "\n",
      "\n",
      "\n",
      "Some Google services are not web-based. Google Earth, launched in 2005, allowed users to see high-definition satellite pictures from all over the world for free through a client software downloaded to their computers.[159]\n",
      "\n",
      "\n",
      "\n",
      "Software\n",
      "\n",
      "Google develops the Android mobile operating system,[160] as well as its smartwatch,[161] television,[162] car,[163] and Internet of things-enabled smart devices variations.[164]\n",
      "\n",
      "\n",
      "\n",
      "It also develops the Google Chrome web browser,[165] and ChromeOS, an operating system based on Chrome.[166]\n",
      "\n",
      "\n",
      "\n",
      "Hardware\n",
      "\n",
      "\n",
      "\n",
      "Google Pixel smartphones on display in a store\n",
      "\n",
      "In January 2010, Google released Nexus One, the first Android phone under its own brand.[167] It spawned a number of phones and tablets under the \"Nexus\" branding[168] until its eventual discontinuation in 2016, replaced by a new brand called Pixel.[169]\n",
      "\n",
      "\n",
      "\n",
      "In 2011, the Chromebook was introduced, which runs on ChromeOS.[170]\n",
      "\n",
      "\n",
      "\n",
      "In July 2013, Google introduced the Chromecast dongle, which allows users to stream content from their smartphones to televisions.[171][172]\n",
      "\n",
      "\n",
      "\n",
      "In June 2014, Google announced Google Cardboard, a simple cardboard viewer that lets the user place their smartphone in a special front compartment to view virtual reality (VR) media.[173]\n",
      "\n",
      "\n",
      "\n",
      "Other hardware products include:\n",
      "\n",
      "\n",
      "\n",
      "Nest, a series of voice assistant smart speakers that can answer voice queries, play music, find information from apps (calendar, weather etc.), and control third-party smart home appliances (users can tell it to turn on the lights, for example). The Google Nest line includes the original Google Home[174] (later succeeded by the Nest Audio), the Google Home Mini (later succeeded by the Nest Mini), the Google Home Max, the Google Home Hub (later rebranded as the Nest Hub), and the Nest Hub Max.\n",
      "\n",
      "Nest Wifi (originally Google Wifi), a connected set of Wi-Fi routers to simplify and extend coverage of home Wi-Fi.[175]\n",
      "\n",
      "Enterprise services\n",
      "\n",
      "Main articles: Google Workspace and Google Cloud Platform\n",
      "\n",
      "Google Workspace (formerly G Suite until October 2020[176]) is a monthly subscription offering for organizations and businesses to get access to a collection of Google's services, including Gmail, Google Drive and Google Docs, Google Sheets and Google Slides, with additional administrative tools, unique domain names, and 24/7 support.[177]\n",
      "\n",
      "\n",
      "\n",
      "On September 24, 2012,[178] Google launched Google for Entrepreneurs, a largely not-for-profit business incubator providing startups with co-working spaces known as Campuses, with assistance to startup founders that may include workshops, conferences, and mentorships.[179] Presently, there are seven Campus locations: Berlin, London, Madrid, Seoul, São Paulo, Tel Aviv, and Warsaw.\n",
      "\n",
      "\n",
      "\n",
      "On March 15, 2016, Google announced the introduction of Google Analytics 360 Suite, \"a set of integrated data and marketing analytics products, designed specifically for the needs of enterprise-class marketers\" which can be integrated with BigQuery on the Google Cloud Platform. Among other things, the suite is designed to help \"enterprise class marketers\" \"see the complete customer journey\", generate \"useful insights\", and \"deliver engaging experiences to the right people\".[180] Jack Marshall of The Wall Street Journal wrote that the suite competes with existing marketing cloud offerings by companies including Adobe, Oracle, Salesforce, and IBM.[181]\n",
      "\n",
      "\n",
      "\n",
      "Internet services\n",
      "\n",
      "In February 2010, Google announced the Google Fiber project, with experimental plans to build an ultra-high-speed broadband network for 50,000 to 500,000 customers in one or more American cities.[182][183] Following Google's corporate restructure to make Alphabet Inc. its parent company, Google Fiber was moved to Alphabet's Access division.[184][185]\n",
      "\n",
      "\n",
      "\n",
      "In April 2015, Google announced Project Fi, a mobile virtual network operator, that combines Wi-Fi and cellular networks from different telecommunication providers in an effort to enable seamless connectivity and fast Internet signal.[186][187]\n",
      "\n",
      "\n",
      "\n",
      "Financial services\n",
      "\n",
      "As a more mature company, Google has made many moves into financial services.\n",
      "\n",
      "\n",
      "\n",
      "In August 2023, it became the first major tech company to join the OpenWallet Foundation, launched earlier in the year, whose goal was creating open-source software for interoperable digital wallets.[188]\n",
      "\n",
      "\n",
      "\n",
      "Corporate affairs\n",
      "\n",
      "Stock price performance and quarterly earnings\n",
      "\n",
      "Google's initial public offering (IPO) took place on August 19, 2004. At IPO, the company offered 19,605,052 shares at a price of $85 per share.[65][66] The sale of $1.67 billion gave Google a market capitalization of more than $23 billion.[69] The stock performed well after the IPO, with shares hitting $350 for the first time on October 31, 2007,[189] primarily because of strong sales and earnings in the online advertising market.[190] The surge in stock price was fueled mainly by individual investors, as opposed to large institutional investors and mutual funds.[190] GOOG shares split into GOOG class C shares and GOOGL class A shares.[191] The company is listed on the NASDAQ stock exchange under the ticker symbols GOOGL and GOOG, and on the Frankfurt Stock Exchange under the ticker symbol GGQ1. These ticker symbols now refer to Alphabet Inc., Google's holding company, since the fourth quarter of 2015.[192]\n",
      "\n",
      "\n",
      "\n",
      "In the third quarter of 2005, Google reported a 700% increase in profit, largely due to large companies shifting their advertising strategies from newspapers, magazines, and television to the Internet.[193][194][195]\n",
      "\n",
      "\n",
      "\n",
      "For the 2006 fiscal year, the company reported $10.492 billion in total advertising revenues and only $112 million in licensing and other revenues.[196] In 2011, 96% of Google's revenue was derived from its advertising programs.[197]\n",
      "\n",
      "\n",
      "\n",
      "Google generated $50 billion in annual revenue for the first time in 2012, generating $38 billion the previous year. In January 2013, then-CEO Larry Page commented, \"We ended 2012 with a strong quarter ... Revenues were up 36% year-on-year, and 8% quarter-on-quarter. And we hit $50 billion in revenues for the first time last year – not a bad achievement in just a decade and a half.\"[198]\n",
      "\n",
      "\n",
      "\n",
      "Google's consolidated revenue for the third quarter of 2013 was reported in mid-October 2013 as $14.89 billion, a 12 percent increase compared to the previous quarter.[199] Google's Internet business was responsible for $10.8 billion of this total, with an increase in the number of users' clicks on advertisements.[200] By January 2014, Google's market capitalization had grown to $397 billion.[201]\n",
      "\n",
      "\n",
      "\n",
      "Tax avoidance strategies\n",
      "\n",
      "Further information: Corporation tax in the Republic of Ireland § Multinational tax schemes, and Google tax\n",
      "\n",
      "Google uses various tax avoidance strategies. On the list of largest technology companies by revenue, it pays the lowest taxes to the countries of origin of its revenues. Google between 2007 and 2010 saved $3.1 billion in taxes by shuttling non-U.S. profits through Ireland and the Netherlands and then to Bermuda. Such techniques lower its non-U.S. tax rate to 2.3 per cent, while normally the corporate tax rate in, for instance, the UK is 28 per cent.[202] This reportedly sparked a French investigation into Google's transfer pricing practices in 2012.[203]\n",
      "\n",
      "\n",
      "\n",
      "In 2020, Google said it had overhauled its controversial global tax structure and consolidated all of its intellectual property holdings back to the US.[204]\n",
      "\n",
      "\n",
      "\n",
      "Google Vice-president Matt Brittin testified to the Public Accounts Committee of the UK House of Commons that his UK sales team made no sales and hence owed no sales taxes to the UK.[205] In January 2016, Google reached a settlement with the UK to pay £130m in back taxes plus higher taxes in future.[206] In 2017, Google channeled $22.7 billion from the Netherlands to Bermuda to reduce its tax bill.[207]\n",
      "\n",
      "\n",
      "\n",
      "In 2013, Google ranked 5th in lobbying spending, up from 213th in 2003. In 2012, the company ranked 2nd in campaign donations of technology and Internet sections.[208]\n",
      "\n",
      "\n",
      "\n",
      "Corporate identity\n",
      "\n",
      "Further information: History of Google § Name, Google (verb), Google logo, Google Doodle, List of Google April Fools' Day jokes, and List of Google Easter eggs\n",
      "\n",
      "\n",
      "\n",
      "Google's logo from 2013 to 2015\n",
      "\n",
      "The name \"Google\" originated from a misspelling of \"googol\",[209][210] which refers to the number represented by a 1 followed by one-hundred zeros. Page and Brin write in their original paper on PageRank:[32] \"We chose our system name, Google, because it is a common spelling of googol, or 10100[,] and fits well with our goal of building very large-scale search engines.\" Having found its way increasingly into everyday language, the verb \"google\" was added to the Merriam Webster Collegiate Dictionary and the Oxford English Dictionary in 2006, meaning \"to use the Google search engine to obtain information on the Internet.\"[211][212] Google's mission statement, from the outset, was \"to organize the world's information and make it universally accessible and useful\",[213] and its unofficial slogan is \"Don't be evil\".[214] In October 2015, a related motto was adopted in the Alphabet corporate code of conduct by the phrase: \"Do the right thing\".[215] The original motto was retained in the code of conduct of Google, now a subsidiary of Alphabet.\n",
      "\n",
      "\n",
      "\n",
      "The original Google logo was designed by Sergey Brin.[216] Since 1998, Google has been designing special, temporary alternate logos to place on their homepage intended to celebrate holidays, events, achievements and people. The first Google Doodle was in honor of the Burning Man Festival of 1998.[217][218] The doodle was designed by Larry Page and Sergey Brin to notify users of their absence in case the servers crashed. Subsequent Google Doodles were designed by an outside contractor, until Larry and Sergey asked then-intern Dennis Hwang to design a logo for Bastille Day in 2000. From that point onward, Doodles have been organized and created by a team of employees termed \"Doodlers\".[219]\n",
      "\n",
      "\n",
      "\n",
      "Google has a tradition of creating April Fools' Day jokes. Its first on April 1, 2000, was Google MentalPlex which allegedly featured the use of mental power to search the web.[220] In 2007, Google announced a free Internet service called TiSP, or Toilet Internet Service Provider, where one obtained a connection by flushing one end of a fiber-optic cable down their toilet.[221]\n",
      "\n",
      "\n",
      "\n",
      "Google's services contain easter eggs, such as the Swedish Chef's \"Bork bork bork,\" Pig Latin, \"Hacker\" or leetspeak, Elmer Fudd, Pirate, and Klingon as language selections for its search engine.[222] When searching for the word \"anagram,\" meaning a rearrangement of letters from one word to form other valid words, Google's suggestion feature displays \"Did you mean: nag a ram?\"[223] Since 2019, Google runs free online courses to help engineers learn how to plan and author technical documentation better.[224]\n",
      "\n",
      "\n",
      "\n",
      "Workplace culture\n",
      "\n",
      "\n",
      "\n",
      "Google employees marching in the Pride in London parade in 2016\n",
      "\n",
      "On Fortune magazine's list of the best companies to work for, Google ranked first in 2007, 2008 and 2012,[225][226][227] and fourth in 2009 and 2010.[228][229] Google was also nominated in 2010 to be the world's most attractive employer to graduating students in the Universum Communications talent attraction index.[230] Google's corporate philosophy includes principles such as \"you can make money without doing evil,\" \"you can be serious without a suit,\" and \"work should be challenging and the challenge should be fun.\"[231]\n",
      "\n",
      "\n",
      "\n",
      "As of September 30, 2020, Alphabet Inc. had 132,121 employees,[232] of which more than 100,000 worked for Google.[8] Google's 2020 diversity report states that 32 percent of its workforce are women and 68 percent are men, with the ethnicity of its workforce being predominantly white (51.7%) and Asian (41.9%).[233] Within tech roles, 23.6 percent were women; and 26.7 percent of leadership roles were held by women.[234] In addition to its 100,000+ full-time employees, Google used about 121,000 temporary workers and contractors, as of March 2019.[8]\n",
      "\n",
      "\n",
      "\n",
      "Google's employees are hired based on a hierarchical system. Employees are split into six hierarchies based on experience and can range \"from entry-level data center workers at level one to managers and experienced engineers at level six.\"[235] As a motivation technique, Google uses a policy known as Innovation Time Off, where Google engineers are encouraged to spend 20% of their work time on projects that interest them. Some of Google's services, such as Gmail, Google News, Orkut, and AdSense originated from these independent endeavors.[236] In a talk at Stanford University, Marissa Mayer, Google's vice-president of Search Products and User Experience until July 2012, showed that half of all new product launches in the second half of 2005 had originated from the Innovation Time Off.[237]\n",
      "\n",
      "\n",
      "\n",
      "In 2005, articles in The New York Times[238] and other sources began suggesting that Google had lost its anti-corporate, no evil philosophy.[239][240][241] In an effort to maintain the company's unique culture, Google designated a Chief Culture Officer whose purpose was to develop and maintain the culture and work on ways to keep true to the core values that the company was founded on.[242] Google has also faced allegations of sexism and ageism from former employees.[243][244] In 2013, a class action against several Silicon Valley companies, including Google, was filed for alleged \"no cold call\" agreements which restrained the recruitment of high-tech employees.[245] In a lawsuit filed January 8, 2018, multiple employees and job applicants alleged Google discriminated against a class defined by their \"conservative political views[,] male gender[,] and/or [...] Caucasian or Asian race\".[246]\n",
      "\n",
      "\n",
      "\n",
      "On January 25, 2020, the formation of an international workers union of Google employees, Alpha Global, was announced.[247] The coalition is made up of \"13 different unions representing workers in 10 countries, including the United States, United Kingdom, and Switzerland.\"[248] The group is affiliated with UNI Global Union, which represents nearly 20 million international workers from various unions and federations. The formation of the union is in response to persistent allegations of mistreatment of Google employees and a toxic workplace culture.[248][249][246] Google had previously been accused of surveilling and firing employees who were suspected of organizing a workers union.[250] In 2021 court documents revealed that between 2018 and 2020 Google ran an anti-union campaign called Project Vivian to \"convince them (employees) that unions suck\".[251]\n",
      "\n",
      "\n",
      "\n",
      "Office locations\n",
      "\n",
      "Further information: Googleplex\n",
      "\n",
      "\n",
      "\n",
      "Google's New York City office building houses its largest advertising sales team.\n",
      "\n",
      "\n",
      "\n",
      "Google's Toronto office\n",
      "\n",
      "Google's headquarters in Mountain View, California is referred to as \"the Googleplex\", a play on words on the number googolplex and the headquarters itself being a complex of buildings. Internationally, Google has over 78 offices in more than 50 countries.[252]\n",
      "\n",
      "\n",
      "\n",
      "In 2006, Google moved into about 300,000 square feet (27,900 m2) of office space at 111 Eighth Avenue in Manhattan, New York City. The office was designed and built specially for Google, and houses its largest advertising sales team.[253] In 2010, Google bought the building housing the headquarter, in a deal that valued the property at around $1.9 billion.[254][255] In March 2018, Google's parent company Alphabet bought the nearby Chelsea Market building for $2.4 billion. The sale is touted as one of the most expensive real estate transactions for a single building in the history of New York.[256][257][258][259] In November 2018, Google announced its plan to expand its New York City office to a capacity of 12,000 employees.[260] The same December, it was announced that a $1 billion, 1,700,000-square-foot (160,000 m2) headquarters for Google would be built in Manhattan's Hudson Square neighborhood.[261][262] Called Google Hudson Square, the new campus is projected to more than double the number of Google employees working in New York City.[263]\n",
      "\n",
      "\n",
      "\n",
      "By late 2006, Google established a new headquarters for its AdWords division in Ann Arbor, Michigan.[264] In November 2006, Google opened offices on Carnegie Mellon's campus in Pittsburgh, focusing on shopping-related advertisement coding and smartphone applications and programs.[265][266] Other office locations in the U.S. include Atlanta, Georgia; Austin, Texas; Boulder, Colorado; Cambridge, Massachusetts; San Francisco, California; Seattle, Washington; Kirkland, Washington; Birmingham, Michigan; Reston, Virginia, Washington, D.C.,[267] and Madison, Wisconsin.[268]\n",
      "\n",
      "\n",
      "\n",
      "\n",
      "\n",
      "Google's Dublin Ireland office, headquarters of Google Ads for Europe\n",
      "\n",
      "It also has product research and development operations in cities around the world, namely Sydney (birthplace location of Google Maps)[269] and London (part of Android development).[270] In November 2013, Google announced plans for a new London headquarter, a 1 million square foot office able to accommodate 4,500 employees. Recognized as one of the biggest ever commercial property acquisitions at the time of the deal's announcement in January,[271] Google submitted plans for the new headquarter to the Camden Council in June 2017.[272][273] In May 2015, Google announced its intention to create its own campus in Hyderabad, India. The new campus, reported to be the company's largest outside the United States, will accommodate 13,000 employees.[274][275]\n",
      "\n",
      "\n",
      "\n",
      "Google's Global Offices sum a total of 85 Locations worldwide,[276] with 32 offices in North America, 3 of them in Canada and 29 in United States Territory, California being the state with the most Google's offices with 9 in total including the Googleplex. In the Latin America Region Google counts with 6 offices, in Europe 24 (3 of them in UK), the Asia Pacific region counts with 18 offices principally 4 in India and 3 in China, and the Africa Middle East region counts 5 offices.\n",
      "\n",
      "\n",
      "\n",
      "North America\n",
      "\n",
      "SN\tCity\tCountry or US State\n",
      "\n",
      "1.\tAnn Arbor\t Michigan\n",
      "\n",
      "2.\tAtlanta\t Georgia\n",
      "\n",
      "3.\tAustin\t Texas\n",
      "\n",
      "4.\tBoulder\t Colorado\n",
      "\n",
      "5.\tBoulder – Pearl Place\t Colorado\n",
      "\n",
      "6.\tBoulder – Walnut\t Colorado\n",
      "\n",
      "7.\tCambridge\t Massachusetts\n",
      "\n",
      "8.\tChapel Hill\t North Carolina\n",
      "\n",
      "9.\tChicago – Carpenter\t Illinois\n",
      "\n",
      "10.\tChicago – Fulton Market\t Illinois\n",
      "\n",
      "11.\tDetroit\t Michigan\n",
      "\n",
      "12.\tIrvine\t California\n",
      "\n",
      "13.\tKirkland\t Washington\n",
      "\n",
      "14.\tKitchener\t Canada\n",
      "\n",
      "15.\tLos Angeles\t California\n",
      "\n",
      "16.\tMadison\t Wisconsin\n",
      "\n",
      "17.\tMiami\t Florida\n",
      "\n",
      "18.\tMontreal\t Canada\n",
      "\n",
      "19.\tMountain View\t California\n",
      "\n",
      "20.\tNew York\t New York\n",
      "\n",
      "21.\tPittsburgh\t Pennsylvania\n",
      "\n",
      "22.\tPlaya Vista\t California\n",
      "\n",
      "23.\tPortland\t Oregon\n",
      "\n",
      "24.\tRedwood City\t California\n",
      "\n",
      "25.\tReston\t Virginia\n",
      "\n",
      "26.\tSan Bruno\t California\n",
      "\n",
      "27.\tSan Diego\t California\n",
      "\n",
      "28.\tSan Francisco – HQ\t California\n",
      "\n",
      "29.\tSeattle\t Washington\n",
      "\n",
      "30.\tSunnyvale\t California\n",
      "\n",
      "31.\tToronto\t Canada\n",
      "\n",
      "32.\tWashington DC\t District of Columbia\n",
      "\n",
      "Latin America\n",
      "\n",
      "SN\tCity\tCountry\n",
      "\n",
      "1.\tBelo Horizonte\t Brazil\n",
      "\n",
      "2.\tBogotá\t Colombia\n",
      "\n",
      "3.\tBuenos Aires\t Argentina\n",
      "\n",
      "4.\tMexico City\t Mexico\n",
      "\n",
      "5.\tSantiago de Chile\t Chile\n",
      "\n",
      "6.\tSão Paulo\t Brazil\n",
      "\n",
      "Europe\n",
      "\n",
      "SN\tCity\tCountry\n",
      "\n",
      "1.\tAarhus\t Denmark\n",
      "\n",
      "2.\tAmsterdam\t Netherlands\n",
      "\n",
      "3.\tAthens\t Greece\n",
      "\n",
      "4.\tBerlin\t Germany\n",
      "\n",
      "5.\tBrussels\t Belgium\n",
      "\n",
      "6.\tCopenhagen\t Denmark\n",
      "\n",
      "7.\tDublin\t Ireland\n",
      "\n",
      "8.\tHamburg\t Germany\n",
      "\n",
      "9.\tLisbon\t Portugal\n",
      "\n",
      "10.\tLondon – 6PS\t United Kingdom\n",
      "\n",
      "11.\tLondon – BEL\t United Kingdom\n",
      "\n",
      "12.\tLondon – CSG\t United Kingdom\n",
      "\n",
      "13.\tMadrid\t Spain\n",
      "\n",
      "14.\tMilan\t Italy\n",
      "\n",
      "15.\tMoscow\t Russia\n",
      "\n",
      "16.\tMunich\t Germany\n",
      "\n",
      "17.\tOslo\t Norway\n",
      "\n",
      "18.\tParis\t France\n",
      "\n",
      "19.\tPrague\t Czech Republic\n",
      "\n",
      "20.\tStockholm\t Sweden\n",
      "\n",
      "21.\tVienna\t Austria\n",
      "\n",
      "22.\tWarsaw\t Poland\n",
      "\n",
      "23.\tWroclaw\t Poland\n",
      "\n",
      "24.\tZurich – BRA\t  Switzerland\n",
      "\n",
      "25.\tZurich – EUR\t  Switzerland\n",
      "\n",
      "Asia-Pacific\n",
      "\n",
      "SN\tCity\tCountry\n",
      "\n",
      "1.\tAuckland\t New Zealand\n",
      "\n",
      "2.\tBangalore\t India\n",
      "\n",
      "3.\tBangkok\t Thailand\n",
      "\n",
      "4.\tBeijing\t China\n",
      "\n",
      "5.\tGuangzhou\t China\n",
      "\n",
      "6.\tGurgaon\t India\n",
      "\n",
      "7.\tHong Kong\t Hong Kong\n",
      "\n",
      "8.\tHyderabad\t India\n",
      "\n",
      "9.\tJakarta\t Indonesia\n",
      "\n",
      "10.\tKuala Lumpur\t Malaysia\n",
      "\n",
      "11.\tManila\t Philippines\n",
      "\n",
      "12.\tMelbourne\t Australia\n",
      "\n",
      "13.\tMumbai\t India\n",
      "\n",
      "14.\tSeoul\t South Korea\n",
      "\n",
      "15.\tShanghai\t China\n",
      "\n",
      "16.\tSingapore\t Singapore\n",
      "\n",
      "17.\tSydney\t Australia\n",
      "\n",
      "18.\tTaipei\t Taiwan\n",
      "\n",
      "19.\tTokyo – RPG\t Japan\n",
      "\n",
      "20.\tTokyo – STRM\t Japan\n",
      "\n",
      "Africa and the Middle East\n",
      "\n",
      "SN\tCity\tCountry\n",
      "\n",
      "1.\tDubai\t United Arab Emirates\n",
      "\n",
      "2.\tHaifa\t Israel\n",
      "\n",
      "3.\tIstanbul\t Turkey\n",
      "\n",
      "4.\tJohannesburg\t South Africa\n",
      "\n",
      "5.\tTel Aviv\t Israel\n",
      "\n",
      "Infrastructure\n",
      "\n",
      "Further information: Google data centers\n",
      "\n",
      "Google has data centers in North and South America, Asia, and Europe.[277] There is no official data on the number of servers in Google data centers; however, research and advisory firm Gartner estimated in a July 2016 report that Google at the time had 2.5 million servers.[278] Traditionally, Google relied on parallel computing on commodity hardware like mainstream x86 computers (similar to home PCs) to keep costs per query low.[279][280][281] In 2005, it started developing its own designs, which were only revealed in 2009.[281]\n",
      "\n",
      "\n",
      "\n",
      "Google has built its own private submarine communications cables. The first cable, named Curie, connects California with Chile and was completed on November 15, 2019.[282][283] The second fully Google-owned undersea cable, named Dunant, connects the United States with France and is planned to begin operation in 2020.[284] Google's third subsea cable, Equiano, will connect Lisbon, Portugal with Lagos, Nigeria and Cape Town, South Africa.[285] The company's fourth cable, named Grace Hopper, connects landing points in New York, US, Bude, UK and Bilbao, Spain, and is expected to become operational in 2022.[286]\n",
      "\n",
      "\n",
      "\n",
      "Environment\n",
      "\n",
      "In October 2006, the company announced plans to install thousands of solar panels to provide up to 1.6 Megawatt of electricity, enough to satisfy approximately 30% of the campus' energy needs.[287][288] The system is the largest rooftop photovoltaic power station constructed on a U.S. corporate campus and one of the largest on any corporate site in the world.[287] Since 2007, Google has aimed for carbon neutrality in regard to its operations.[289]\n",
      "\n",
      "\n",
      "\n",
      "Google disclosed in September 2011 that it \"continuously uses enough electricity to power 200,000 homes\", almost 260 million watts or about a quarter of the output of a nuclear power plant. Total carbon emissions for 2010 were just under 1.5 million metric tons, mostly due to fossil fuels that provide electricity for the data centers. Google said that 25 percent of its energy was supplied by renewable fuels in 2010. An average search uses only 0.3 watt-hours of electricity, so all global searches are only 12.5 million watts or 5% of the total electricity consumption by Google.[290]\n",
      "\n",
      "\n",
      "\n",
      "In 2010, Google Energy made its first investment in a renewable energy project, putting $38.8 million into two wind farms in North Dakota. The company announced the two locations will generate 169.5 megawatts of power, enough to supply 55,000 homes.[291] In February 2010, the Federal Energy Regulatory Commission granted Google an authorization to buy and sell energy at market rates.[292] The corporation exercised this authorization in September 2013 when it announced it would purchase all the electricity produced by the not-yet-built 240-megawatt Happy Hereford wind farm.[293]\n",
      "\n",
      "\n",
      "\n",
      "In July 2010, Google signed an agreement with an Iowa wind farm to buy 114 megawatts of power for 20 years.[294]\n",
      "\n",
      "\n",
      "\n",
      "In December 2016, Google announced that—starting in 2017—it would purchase enough renewable energy to match 100% of the energy usage of its data centers and offices. The commitment will make Google \"the world's largest corporate buyer of renewable power, with commitments reaching 2.6 gigawatts (2,600 megawatts) of wind and solar energy\".[295][296][297]\n",
      "\n",
      "\n",
      "\n",
      "In November 2017, Google bought 536 megawatts of wind power. The purchase made the firm reach 100% renewable energy. The wind energy comes from two power plants in South Dakota, one in Iowa and one in Oklahoma.[298] In September 2019, Google's chief executive announced plans for a $2 billion wind and solar investment, the biggest renewable energy deal in corporate history. This will grow their green energy profile by 40%, giving them an extra 1.6 gigawatt of clean energy, the company said.[299]\n",
      "\n",
      "\n",
      "\n",
      "In September 2020, Google announced it had retroactively offset all of its carbon emissions since the company's foundation in 1998.[300] It also committed to operating its data centers and offices using only carbon-free energy by 2030.[301] In October 2020, the company pledged to make the packaging for its hardware products 100% plastic-free and 100% recyclable by 2025. It also said that all its final assembly manufacturing sites will achieve a UL 2799 Zero Waste to Landfill certification by 2022 by ensuring that the vast majority of waste from the manufacturing process is recycled instead of ending up in a landfill.[302]\n",
      "\n",
      "\n",
      "\n",
      "Climate change denial and misinformation\n",
      "\n",
      "Google donates to climate change denial political groups including the State Policy Network and the Competitive Enterprise Institute.[303][304] The company also actively funds and profits from climate disinformation by monetizing ad spaces on most of the largest climate disinformation sites.[305] Google continued to monetize and profit from sites propagating climate disinformation even after the company updated their policy to prohibit placing their ads on similar sites.[306]\n",
      "\n",
      "\n",
      "\n",
      "Philanthropy\n",
      "\n",
      "Main article: Google.org\n",
      "\n",
      "In 2004, Google formed the not-for-profit philanthropic Google.org, with a start-up fund of $1 billion.[307] The mission of the organization is to create awareness about climate change, global public health, and global poverty. One of its first projects was to develop a viable plug-in hybrid electric vehicle that can attain 100 miles per gallon. Google hired Larry Brilliant as the program's executive director in 2004[308] and Megan Smith has since replaced him as director.[309]\n",
      "\n",
      "\n",
      "\n",
      "In March 2007, in partnership with the Mathematical Sciences Research Institute (MSRI), Google hosted the first Julia Robinson Mathematics Festival at its headquarters in Mountain View.[310] In 2011, Google donated 1 million euros to International Mathematical Olympiad to support the next five annual International Mathematical Olympiads (2011–2015).[311][312] In July 2012, Google launched a \"Legalize Love\" campaign in support of gay rights.[313]\n",
      "\n",
      "\n",
      "\n",
      "In 2008, Google announced its \"project 10100\" which accepted ideas for how to help the community and then allowed Google users to vote on their favorites.[314] After two years of silence, during which many wondered what had happened to the program,[315] Google revealed the winners of the project, giving a total of ten million dollars to various ideas ranging from non-profit organizations that promote education to a website that intends to make all legal documents public and online.[316]\n",
      "\n",
      "\n",
      "\n",
      "Responding to the humanitarian crisis after the 2022 Russian invasion of Ukraine, Google announced a $15 million donation to support Ukrainian citizens.[317] The company also decided to transform its office in Warsaw into a help center for refugees.[318]\n",
      "\n",
      "\n",
      "\n",
      "Also in February 2022, Google announced a $100 million fund to expand skills training and job placement for low-income Americans, in conjunction with non-profits Year Up, Social Finance, and Merit America.[319]\n",
      "\n",
      "\n",
      "\n",
      "Criticism and controversies\n",
      "\n",
      "Main articles: Criticism of Google, Censorship by Google, and Privacy concerns regarding Google\n",
      "\n",
      "\n",
      "\n",
      "This section should include a better summary of Criticism of Google. See Wikipedia:Summary style for information on how to properly incorporate it into this article's main text. (April 2019)\n",
      "\n",
      "\n",
      "\n",
      "San Francisco activists protest privately owned shuttle buses that transport workers for tech companies such as Google from their homes in San Francisco and Oakland to corporate campuses in Silicon Valley.\n",
      "\n",
      "Google has had criticism over issues such as aggressive tax avoidance,[320] search neutrality, copyright, censorship of search results and content,[321] and privacy.[322][323]\n",
      "\n",
      "\n",
      "\n",
      "Other criticisms are alleged misuse and manipulation of search results, its use of other people's intellectual property, concerns that its compilation of data may violate people's privacy, and the energy consumption of its servers, as well as concerns over traditional business issues such as monopoly, restraint of trade, anti-competitive practices, and patent infringement.\n",
      "\n",
      "\n",
      "\n",
      "Google formerly complied with Internet censorship policies of the People's Republic of China,[324] enforced by means of filters colloquially known as \"The Great Firewall of China\", but no longer does so. As a result, all Google services except for Chinese Google Maps are blocked from access within mainland China without the aid of virtual private networks, proxy servers, or other similar technologies.\n",
      "\n",
      "\n",
      "\n",
      "2018\n",
      "\n",
      "In July 2018, Mozilla program manager Chris Peterson accused Google of intentionally slowing down YouTube performance on Firefox.[325][326] In April 2019, former Mozilla executive Jonathan Nightingale accused Google of intentionally and systematically sabotaging the Firefox browser over the past decade in order to boost adoption of Google Chrome.[327]\n",
      "\n",
      "\n",
      "\n",
      "In August 2018, The Intercept reported that Google is developing for the People's Republic of China a censored version of its search engine (known as Dragonfly) \"that will blacklist websites and search terms about human rights, democracy, religion, and peaceful protest\".[328][329] However, the project had been withheld due to privacy concerns.[330][331]\n",
      "\n",
      "\n",
      "\n",
      "2019\n",
      "\n",
      "In 2019, a hub for critics of Google dedicated to abstaining from using Google products coalesced in the Reddit online community /r/degoogle.[332] The DeGoogle grassroots campaign continues to grow as privacy activists highlight information about Google products, and the associated incursion on personal privacy rights by the company.\n",
      "\n",
      "\n",
      "\n",
      "In November 2019, the Office for Civil Rights of the United States Department of Health and Human Services began investigation into Project Nightingale, to assess whether the \"mass collection of individuals' medical records\" complied with HIPAA.[333] According to The Wall Street Journal, Google secretively began the project in 2018, with St. Louis-based healthcare company Ascension.[334]\n",
      "\n",
      "\n",
      "\n",
      "2022\n",
      "\n",
      "In a 2022 National Labor Relations Board ruling, court documents suggested that Google sponsored a secretive project—Project Vivian—to counsel its employees and to discourage them from forming unions.[335]\n",
      "\n",
      "\n",
      "\n",
      "2023\n",
      "\n",
      "On May 1, 2023, Google placed an ad against anti-disinformation Brazilian Congressional Bill No. 2630, which was about to be approved, on its search homepage in Brazil, calling on its users to ask congressional representatives to oppose the legislation. The country's government and judiciary accused the company of undue interference in the congressional debate, saying it could amount to abuse of economic power and ordering the company to change the ad within two hours of notification or face fines of R$1 million (2023) (US$185,528.76) per non-compliance hour. The company then promptly removed the ad.[336][337]\n",
      "\n",
      "\n",
      "\n",
      "Racially-targeted surveillance\n",
      "\n",
      "Google has aided controversial governments in mass surveillance projects, sharing with police and military the identities of those protesting racial injustice. In 2020, they shared with the FBI information collected from all Android users at a Black Lives Matter protest in Seattle,[338] including those who had opted out of location data collection.[339][340]\n",
      "\n",
      "\n",
      "\n",
      "Google is also part of Project Nimbus, a $1.2 billion deal in which the technology companies Google and Amazon will provide Israel and its military with artificial intelligence, machine learning, and other cloud computing services, including building local cloud sites that will \"keep information within Israel's borders under strict security guidelines.\"[341][342][343] The contract has been criticized by shareholders as well as their employees over concerns that the project will lead to further abuses of Palestinians' human rights in the context of the ongoing illegal occupation and the Israeli–Palestinian conflict.[344][345] Ariel Koren, a former marketing manager for Google's educational products and an outspoken critic of the project, wrote that Google \"systematically silences Palestinian, Jewish, Arab and Muslim voices concerned about Google's complicity in violations of Palestinian human rights—to the point of formally retaliating against workers and creating an environment of fear,\" reflecting her view that the ultimatum came in retaliation for her opposition to and organization against the project.[341][346]\n",
      "\n",
      "\n",
      "\n",
      "Anti-trust, privacy, and other litigation\n",
      "\n",
      "Main article: Google litigation\n",
      "\n",
      "\n",
      "\n",
      "The European Commission, which imposed three fines on Google in 2017, 2018, and 2019\n",
      "\n",
      "Fines and lawsuits\n",
      "\n",
      "European Union\n",
      "\n",
      "On June 27, 2017, the company received a record fine of €2.42 billion from the European Union for \"promoting its own shopping comparison service at the top of search results.\"[347]\n",
      "\n",
      "\n",
      "\n",
      "On July 18, 2018,[348] the European Commission fined Google €4.34 billion for breaching EU antitrust rules. The abuse of dominant position has been referred to Google's constraint applied to Android device manufacturers and network operators to ensure that traffic on Android devices goes to the Google search engine. On October 9, 2018, Google confirmed[349] that it had appealed the fine to the General Court of the European Union.[350]\n",
      "\n",
      "\n",
      "\n",
      "On October 8, 2018, a class action lawsuit was filed against Google and Alphabet due to \"non-public\" Google+ account data being exposed as a result of a bug that allowed app developers to gain access to the private information of users. The litigation was settled in July 2020 for $7.5 million with a payout to claimants of at least $5 each, with a maximum of $12 each.[351][352][353]\n",
      "\n",
      "\n",
      "\n",
      "On March 20, 2019, the European Commission imposed a €1.49 billion ($1.69 billion) fine on Google for preventing rivals from being able to \"compete and innovate fairly\" in the online advertising market. European Union competition commissioner Margrethe Vestager said Google had violated EU antitrust rules by \"imposing anti-competitive contractual restrictions on third-party websites\" that required them to exclude search results from Google's rivals.[354][355]\n",
      "\n",
      "\n",
      "\n",
      "On September 14, 2022, Google lost the appeal over €4.125bn (£3.5bn) fine, which was ruled to be paid after it was proved by the European Commission that Google forced Android phone-makers to carry Google's search and web browser apps. Since the initial accusations, Google changed its policy.[356]\n",
      "\n",
      "\n",
      "\n",
      "France\n",
      "\n",
      "On January 21, 2019, French data regulator CNIL imposed a record €50 million fine on Google for breaching the European Union's General Data Protection Regulation. The judgment claimed Google had failed to sufficiently inform users of its methods for collecting data to personalize advertising. Google issued a statement saying it was \"deeply committed\" to transparency and was \"studying the decision\" before determining its response.[357]\n",
      "\n",
      "\n",
      "\n",
      "On January 6, 2022, France's data privacy regulatory body CNIL fined Alphabet's Google 150 million euros (US$169 million) for not allowing its Internet users an easy refusal of Cookies along with Facebook.[358]\n",
      "\n",
      "\n",
      "\n",
      "United States\n",
      "\n",
      "After U.S. Congressional hearings in July 2020,[359] and a report from the U.S. House of Representatives' Antitrust Subcommittee released in early October[360] the United States Department of Justice filed an antitrust lawsuit against Google on October 20, 2020, asserting that it has illegally maintained its monopoly position in web search and search advertising.[361][362] The lawsuit alleged that Google engaged in anticompetitive behavior by paying Apple between $8 billion-$12 billion to be the default search engine on iPhones.[363] Later that month, both Facebook and Alphabet agreed to \"cooperate and assist one another\" in the face of investigation into their online advertising practices.[364][365] Another suit was brought against Google in 2023 for illegally monopolizing the advertising technology market.[366]\n",
      "\n",
      "\n",
      "\n",
      "Private browsing lawsuit\n",
      "\n",
      "See also: Private browsing\n",
      "\n",
      "In early June 2020, a $5 billion class-action lawsuit was filed against Google by a group of consumers, alleging that Chrome's Incognito browsing mode still collects their user history.[367][368] The lawsuit became known in March 2021 when a federal judge denied Google's request to dismiss the case, ruling that they must face the group's charges.[369][370] Reuters reported that the lawsuit alleged that Google's CEO Sundar Pichai sought to keep the users unaware of this issue.[371]\n",
      "\n",
      "\n",
      "\n",
      "Gender discrimination lawsuit\n",
      "\n",
      "In 2017, three women sued Google, accusing the company of violating California's Equal Pay Act by underpaying its female employees. The lawsuit cited the wage gap was around $17,000 and that Google locked women into lower career tracks, leading to smaller salaries and bonuses. In June 2022, Google agreed to pay a $118 million settlement to 15,550 female employees working in California since 2013. As a part of the settlement, Google also agreed to hire a third party to analyze its hiring and compensation practices.[372][373][374]\n",
      "\n",
      "\n",
      "\n",
      "U.S. government contracts\n",
      "\n",
      "Following media reports about PRISM, the NSA's massive electronic surveillance program, in June 2013, several technology companies were identified as participants, including Google.[375] According to unnamed sources, Google joined the PRISM program in 2009, as YouTube in 2010.[376]\n",
      "\n",
      "\n",
      "\n",
      "Google has worked with the United States Department of Defense on drone software through the 2017 Project Maven that could be used to improve the accuracy of drone strikes.[377] In April 2018, thousands of Google employees, including senior engineers, signed a letter urging Google CEO Sundar Pichai to end this controversial contract with the Pentagon.[378] Google ultimately decided not to renew this DoD contract, which was set to expire in 2019.[379]\n",
      "\n",
      "\n",
      "\n",
      "See also\n"
     ]
    }
   ],
   "source": [
    "for i in open('test.txt'):\n",
    "    print(i)"
   ]
  },
  {
   "cell_type": "code",
   "execution_count": 7,
   "id": "e561e244-7c29-441e-9a1c-c4fff598e1b8",
   "metadata": {},
   "outputs": [],
   "source": [
    "def read_file(file_name):\n",
    "    with open(file_name) as file :\n",
    "        for i in file:\n",
    "            yield i"
   ]
  },
  {
   "cell_type": "code",
   "execution_count": 9,
   "id": "d7655e08-8c78-488f-8fda-5c151aff831c",
   "metadata": {},
   "outputs": [
    {
     "data": {
      "text/plain": [
       "<generator object read_file at 0x7fb2a79e1e00>"
      ]
     },
     "execution_count": 9,
     "metadata": {},
     "output_type": "execute_result"
    }
   ],
   "source": [
    "read_file('test.txt')"
   ]
  },
  {
   "cell_type": "code",
   "execution_count": 10,
   "id": "e3ee58f6-4c9b-43fb-a588-08dcd7db1067",
   "metadata": {},
   "outputs": [
    {
     "name": "stdout",
     "output_type": "stream",
     "text": [
      "Google LLC (/ˈɡuːɡəl/ ⓘ) is an American multinational technology company focusing on artificial intelligence,[9] online advertising, search engine technology, cloud computing, computer software, quantum computing, e-commerce, and consumer electronics. It has been referred to as \"the most powerful company in the world\"[10] and as one of the world's most valuable brands due to its market dominance, data collection, and technological advantages in the field of artificial intelligence.[11][12][13] Alongside Amazon, Apple Inc., Meta Platforms, and Microsoft, Google's parent company Alphabet Inc. is one of the five Big Tech companies.\n",
      "\n",
      "\n",
      "\n",
      "Google was founded on September 4, 1998, by American computer scientists Larry Page and Sergey Brin while they were PhD students at Stanford University in California. Together they own about 14% of its publicly listed shares and control 56% of its stockholder voting power through super-voting stock. The company went public via an initial public offering (IPO) in 2004. In 2015, Google was reorganized as a wholly owned subsidiary of Alphabet Inc. Google is Alphabet's largest subsidiary and is a holding company for Alphabet's internet properties and interests. Sundar Pichai was appointed CEO of Google on October 24, 2015, replacing Larry Page, who became the CEO of Alphabet. On December 3, 2019, Pichai also became the CEO of Alphabet.[14]\n",
      "\n",
      "\n",
      "\n",
      "The company has since rapidly grown to offer a multitude of products and services beyond Google Search, many of which hold dominant market positions. These products address a wide range of use cases, including email (Gmail), navigation (Waze & Maps), cloud computing (Cloud), web browsing (Chrome), video sharing (YouTube), productivity (Workspace), operating systems (Android), cloud storage (Drive), language translation (Translate), photo storage (Photos), video calling (Meet), smart home (Nest), smartphones (Pixel), wearable technology (Pixel Watch & Fitbit), music streaming (YouTube Music), video on demand (YouTube TV), artificial intelligence (Google Assistant), machine learning APIs (TensorFlow), AI chips (TPU), and more. Discontinued Google products include gaming (Stadia), Glass, Google+, Reader, Play Music, Nexus, Hangouts, and Inbox by Gmail.[15][16]\n",
      "\n",
      "\n",
      "\n",
      "Google's other ventures outside of Internet services and consumer electronics include quantum computing (Sycamore), self-driving cars (Waymo, formerly the Google Self-Driving Car Project), smart cities (Sidewalk Labs), and transformer models (Google Deepmind).[17]\n",
      "\n",
      "\n",
      "\n",
      "Google and YouTube are the two most visited websites worldwide followed by Facebook and X. Google is also the largest search engine, mapping and navigation application, email provider, office suite, video sharing platform, photo and cloud storage provider, mobile operating system, web browser, ML framework, and AI virtual assistant provider in the world as measured by market share. On the list of most valuable brands, Google is ranked second by Forbes[18] and fourth by Interbrand.[19] It has received significant criticism involving issues such as privacy concerns, tax avoidance, censorship, search neutrality, antitrust and abuse of its monopoly position.\n",
      "\n",
      "\n",
      "\n",
      "History\n",
      "\n",
      "Main articles: History of Google and List of mergers and acquisitions by Alphabet\n",
      "\n",
      "See also: Alphabet Inc.\n",
      "\n",
      "Early years\n",
      "\n",
      "\n",
      "\n",
      "Larry Page and Sergey Brin in 2003\n",
      "\n",
      "Google began in January 1996 as a research project by Larry Page and Sergey Brin when they were both PhD students at Stanford University in California.[20][21][22] The project initially involved an unofficial \"third founder\", Scott Hassan, the original lead programmer who wrote much of the code for the original Google Search engine, but he left before Google was officially founded as a company;[23][24] Hassan went on to pursue a career in robotics and founded the company Willow Garage in 2006.[25][26]\n",
      "\n",
      "\n",
      "\n",
      "While conventional search engines ranked results by counting how many times the search terms appeared on the page, they theorized about a better system that analyzed the relationships among websites.[27] They called this algorithm PageRank; it determined a website's relevance by the number of pages, and the importance of those pages that linked back to the original site.[28][29] Page told his ideas to Hassan, who began writing the code to implement Page's ideas.[23]\n",
      "\n",
      "\n",
      "\n",
      "Page and Brin originally nicknamed the new search engine \"BackRub\", because the system checked backlinks to estimate the importance of a site.[20][30][31] Hassan as well as Alan Steremberg were cited by Page and Brin as being critical to the development of Google. Rajeev Motwani and Terry Winograd later co-authored with Page and Brin the first paper about the project, describing PageRank and the initial prototype of the Google search engine, published in 1998. Héctor García-Molina and Jeff Ullman were also cited as contributors to the project.[32] PageRank was influenced by a similar page-ranking and site-scoring algorithm earlier used for RankDex, developed by Robin Li in 1996, with Larry Page's PageRank patent including a citation to Li's earlier RankDex patent; Li later went on to create the Chinese search engine Baidu.[33][34]\n",
      "\n",
      "\n",
      "\n",
      "Eventually, they changed the name to Google; the name of the search engine was a misspelling of the word googol,[20][35][36] a very large number written 10100 (1 followed by 100 zeros), picked to signify that the search engine was intended to provide large quantities of information.[37]\n",
      "\n",
      "\n",
      "\n",
      "Google's homepage in 1998\n",
      "\n",
      "Google's original homepage had a simple design because the company founders had little experience in HTML, the markup language used for designing web pages.[38]\n",
      "\n",
      "Google was initially funded by an August 1998 investment of $100,000 from Andy Bechtolsheim,[20] co-founder of Sun Microsystems. This initial investment served as a motivation to incorporate the company to be able to use the funds.[39][40] Page and Brin initially approached David Cheriton for advice because he had a nearby office in Stanford, and they knew he had startup experience, having recently sold the company he co-founded, Granite Systems, to Cisco for $220 million. David arranged a meeting with Page and Brin and his Granite co-founder Andy Bechtolsheim. The meeting was set for 8 a.m. at the front porch of David's home in Palo Alto and it had to be brief because Andy had another meeting at Cisco, where he now worked after the acquisition, at 9 a.m. Andy briefly tested a demo of the website, liked what he saw, and then went back to his car to grab the check. David Cheriton later also joined in with a $250,000 investment.[41][42]\n",
      "\n",
      "\n",
      "\n",
      "Google received money from two other angel investors in 1998: Amazon.com founder Jeff Bezos, and entrepreneur Ram Shriram.[43] Page and Brin had first approached Shriram, who was a venture capitalist, for funding and counsel, and Shriram invested $250,000 in Google in February 1998. Shriram knew Bezos because Amazon had acquired Junglee, at which Shriram was the president. It was Shriram who told Bezos about Google. Bezos asked Shriram to meet Google's founders and they met six months after Shriram had made his investment when Bezos and his wife were on a vacation trip to the Bay Area. Google's initial funding round had already formally closed but Bezos' status as CEO of Amazon was enough to persuade Page and Brin to extend the round and accept his investment.[44][45]\n",
      "\n",
      "\n",
      "\n",
      "Between these initial investors, friends, and family Google raised around $1,000,000, which is what allowed them to open up their original shop in Menlo Park, California.[46] Craig Silverstein, a fellow PhD student at Stanford, was hired as the first employee.[22][47][48]\n",
      "\n",
      "\n",
      "\n",
      "After some additional, small investments through the end of 1998 to early 1999,[43] a new $25 million round of funding was announced on June 7, 1999,[49] with major investors including the venture capital firms Kleiner Perkins and Sequoia Capital.[40] Both firms were initially reticent about investing jointly in Google, as each wanted to retain a larger percentage of control over the company to themselves. Larry and Sergey however insisted in taking investments from both. Both venture companies finally agreed to investing jointly $12.5 million each due to their belief in Google's great potential and through the mediation of earlier angel investors Ron Conway and Ram Shriram who had contacts in the venture companies.[50]\n",
      "\n",
      "\n",
      "\n",
      "Growth\n",
      "\n",
      "In March 1999, the company moved its offices to Palo Alto, California,[51] which is home to several prominent Silicon Valley technology start-ups.[52] The next year, Google began selling advertisements associated with search keywords against Page and Brin's initial opposition toward an advertising-funded search engine.[53][22] To maintain an uncluttered page design, advertisements were solely text-based.[54] In June 2000, it was announced that Google would become the default search engine provider for Yahoo!, one of the most popular websites at the time, replacing Inktomi.[55][56]\n",
      "\n",
      "\n",
      "\n",
      "Google's first servers, showing lots of exposed wiring and circuit boards\n",
      "\n",
      "Google's first production server[57]\n",
      "\n",
      "In 2003, after outgrowing two other locations, the company leased an office complex from Silicon Graphics, at 1600 Amphitheatre Parkway in Mountain View, California.[58] The complex became known as the Googleplex, a play on the word googolplex, the number one followed by a googol of zeroes. Three years later, Google bought the property from SGI for $319 million.[59] By that time, the name \"Google\" had found its way into everyday language, causing the verb \"google\" to be added to the Merriam-Webster Collegiate Dictionary and the Oxford English Dictionary, denoted as: \"to use the Google search engine to obtain information on the Internet\".[60][61] The first use of the verb on television appeared in an October 2002 episode of Buffy the Vampire Slayer.[62]\n",
      "\n",
      "\n",
      "\n",
      "Additionally, in 2001 Google's investors felt the need to have a strong internal management, and they agreed to hire Eric Schmidt as the chairman and CEO of Google.[46] Eric was proposed by John Doerr from Kleiner Perkins. He had been trying to find a CEO that Sergey and Larry would accept for several months, but they rejected several candidates because they wanted to retain control over the company. Michael Moritz from Sequoia Capital at one point even menaced requesting Google to immediately pay back Sequoia's $12.5m investment if they did not fulfill their promise to hire a chief executive officer, which had been made verbally during investment negotiations. Eric was not initially enthusiastic about joining Google either, as the company's full potential had not yet been widely recognized at the time, and as he was occupied with his responsibilities at Novell where he was CEO. As part of him joining, Eric agreed to buy $1 million of Google preferred stocks as a way to show his commitment and to provide funds Google needed.[63]\n",
      "\n",
      "\n",
      "\n",
      "Initial public offering\n",
      "\n",
      "On August 19, 2004, Google became a public company via an initial public offering. At that time Larry Page, Sergey Brin, and Eric Schmidt agreed to work together at Google for 20 years, until the year 2024.[64] The company offered 19,605,052 shares at a price of $85 per share.[65][66] Shares were sold in an online auction format using a system built by Morgan Stanley and Credit Suisse, underwriters for the deal.[67][68] The sale of $1.67 billion gave Google a market capitalization of more than $23 billion.[69]\n",
      "\n",
      "\n",
      "\n",
      "\n",
      "\n",
      "Eric Schmidt, CEO of Google from 2001 to 2011\n",
      "\n",
      "On November 13, 2006, Google acquired YouTube for $1.65 billion in Google stock,[70][71][72][73] On March 11, 2008, Google acquired DoubleClick for $3.1 billion, transferring to Google valuable relationships that DoubleClick had with Web publishers and advertising agencies.[74][75]\n",
      "\n",
      "\n",
      "\n",
      "By 2011, Google was handling approximately 3 billion searches per day. To handle this workload, Google built 11 data centers around the world with several thousand servers in each. These data centers allowed Google to handle the ever-changing workload more efficiently.[46]\n",
      "\n",
      "\n",
      "\n",
      "In May 2011, the number of monthly unique visitors to Google surpassed one billion for the first time.[76][77]\n",
      "\n",
      "\n",
      "\n",
      "In May 2012, Google acquired Motorola Mobility for $12.5 billion, in its largest acquisition to date.[78][79][80] This purchase was made in part to help Google gain Motorola's considerable patent portfolio on mobile phones and wireless technologies, to help protect Google in its ongoing patent disputes with other companies,[81] mainly Apple and Microsoft,[82] and to allow it to continue to freely offer Android.[83]\n",
      "\n",
      "\n",
      "\n",
      "2012 onward\n",
      "\n",
      "In June 2013, Google acquired Waze, a $966 million deal.[84] While Waze would remain an independent entity, its social features, such as its crowdsourced location platform, were reportedly valuable integrations between Waze and Google Maps, Google's own mapping service.[85]\n",
      "\n",
      "\n",
      "\n",
      "Google announced the launch of a new company, called Calico, on September 19, 2013, to be led by Apple Inc. chairman Arthur Levinson. In the official public statement, Page explained that the \"health and well-being\" company would focus on \"the challenge of ageing and associated diseases\".[86]\n",
      "\n",
      "\n",
      "\n",
      "\n",
      "\n",
      "Entrance of building where Google and its subsidiary Deep Mind are located at 6 Pancras Square, London\n",
      "\n",
      "On January 26, 2014, Google announced it had agreed to acquire DeepMind Technologies, a privately held artificial intelligence company from London.[87] Technology news website Recode reported that the company was purchased for $400 million, yet the source of the information was not disclosed. A Google spokesperson declined to comment on the price.[88][89] The purchase of DeepMind aids in Google's recent growth in the artificial intelligence and robotics community.[90]/ In 2015, DeepMind's AlphaGo became the first computer program to defeat a top human pro at the game of Go.\n",
      "\n",
      "\n",
      "\n",
      "According to Interbrand's annual Best Global Brands report, Google has been the second most valuable brand in the world (behind Apple Inc.) in 2013,[91] 2014,[92] 2015,[93] and 2016, with a valuation of $133 billion.[94]\n",
      "\n",
      "\n",
      "\n",
      "On August 10, 2015, Google announced plans to reorganize its various interests as a conglomerate named Alphabet Inc. Google became Alphabet's largest subsidiary and the umbrella company for Alphabet's Internet interests. Upon completion of the restructuring, Sundar Pichai became CEO of Google, replacing Larry Page, who became CEO of Alphabet.[95][96][97]\n",
      "\n",
      "\n",
      "\n",
      "\n",
      "\n",
      "Current Google CEO, Sundar Pichai, with Prime Minister of India, Narendra Modi\n",
      "\n",
      "On August 8, 2017, Google fired employee James Damore after he distributed a memo throughout the company that argued bias and \"Google's Ideological Echo Chamber\" clouded their thinking about diversity and inclusion, and that it is also biological factors, not discrimination alone, that cause the average woman to be less interested than men in technical positions.[98] Google CEO Sundar Pichai accused Damore of violating company policy by \"advancing harmful gender stereotypes in our workplace\", and he was fired on the same day.[99][100][101]\n",
      "\n",
      "\n",
      "\n",
      "Between 2018 and 2019, tensions between the company's leadership and its workers escalated as staff protested company decisions on internal sexual harassment, Dragonfly, a censored Chinese search engine, and Project Maven, a military drone artificial intelligence, which had been seen as areas of revenue growth for the company.[102][103] On October 25, 2018, The New York Times published the exposé, \"How Google Protected Andy Rubin, the 'Father of Android'\". The company subsequently announced that \"48 employees have been fired over the last two years\" for sexual misconduct.[104] On November 1, 2018, more than 20,000 Google employees and contractors staged a global walk-out to protest the company's handling of sexual harassment complaints.[105][106] CEO Sundar Pichai was reported to be in support of the protests.[107] Later in 2019, some workers accused the company of retaliating against internal activists.[103]\n",
      "\n",
      "\n",
      "\n",
      "On March 19, 2019, Google announced that it would enter the video game market, launching a cloud gaming platform called Google Stadia.[108]\n",
      "\n",
      "\n",
      "\n",
      "On June 3, 2019, the United States Department of Justice reported that it would investigate Google for antitrust violations.[109] This led to the filing of an antitrust lawsuit in October 2020, on the grounds the company had abused a monopoly position in the search and search advertising markets.[110]\n",
      "\n",
      "\n",
      "\n",
      "In December 2019, former PayPal chief operating officer Bill Ready became Google's new commerce chief. Ready's role will not be directly involved with Google Pay.[111]\n",
      "\n",
      "\n",
      "\n",
      "In April 2020, due to the COVID-19 pandemic, Google announced several cost-cutting measures. Such measures included slowing down hiring for the remainder of 2020, except for a small number of strategic areas, recalibrating the focus and pace of investments in areas like data centers and machines, and non-business essential marketing and travel.[112] Most employees were also working from home due to the COVID-19 pandemic and the success of it even led to Google announcing that they would be permanently converting some of their jobs to work from home [113]\n",
      "\n",
      "\n",
      "\n",
      "The 2020 Google services outages disrupted Google services: one in August that affected Google Drive among others, another in November affecting YouTube, and a third in December affecting the entire suite of Google applications. All three outages were resolved within hours.[114][115][116]\n",
      "\n",
      "\n",
      "\n",
      "In 2021, the Alphabet Workers Union was founded, composed mostly of Google employees.[117]\n",
      "\n",
      "\n",
      "\n",
      "In January 2021, the Australian Government proposed legislation that would require Google and Facebook to pay media companies for the right to use their content. In response, Google threatened to close off access to its search engine in Australia.[118]\n",
      "\n",
      "\n",
      "\n",
      "In March 2021, Google reportedly paid $20 million for Ubisoft ports on Google Stadia.[119] Google spent \"tens of millions of dollars\" on getting major publishers such as Ubisoft and Take-Two to bring some of their biggest games to Stadia.[120]\n",
      "\n",
      "\n",
      "\n",
      "In April 2021, The Wall Street Journal reported that Google ran a years-long program called \"Project Bernanke\" that used data from past advertising bids to gain an advantage over competing for ad services. This was revealed in documents concerning the antitrust lawsuit filed by ten US states against Google in December.[121]\n",
      "\n",
      "\n",
      "\n",
      "In September 2021, the Australian government announced plans to curb Google's capability to sell targeted ads, claiming that the company has a monopoly on the market harming publishers, advertisers, and consumers.[122]\n",
      "\n",
      "\n",
      "\n",
      "In 2022, Google began accepting requests for the removal of phone numbers, physical addresses and email addresses from its search results. It had previously accepted requests for removing confidential data only, such as Social Security numbers, bank account and credit card numbers, personal signatures, and medical records. Even with the new policy, Google may remove information from only certain but not all search queries. It would not remove content that is \"broadly useful\", such as news articles, or already part of the public record.[123]\n",
      "\n",
      "\n",
      "\n",
      "In May 2022, Google announced that the company had acquired California based, MicroLED display technology development and manufacturing Start-up Raxium. Raxium is set to join Google's Devices and Services team to aid in the development of micro-optics, monolithic integration, and system integration.[124][125]\n",
      "\n",
      "\n",
      "\n",
      "In early 2023, following the success of ChatGPT and concerns that Google was falling behind in the AI race, Google's senior management issued a \"code red\" and a \"directive that all of its most important products—those with more than a billion users—must incorporate generative AI within months\".[126]\n",
      "\n",
      "\n",
      "\n",
      "In early May 2023, Google announced its plans to build two additional data centers in Ohio. These centers, which will be built in Columbus and Lancaster, will power up the company’s tools, including AI technology. The said data hub will add to the already operational center near Columbus, bringing Google's total investment in Ohio to over $2 billion.[127]\n",
      "\n",
      "\n",
      "\n",
      "Products and services\n",
      "\n",
      "Main article: List of Google products\n",
      "\n",
      "Search engine\n",
      "\n",
      "Main articles: Google Search and Google Images\n",
      "\n",
      "Google indexes billions of web pages to allow users to search for the information they desire through the use of keywords and operators.[128] According to comScore market research from November 2009, Google Search is the dominant search engine in the United States market, with a market share of 65.6%.[129] In May 2017, Google enabled a new \"Personal\" tab in Google Search, letting users search for content in their Google accounts' various services, including email messages from Gmail and photos from Google Photos.[130][131]\n",
      "\n",
      "\n",
      "\n",
      "Google launched its Google News service in 2002, an automated service which summarizes news articles from various websites.[132] Google also hosts Google Books, a service which searches the text found in books in its database and shows limited previews or and the full book where allowed.[133]\n",
      "\n",
      "\n",
      "\n",
      "Google expanded its search services to include shopping (launched originally as Froogle in 2002),[134] finance (launched 2006),[135] and flights (launched 2011).[136]\n",
      "\n",
      "\n",
      "\n",
      "Advertising\n",
      "\n",
      "\n",
      "\n",
      "Google on ad-tech London, 2010\n",
      "\n",
      "Google generates most of its revenues from advertising. This includes sales of apps, purchases made in-app, digital content products on Google and YouTube, Android and licensing and service fees, including fees received for Google Cloud offerings. Forty-six percent of this profit was from clicks (cost per clicks), amounting to US$109,652 million in 2017. This includes three principal methods, namely AdMob, AdSense (such as AdSense for Content, AdSense for Search, etc.) and DoubleClick AdExchange.[137]\n",
      "\n",
      "\n",
      "\n",
      "In addition to its own algorithms for understanding search requests, Google uses technology its acquisition of DoubleClick, to project user interest and target advertising to the search context and the user history.[138][139]\n",
      "\n",
      "\n",
      "\n",
      "In 2007, Google launched \"AdSense for Mobile\", taking advantage of the emerging mobile advertising market.[140]\n",
      "\n",
      "\n",
      "\n",
      "Google Analytics allows website owners to track where and how people use their website, for example by examining click rates for all the links on a page.[141] Google advertisements can be placed on third-party websites in a two-part program. Google Ads allows advertisers to display their advertisements in the Google content network, through a cost-per-click scheme.[142] The sister service, Google AdSense, allows website owners to display these advertisements on their website and earn money every time ads are clicked.[143] One of the criticisms of this program is the possibility of click fraud, which occurs when a person or automated script clicks on advertisements without being interested in the product, causing the advertiser to pay money to Google unduly. Industry reports in 2006 claimed that approximately 14 to 20 percent of clicks were fraudulent or invalid.[144] Google Search Console (rebranded from Google Webmaster Tools in May 2015) allows webmasters to check the sitemap, crawl rate, and for security issues of their websites, as well as optimize their website's visibility.\n",
      "\n",
      "\n",
      "\n",
      "Consumer services\n",
      "\n",
      "Web-based services\n",
      "\n",
      "Google offers Gmail for email,[145] Google Calendar for time-management and scheduling,[146] Google Maps for mapping, navigation and satellite imagery,[147] Google Drive for cloud storage of files,[148] Google Docs, Sheets and Slides for productivity,[148] Google Photos for photo storage and sharing,[149] Google Keep for note-taking,[150] Google Translate for language translation,[151] YouTube for video viewing and sharing,[152] Google My Business for managing public business information,[153] and Duo for social interaction.[154] In March 2019, Google unveiled a cloud gaming service named Stadia.[108] A job search product has also existed since before 2017,[155][156][157] Google for Jobs is an enhanced search feature that aggregates listings from job boards and career sites.[158]\n",
      "\n",
      "\n",
      "\n",
      "Some Google services are not web-based. Google Earth, launched in 2005, allowed users to see high-definition satellite pictures from all over the world for free through a client software downloaded to their computers.[159]\n",
      "\n",
      "\n",
      "\n",
      "Software\n",
      "\n",
      "Google develops the Android mobile operating system,[160] as well as its smartwatch,[161] television,[162] car,[163] and Internet of things-enabled smart devices variations.[164]\n",
      "\n",
      "\n",
      "\n",
      "It also develops the Google Chrome web browser,[165] and ChromeOS, an operating system based on Chrome.[166]\n",
      "\n",
      "\n",
      "\n",
      "Hardware\n",
      "\n",
      "\n",
      "\n",
      "Google Pixel smartphones on display in a store\n",
      "\n",
      "In January 2010, Google released Nexus One, the first Android phone under its own brand.[167] It spawned a number of phones and tablets under the \"Nexus\" branding[168] until its eventual discontinuation in 2016, replaced by a new brand called Pixel.[169]\n",
      "\n",
      "\n",
      "\n",
      "In 2011, the Chromebook was introduced, which runs on ChromeOS.[170]\n",
      "\n",
      "\n",
      "\n",
      "In July 2013, Google introduced the Chromecast dongle, which allows users to stream content from their smartphones to televisions.[171][172]\n",
      "\n",
      "\n",
      "\n",
      "In June 2014, Google announced Google Cardboard, a simple cardboard viewer that lets the user place their smartphone in a special front compartment to view virtual reality (VR) media.[173]\n",
      "\n",
      "\n",
      "\n",
      "Other hardware products include:\n",
      "\n",
      "\n",
      "\n",
      "Nest, a series of voice assistant smart speakers that can answer voice queries, play music, find information from apps (calendar, weather etc.), and control third-party smart home appliances (users can tell it to turn on the lights, for example). The Google Nest line includes the original Google Home[174] (later succeeded by the Nest Audio), the Google Home Mini (later succeeded by the Nest Mini), the Google Home Max, the Google Home Hub (later rebranded as the Nest Hub), and the Nest Hub Max.\n",
      "\n",
      "Nest Wifi (originally Google Wifi), a connected set of Wi-Fi routers to simplify and extend coverage of home Wi-Fi.[175]\n",
      "\n",
      "Enterprise services\n",
      "\n",
      "Main articles: Google Workspace and Google Cloud Platform\n",
      "\n",
      "Google Workspace (formerly G Suite until October 2020[176]) is a monthly subscription offering for organizations and businesses to get access to a collection of Google's services, including Gmail, Google Drive and Google Docs, Google Sheets and Google Slides, with additional administrative tools, unique domain names, and 24/7 support.[177]\n",
      "\n",
      "\n",
      "\n",
      "On September 24, 2012,[178] Google launched Google for Entrepreneurs, a largely not-for-profit business incubator providing startups with co-working spaces known as Campuses, with assistance to startup founders that may include workshops, conferences, and mentorships.[179] Presently, there are seven Campus locations: Berlin, London, Madrid, Seoul, São Paulo, Tel Aviv, and Warsaw.\n",
      "\n",
      "\n",
      "\n",
      "On March 15, 2016, Google announced the introduction of Google Analytics 360 Suite, \"a set of integrated data and marketing analytics products, designed specifically for the needs of enterprise-class marketers\" which can be integrated with BigQuery on the Google Cloud Platform. Among other things, the suite is designed to help \"enterprise class marketers\" \"see the complete customer journey\", generate \"useful insights\", and \"deliver engaging experiences to the right people\".[180] Jack Marshall of The Wall Street Journal wrote that the suite competes with existing marketing cloud offerings by companies including Adobe, Oracle, Salesforce, and IBM.[181]\n",
      "\n",
      "\n",
      "\n",
      "Internet services\n",
      "\n",
      "In February 2010, Google announced the Google Fiber project, with experimental plans to build an ultra-high-speed broadband network for 50,000 to 500,000 customers in one or more American cities.[182][183] Following Google's corporate restructure to make Alphabet Inc. its parent company, Google Fiber was moved to Alphabet's Access division.[184][185]\n",
      "\n",
      "\n",
      "\n",
      "In April 2015, Google announced Project Fi, a mobile virtual network operator, that combines Wi-Fi and cellular networks from different telecommunication providers in an effort to enable seamless connectivity and fast Internet signal.[186][187]\n",
      "\n",
      "\n",
      "\n",
      "Financial services\n",
      "\n",
      "As a more mature company, Google has made many moves into financial services.\n",
      "\n",
      "\n",
      "\n",
      "In August 2023, it became the first major tech company to join the OpenWallet Foundation, launched earlier in the year, whose goal was creating open-source software for interoperable digital wallets.[188]\n",
      "\n",
      "\n",
      "\n",
      "Corporate affairs\n",
      "\n",
      "Stock price performance and quarterly earnings\n",
      "\n",
      "Google's initial public offering (IPO) took place on August 19, 2004. At IPO, the company offered 19,605,052 shares at a price of $85 per share.[65][66] The sale of $1.67 billion gave Google a market capitalization of more than $23 billion.[69] The stock performed well after the IPO, with shares hitting $350 for the first time on October 31, 2007,[189] primarily because of strong sales and earnings in the online advertising market.[190] The surge in stock price was fueled mainly by individual investors, as opposed to large institutional investors and mutual funds.[190] GOOG shares split into GOOG class C shares and GOOGL class A shares.[191] The company is listed on the NASDAQ stock exchange under the ticker symbols GOOGL and GOOG, and on the Frankfurt Stock Exchange under the ticker symbol GGQ1. These ticker symbols now refer to Alphabet Inc., Google's holding company, since the fourth quarter of 2015.[192]\n",
      "\n",
      "\n",
      "\n",
      "In the third quarter of 2005, Google reported a 700% increase in profit, largely due to large companies shifting their advertising strategies from newspapers, magazines, and television to the Internet.[193][194][195]\n",
      "\n",
      "\n",
      "\n",
      "For the 2006 fiscal year, the company reported $10.492 billion in total advertising revenues and only $112 million in licensing and other revenues.[196] In 2011, 96% of Google's revenue was derived from its advertising programs.[197]\n",
      "\n",
      "\n",
      "\n",
      "Google generated $50 billion in annual revenue for the first time in 2012, generating $38 billion the previous year. In January 2013, then-CEO Larry Page commented, \"We ended 2012 with a strong quarter ... Revenues were up 36% year-on-year, and 8% quarter-on-quarter. And we hit $50 billion in revenues for the first time last year – not a bad achievement in just a decade and a half.\"[198]\n",
      "\n",
      "\n",
      "\n",
      "Google's consolidated revenue for the third quarter of 2013 was reported in mid-October 2013 as $14.89 billion, a 12 percent increase compared to the previous quarter.[199] Google's Internet business was responsible for $10.8 billion of this total, with an increase in the number of users' clicks on advertisements.[200] By January 2014, Google's market capitalization had grown to $397 billion.[201]\n",
      "\n",
      "\n",
      "\n",
      "Tax avoidance strategies\n",
      "\n",
      "Further information: Corporation tax in the Republic of Ireland § Multinational tax schemes, and Google tax\n",
      "\n",
      "Google uses various tax avoidance strategies. On the list of largest technology companies by revenue, it pays the lowest taxes to the countries of origin of its revenues. Google between 2007 and 2010 saved $3.1 billion in taxes by shuttling non-U.S. profits through Ireland and the Netherlands and then to Bermuda. Such techniques lower its non-U.S. tax rate to 2.3 per cent, while normally the corporate tax rate in, for instance, the UK is 28 per cent.[202] This reportedly sparked a French investigation into Google's transfer pricing practices in 2012.[203]\n",
      "\n",
      "\n",
      "\n",
      "In 2020, Google said it had overhauled its controversial global tax structure and consolidated all of its intellectual property holdings back to the US.[204]\n",
      "\n",
      "\n",
      "\n",
      "Google Vice-president Matt Brittin testified to the Public Accounts Committee of the UK House of Commons that his UK sales team made no sales and hence owed no sales taxes to the UK.[205] In January 2016, Google reached a settlement with the UK to pay £130m in back taxes plus higher taxes in future.[206] In 2017, Google channeled $22.7 billion from the Netherlands to Bermuda to reduce its tax bill.[207]\n",
      "\n",
      "\n",
      "\n",
      "In 2013, Google ranked 5th in lobbying spending, up from 213th in 2003. In 2012, the company ranked 2nd in campaign donations of technology and Internet sections.[208]\n",
      "\n",
      "\n",
      "\n",
      "Corporate identity\n",
      "\n",
      "Further information: History of Google § Name, Google (verb), Google logo, Google Doodle, List of Google April Fools' Day jokes, and List of Google Easter eggs\n",
      "\n",
      "\n",
      "\n",
      "Google's logo from 2013 to 2015\n",
      "\n",
      "The name \"Google\" originated from a misspelling of \"googol\",[209][210] which refers to the number represented by a 1 followed by one-hundred zeros. Page and Brin write in their original paper on PageRank:[32] \"We chose our system name, Google, because it is a common spelling of googol, or 10100[,] and fits well with our goal of building very large-scale search engines.\" Having found its way increasingly into everyday language, the verb \"google\" was added to the Merriam Webster Collegiate Dictionary and the Oxford English Dictionary in 2006, meaning \"to use the Google search engine to obtain information on the Internet.\"[211][212] Google's mission statement, from the outset, was \"to organize the world's information and make it universally accessible and useful\",[213] and its unofficial slogan is \"Don't be evil\".[214] In October 2015, a related motto was adopted in the Alphabet corporate code of conduct by the phrase: \"Do the right thing\".[215] The original motto was retained in the code of conduct of Google, now a subsidiary of Alphabet.\n",
      "\n",
      "\n",
      "\n",
      "The original Google logo was designed by Sergey Brin.[216] Since 1998, Google has been designing special, temporary alternate logos to place on their homepage intended to celebrate holidays, events, achievements and people. The first Google Doodle was in honor of the Burning Man Festival of 1998.[217][218] The doodle was designed by Larry Page and Sergey Brin to notify users of their absence in case the servers crashed. Subsequent Google Doodles were designed by an outside contractor, until Larry and Sergey asked then-intern Dennis Hwang to design a logo for Bastille Day in 2000. From that point onward, Doodles have been organized and created by a team of employees termed \"Doodlers\".[219]\n",
      "\n",
      "\n",
      "\n",
      "Google has a tradition of creating April Fools' Day jokes. Its first on April 1, 2000, was Google MentalPlex which allegedly featured the use of mental power to search the web.[220] In 2007, Google announced a free Internet service called TiSP, or Toilet Internet Service Provider, where one obtained a connection by flushing one end of a fiber-optic cable down their toilet.[221]\n",
      "\n",
      "\n",
      "\n",
      "Google's services contain easter eggs, such as the Swedish Chef's \"Bork bork bork,\" Pig Latin, \"Hacker\" or leetspeak, Elmer Fudd, Pirate, and Klingon as language selections for its search engine.[222] When searching for the word \"anagram,\" meaning a rearrangement of letters from one word to form other valid words, Google's suggestion feature displays \"Did you mean: nag a ram?\"[223] Since 2019, Google runs free online courses to help engineers learn how to plan and author technical documentation better.[224]\n",
      "\n",
      "\n",
      "\n",
      "Workplace culture\n",
      "\n",
      "\n",
      "\n",
      "Google employees marching in the Pride in London parade in 2016\n",
      "\n",
      "On Fortune magazine's list of the best companies to work for, Google ranked first in 2007, 2008 and 2012,[225][226][227] and fourth in 2009 and 2010.[228][229] Google was also nominated in 2010 to be the world's most attractive employer to graduating students in the Universum Communications talent attraction index.[230] Google's corporate philosophy includes principles such as \"you can make money without doing evil,\" \"you can be serious without a suit,\" and \"work should be challenging and the challenge should be fun.\"[231]\n",
      "\n",
      "\n",
      "\n",
      "As of September 30, 2020, Alphabet Inc. had 132,121 employees,[232] of which more than 100,000 worked for Google.[8] Google's 2020 diversity report states that 32 percent of its workforce are women and 68 percent are men, with the ethnicity of its workforce being predominantly white (51.7%) and Asian (41.9%).[233] Within tech roles, 23.6 percent were women; and 26.7 percent of leadership roles were held by women.[234] In addition to its 100,000+ full-time employees, Google used about 121,000 temporary workers and contractors, as of March 2019.[8]\n",
      "\n",
      "\n",
      "\n",
      "Google's employees are hired based on a hierarchical system. Employees are split into six hierarchies based on experience and can range \"from entry-level data center workers at level one to managers and experienced engineers at level six.\"[235] As a motivation technique, Google uses a policy known as Innovation Time Off, where Google engineers are encouraged to spend 20% of their work time on projects that interest them. Some of Google's services, such as Gmail, Google News, Orkut, and AdSense originated from these independent endeavors.[236] In a talk at Stanford University, Marissa Mayer, Google's vice-president of Search Products and User Experience until July 2012, showed that half of all new product launches in the second half of 2005 had originated from the Innovation Time Off.[237]\n",
      "\n",
      "\n",
      "\n",
      "In 2005, articles in The New York Times[238] and other sources began suggesting that Google had lost its anti-corporate, no evil philosophy.[239][240][241] In an effort to maintain the company's unique culture, Google designated a Chief Culture Officer whose purpose was to develop and maintain the culture and work on ways to keep true to the core values that the company was founded on.[242] Google has also faced allegations of sexism and ageism from former employees.[243][244] In 2013, a class action against several Silicon Valley companies, including Google, was filed for alleged \"no cold call\" agreements which restrained the recruitment of high-tech employees.[245] In a lawsuit filed January 8, 2018, multiple employees and job applicants alleged Google discriminated against a class defined by their \"conservative political views[,] male gender[,] and/or [...] Caucasian or Asian race\".[246]\n",
      "\n",
      "\n",
      "\n",
      "On January 25, 2020, the formation of an international workers union of Google employees, Alpha Global, was announced.[247] The coalition is made up of \"13 different unions representing workers in 10 countries, including the United States, United Kingdom, and Switzerland.\"[248] The group is affiliated with UNI Global Union, which represents nearly 20 million international workers from various unions and federations. The formation of the union is in response to persistent allegations of mistreatment of Google employees and a toxic workplace culture.[248][249][246] Google had previously been accused of surveilling and firing employees who were suspected of organizing a workers union.[250] In 2021 court documents revealed that between 2018 and 2020 Google ran an anti-union campaign called Project Vivian to \"convince them (employees) that unions suck\".[251]\n",
      "\n",
      "\n",
      "\n",
      "Office locations\n",
      "\n",
      "Further information: Googleplex\n",
      "\n",
      "\n",
      "\n",
      "Google's New York City office building houses its largest advertising sales team.\n",
      "\n",
      "\n",
      "\n",
      "Google's Toronto office\n",
      "\n",
      "Google's headquarters in Mountain View, California is referred to as \"the Googleplex\", a play on words on the number googolplex and the headquarters itself being a complex of buildings. Internationally, Google has over 78 offices in more than 50 countries.[252]\n",
      "\n",
      "\n",
      "\n",
      "In 2006, Google moved into about 300,000 square feet (27,900 m2) of office space at 111 Eighth Avenue in Manhattan, New York City. The office was designed and built specially for Google, and houses its largest advertising sales team.[253] In 2010, Google bought the building housing the headquarter, in a deal that valued the property at around $1.9 billion.[254][255] In March 2018, Google's parent company Alphabet bought the nearby Chelsea Market building for $2.4 billion. The sale is touted as one of the most expensive real estate transactions for a single building in the history of New York.[256][257][258][259] In November 2018, Google announced its plan to expand its New York City office to a capacity of 12,000 employees.[260] The same December, it was announced that a $1 billion, 1,700,000-square-foot (160,000 m2) headquarters for Google would be built in Manhattan's Hudson Square neighborhood.[261][262] Called Google Hudson Square, the new campus is projected to more than double the number of Google employees working in New York City.[263]\n",
      "\n",
      "\n",
      "\n",
      "By late 2006, Google established a new headquarters for its AdWords division in Ann Arbor, Michigan.[264] In November 2006, Google opened offices on Carnegie Mellon's campus in Pittsburgh, focusing on shopping-related advertisement coding and smartphone applications and programs.[265][266] Other office locations in the U.S. include Atlanta, Georgia; Austin, Texas; Boulder, Colorado; Cambridge, Massachusetts; San Francisco, California; Seattle, Washington; Kirkland, Washington; Birmingham, Michigan; Reston, Virginia, Washington, D.C.,[267] and Madison, Wisconsin.[268]\n",
      "\n",
      "\n",
      "\n",
      "\n",
      "\n",
      "Google's Dublin Ireland office, headquarters of Google Ads for Europe\n",
      "\n",
      "It also has product research and development operations in cities around the world, namely Sydney (birthplace location of Google Maps)[269] and London (part of Android development).[270] In November 2013, Google announced plans for a new London headquarter, a 1 million square foot office able to accommodate 4,500 employees. Recognized as one of the biggest ever commercial property acquisitions at the time of the deal's announcement in January,[271] Google submitted plans for the new headquarter to the Camden Council in June 2017.[272][273] In May 2015, Google announced its intention to create its own campus in Hyderabad, India. The new campus, reported to be the company's largest outside the United States, will accommodate 13,000 employees.[274][275]\n",
      "\n",
      "\n",
      "\n",
      "Google's Global Offices sum a total of 85 Locations worldwide,[276] with 32 offices in North America, 3 of them in Canada and 29 in United States Territory, California being the state with the most Google's offices with 9 in total including the Googleplex. In the Latin America Region Google counts with 6 offices, in Europe 24 (3 of them in UK), the Asia Pacific region counts with 18 offices principally 4 in India and 3 in China, and the Africa Middle East region counts 5 offices.\n",
      "\n",
      "\n",
      "\n",
      "North America\n",
      "\n",
      "SN\tCity\tCountry or US State\n",
      "\n",
      "1.\tAnn Arbor\t Michigan\n",
      "\n",
      "2.\tAtlanta\t Georgia\n",
      "\n",
      "3.\tAustin\t Texas\n",
      "\n",
      "4.\tBoulder\t Colorado\n",
      "\n",
      "5.\tBoulder – Pearl Place\t Colorado\n",
      "\n",
      "6.\tBoulder – Walnut\t Colorado\n",
      "\n",
      "7.\tCambridge\t Massachusetts\n",
      "\n",
      "8.\tChapel Hill\t North Carolina\n",
      "\n",
      "9.\tChicago – Carpenter\t Illinois\n",
      "\n",
      "10.\tChicago – Fulton Market\t Illinois\n",
      "\n",
      "11.\tDetroit\t Michigan\n",
      "\n",
      "12.\tIrvine\t California\n",
      "\n",
      "13.\tKirkland\t Washington\n",
      "\n",
      "14.\tKitchener\t Canada\n",
      "\n",
      "15.\tLos Angeles\t California\n",
      "\n",
      "16.\tMadison\t Wisconsin\n",
      "\n",
      "17.\tMiami\t Florida\n",
      "\n",
      "18.\tMontreal\t Canada\n",
      "\n",
      "19.\tMountain View\t California\n",
      "\n",
      "20.\tNew York\t New York\n",
      "\n",
      "21.\tPittsburgh\t Pennsylvania\n",
      "\n",
      "22.\tPlaya Vista\t California\n",
      "\n",
      "23.\tPortland\t Oregon\n",
      "\n",
      "24.\tRedwood City\t California\n",
      "\n",
      "25.\tReston\t Virginia\n",
      "\n",
      "26.\tSan Bruno\t California\n",
      "\n",
      "27.\tSan Diego\t California\n",
      "\n",
      "28.\tSan Francisco – HQ\t California\n",
      "\n",
      "29.\tSeattle\t Washington\n",
      "\n",
      "30.\tSunnyvale\t California\n",
      "\n",
      "31.\tToronto\t Canada\n",
      "\n",
      "32.\tWashington DC\t District of Columbia\n",
      "\n",
      "Latin America\n",
      "\n",
      "SN\tCity\tCountry\n",
      "\n",
      "1.\tBelo Horizonte\t Brazil\n",
      "\n",
      "2.\tBogotá\t Colombia\n",
      "\n",
      "3.\tBuenos Aires\t Argentina\n",
      "\n",
      "4.\tMexico City\t Mexico\n",
      "\n",
      "5.\tSantiago de Chile\t Chile\n",
      "\n",
      "6.\tSão Paulo\t Brazil\n",
      "\n",
      "Europe\n",
      "\n",
      "SN\tCity\tCountry\n",
      "\n",
      "1.\tAarhus\t Denmark\n",
      "\n",
      "2.\tAmsterdam\t Netherlands\n",
      "\n",
      "3.\tAthens\t Greece\n",
      "\n",
      "4.\tBerlin\t Germany\n",
      "\n",
      "5.\tBrussels\t Belgium\n",
      "\n",
      "6.\tCopenhagen\t Denmark\n",
      "\n",
      "7.\tDublin\t Ireland\n",
      "\n",
      "8.\tHamburg\t Germany\n",
      "\n",
      "9.\tLisbon\t Portugal\n",
      "\n",
      "10.\tLondon – 6PS\t United Kingdom\n",
      "\n",
      "11.\tLondon – BEL\t United Kingdom\n",
      "\n",
      "12.\tLondon – CSG\t United Kingdom\n",
      "\n",
      "13.\tMadrid\t Spain\n",
      "\n",
      "14.\tMilan\t Italy\n",
      "\n",
      "15.\tMoscow\t Russia\n",
      "\n",
      "16.\tMunich\t Germany\n",
      "\n",
      "17.\tOslo\t Norway\n",
      "\n",
      "18.\tParis\t France\n",
      "\n",
      "19.\tPrague\t Czech Republic\n",
      "\n",
      "20.\tStockholm\t Sweden\n",
      "\n",
      "21.\tVienna\t Austria\n",
      "\n",
      "22.\tWarsaw\t Poland\n",
      "\n",
      "23.\tWroclaw\t Poland\n",
      "\n",
      "24.\tZurich – BRA\t  Switzerland\n",
      "\n",
      "25.\tZurich – EUR\t  Switzerland\n",
      "\n",
      "Asia-Pacific\n",
      "\n",
      "SN\tCity\tCountry\n",
      "\n",
      "1.\tAuckland\t New Zealand\n",
      "\n",
      "2.\tBangalore\t India\n",
      "\n",
      "3.\tBangkok\t Thailand\n",
      "\n",
      "4.\tBeijing\t China\n",
      "\n",
      "5.\tGuangzhou\t China\n",
      "\n",
      "6.\tGurgaon\t India\n",
      "\n",
      "7.\tHong Kong\t Hong Kong\n",
      "\n",
      "8.\tHyderabad\t India\n",
      "\n",
      "9.\tJakarta\t Indonesia\n",
      "\n",
      "10.\tKuala Lumpur\t Malaysia\n",
      "\n",
      "11.\tManila\t Philippines\n",
      "\n",
      "12.\tMelbourne\t Australia\n",
      "\n",
      "13.\tMumbai\t India\n",
      "\n",
      "14.\tSeoul\t South Korea\n",
      "\n",
      "15.\tShanghai\t China\n",
      "\n",
      "16.\tSingapore\t Singapore\n",
      "\n",
      "17.\tSydney\t Australia\n",
      "\n",
      "18.\tTaipei\t Taiwan\n",
      "\n",
      "19.\tTokyo – RPG\t Japan\n",
      "\n",
      "20.\tTokyo – STRM\t Japan\n",
      "\n",
      "Africa and the Middle East\n",
      "\n",
      "SN\tCity\tCountry\n",
      "\n",
      "1.\tDubai\t United Arab Emirates\n",
      "\n",
      "2.\tHaifa\t Israel\n",
      "\n",
      "3.\tIstanbul\t Turkey\n",
      "\n",
      "4.\tJohannesburg\t South Africa\n",
      "\n",
      "5.\tTel Aviv\t Israel\n",
      "\n",
      "Infrastructure\n",
      "\n",
      "Further information: Google data centers\n",
      "\n",
      "Google has data centers in North and South America, Asia, and Europe.[277] There is no official data on the number of servers in Google data centers; however, research and advisory firm Gartner estimated in a July 2016 report that Google at the time had 2.5 million servers.[278] Traditionally, Google relied on parallel computing on commodity hardware like mainstream x86 computers (similar to home PCs) to keep costs per query low.[279][280][281] In 2005, it started developing its own designs, which were only revealed in 2009.[281]\n",
      "\n",
      "\n",
      "\n",
      "Google has built its own private submarine communications cables. The first cable, named Curie, connects California with Chile and was completed on November 15, 2019.[282][283] The second fully Google-owned undersea cable, named Dunant, connects the United States with France and is planned to begin operation in 2020.[284] Google's third subsea cable, Equiano, will connect Lisbon, Portugal with Lagos, Nigeria and Cape Town, South Africa.[285] The company's fourth cable, named Grace Hopper, connects landing points in New York, US, Bude, UK and Bilbao, Spain, and is expected to become operational in 2022.[286]\n",
      "\n",
      "\n",
      "\n",
      "Environment\n",
      "\n",
      "In October 2006, the company announced plans to install thousands of solar panels to provide up to 1.6 Megawatt of electricity, enough to satisfy approximately 30% of the campus' energy needs.[287][288] The system is the largest rooftop photovoltaic power station constructed on a U.S. corporate campus and one of the largest on any corporate site in the world.[287] Since 2007, Google has aimed for carbon neutrality in regard to its operations.[289]\n",
      "\n",
      "\n",
      "\n",
      "Google disclosed in September 2011 that it \"continuously uses enough electricity to power 200,000 homes\", almost 260 million watts or about a quarter of the output of a nuclear power plant. Total carbon emissions for 2010 were just under 1.5 million metric tons, mostly due to fossil fuels that provide electricity for the data centers. Google said that 25 percent of its energy was supplied by renewable fuels in 2010. An average search uses only 0.3 watt-hours of electricity, so all global searches are only 12.5 million watts or 5% of the total electricity consumption by Google.[290]\n",
      "\n",
      "\n",
      "\n",
      "In 2010, Google Energy made its first investment in a renewable energy project, putting $38.8 million into two wind farms in North Dakota. The company announced the two locations will generate 169.5 megawatts of power, enough to supply 55,000 homes.[291] In February 2010, the Federal Energy Regulatory Commission granted Google an authorization to buy and sell energy at market rates.[292] The corporation exercised this authorization in September 2013 when it announced it would purchase all the electricity produced by the not-yet-built 240-megawatt Happy Hereford wind farm.[293]\n",
      "\n",
      "\n",
      "\n",
      "In July 2010, Google signed an agreement with an Iowa wind farm to buy 114 megawatts of power for 20 years.[294]\n",
      "\n",
      "\n",
      "\n",
      "In December 2016, Google announced that—starting in 2017—it would purchase enough renewable energy to match 100% of the energy usage of its data centers and offices. The commitment will make Google \"the world's largest corporate buyer of renewable power, with commitments reaching 2.6 gigawatts (2,600 megawatts) of wind and solar energy\".[295][296][297]\n",
      "\n",
      "\n",
      "\n",
      "In November 2017, Google bought 536 megawatts of wind power. The purchase made the firm reach 100% renewable energy. The wind energy comes from two power plants in South Dakota, one in Iowa and one in Oklahoma.[298] In September 2019, Google's chief executive announced plans for a $2 billion wind and solar investment, the biggest renewable energy deal in corporate history. This will grow their green energy profile by 40%, giving them an extra 1.6 gigawatt of clean energy, the company said.[299]\n",
      "\n",
      "\n",
      "\n",
      "In September 2020, Google announced it had retroactively offset all of its carbon emissions since the company's foundation in 1998.[300] It also committed to operating its data centers and offices using only carbon-free energy by 2030.[301] In October 2020, the company pledged to make the packaging for its hardware products 100% plastic-free and 100% recyclable by 2025. It also said that all its final assembly manufacturing sites will achieve a UL 2799 Zero Waste to Landfill certification by 2022 by ensuring that the vast majority of waste from the manufacturing process is recycled instead of ending up in a landfill.[302]\n",
      "\n",
      "\n",
      "\n",
      "Climate change denial and misinformation\n",
      "\n",
      "Google donates to climate change denial political groups including the State Policy Network and the Competitive Enterprise Institute.[303][304] The company also actively funds and profits from climate disinformation by monetizing ad spaces on most of the largest climate disinformation sites.[305] Google continued to monetize and profit from sites propagating climate disinformation even after the company updated their policy to prohibit placing their ads on similar sites.[306]\n",
      "\n",
      "\n",
      "\n",
      "Philanthropy\n",
      "\n",
      "Main article: Google.org\n",
      "\n",
      "In 2004, Google formed the not-for-profit philanthropic Google.org, with a start-up fund of $1 billion.[307] The mission of the organization is to create awareness about climate change, global public health, and global poverty. One of its first projects was to develop a viable plug-in hybrid electric vehicle that can attain 100 miles per gallon. Google hired Larry Brilliant as the program's executive director in 2004[308] and Megan Smith has since replaced him as director.[309]\n",
      "\n",
      "\n",
      "\n",
      "In March 2007, in partnership with the Mathematical Sciences Research Institute (MSRI), Google hosted the first Julia Robinson Mathematics Festival at its headquarters in Mountain View.[310] In 2011, Google donated 1 million euros to International Mathematical Olympiad to support the next five annual International Mathematical Olympiads (2011–2015).[311][312] In July 2012, Google launched a \"Legalize Love\" campaign in support of gay rights.[313]\n",
      "\n",
      "\n",
      "\n",
      "In 2008, Google announced its \"project 10100\" which accepted ideas for how to help the community and then allowed Google users to vote on their favorites.[314] After two years of silence, during which many wondered what had happened to the program,[315] Google revealed the winners of the project, giving a total of ten million dollars to various ideas ranging from non-profit organizations that promote education to a website that intends to make all legal documents public and online.[316]\n",
      "\n",
      "\n",
      "\n",
      "Responding to the humanitarian crisis after the 2022 Russian invasion of Ukraine, Google announced a $15 million donation to support Ukrainian citizens.[317] The company also decided to transform its office in Warsaw into a help center for refugees.[318]\n",
      "\n",
      "\n",
      "\n",
      "Also in February 2022, Google announced a $100 million fund to expand skills training and job placement for low-income Americans, in conjunction with non-profits Year Up, Social Finance, and Merit America.[319]\n",
      "\n",
      "\n",
      "\n",
      "Criticism and controversies\n",
      "\n",
      "Main articles: Criticism of Google, Censorship by Google, and Privacy concerns regarding Google\n",
      "\n",
      "\n",
      "\n",
      "This section should include a better summary of Criticism of Google. See Wikipedia:Summary style for information on how to properly incorporate it into this article's main text. (April 2019)\n",
      "\n",
      "\n",
      "\n",
      "San Francisco activists protest privately owned shuttle buses that transport workers for tech companies such as Google from their homes in San Francisco and Oakland to corporate campuses in Silicon Valley.\n",
      "\n",
      "Google has had criticism over issues such as aggressive tax avoidance,[320] search neutrality, copyright, censorship of search results and content,[321] and privacy.[322][323]\n",
      "\n",
      "\n",
      "\n",
      "Other criticisms are alleged misuse and manipulation of search results, its use of other people's intellectual property, concerns that its compilation of data may violate people's privacy, and the energy consumption of its servers, as well as concerns over traditional business issues such as monopoly, restraint of trade, anti-competitive practices, and patent infringement.\n",
      "\n",
      "\n",
      "\n",
      "Google formerly complied with Internet censorship policies of the People's Republic of China,[324] enforced by means of filters colloquially known as \"The Great Firewall of China\", but no longer does so. As a result, all Google services except for Chinese Google Maps are blocked from access within mainland China without the aid of virtual private networks, proxy servers, or other similar technologies.\n",
      "\n",
      "\n",
      "\n",
      "2018\n",
      "\n",
      "In July 2018, Mozilla program manager Chris Peterson accused Google of intentionally slowing down YouTube performance on Firefox.[325][326] In April 2019, former Mozilla executive Jonathan Nightingale accused Google of intentionally and systematically sabotaging the Firefox browser over the past decade in order to boost adoption of Google Chrome.[327]\n",
      "\n",
      "\n",
      "\n",
      "In August 2018, The Intercept reported that Google is developing for the People's Republic of China a censored version of its search engine (known as Dragonfly) \"that will blacklist websites and search terms about human rights, democracy, religion, and peaceful protest\".[328][329] However, the project had been withheld due to privacy concerns.[330][331]\n",
      "\n",
      "\n",
      "\n",
      "2019\n",
      "\n",
      "In 2019, a hub for critics of Google dedicated to abstaining from using Google products coalesced in the Reddit online community /r/degoogle.[332] The DeGoogle grassroots campaign continues to grow as privacy activists highlight information about Google products, and the associated incursion on personal privacy rights by the company.\n",
      "\n",
      "\n",
      "\n",
      "In November 2019, the Office for Civil Rights of the United States Department of Health and Human Services began investigation into Project Nightingale, to assess whether the \"mass collection of individuals' medical records\" complied with HIPAA.[333] According to The Wall Street Journal, Google secretively began the project in 2018, with St. Louis-based healthcare company Ascension.[334]\n",
      "\n",
      "\n",
      "\n",
      "2022\n",
      "\n",
      "In a 2022 National Labor Relations Board ruling, court documents suggested that Google sponsored a secretive project—Project Vivian—to counsel its employees and to discourage them from forming unions.[335]\n",
      "\n",
      "\n",
      "\n",
      "2023\n",
      "\n",
      "On May 1, 2023, Google placed an ad against anti-disinformation Brazilian Congressional Bill No. 2630, which was about to be approved, on its search homepage in Brazil, calling on its users to ask congressional representatives to oppose the legislation. The country's government and judiciary accused the company of undue interference in the congressional debate, saying it could amount to abuse of economic power and ordering the company to change the ad within two hours of notification or face fines of R$1 million (2023) (US$185,528.76) per non-compliance hour. The company then promptly removed the ad.[336][337]\n",
      "\n",
      "\n",
      "\n",
      "Racially-targeted surveillance\n",
      "\n",
      "Google has aided controversial governments in mass surveillance projects, sharing with police and military the identities of those protesting racial injustice. In 2020, they shared with the FBI information collected from all Android users at a Black Lives Matter protest in Seattle,[338] including those who had opted out of location data collection.[339][340]\n",
      "\n",
      "\n",
      "\n",
      "Google is also part of Project Nimbus, a $1.2 billion deal in which the technology companies Google and Amazon will provide Israel and its military with artificial intelligence, machine learning, and other cloud computing services, including building local cloud sites that will \"keep information within Israel's borders under strict security guidelines.\"[341][342][343] The contract has been criticized by shareholders as well as their employees over concerns that the project will lead to further abuses of Palestinians' human rights in the context of the ongoing illegal occupation and the Israeli–Palestinian conflict.[344][345] Ariel Koren, a former marketing manager for Google's educational products and an outspoken critic of the project, wrote that Google \"systematically silences Palestinian, Jewish, Arab and Muslim voices concerned about Google's complicity in violations of Palestinian human rights—to the point of formally retaliating against workers and creating an environment of fear,\" reflecting her view that the ultimatum came in retaliation for her opposition to and organization against the project.[341][346]\n",
      "\n",
      "\n",
      "\n",
      "Anti-trust, privacy, and other litigation\n",
      "\n",
      "Main article: Google litigation\n",
      "\n",
      "\n",
      "\n",
      "The European Commission, which imposed three fines on Google in 2017, 2018, and 2019\n",
      "\n",
      "Fines and lawsuits\n",
      "\n",
      "European Union\n",
      "\n",
      "On June 27, 2017, the company received a record fine of €2.42 billion from the European Union for \"promoting its own shopping comparison service at the top of search results.\"[347]\n",
      "\n",
      "\n",
      "\n",
      "On July 18, 2018,[348] the European Commission fined Google €4.34 billion for breaching EU antitrust rules. The abuse of dominant position has been referred to Google's constraint applied to Android device manufacturers and network operators to ensure that traffic on Android devices goes to the Google search engine. On October 9, 2018, Google confirmed[349] that it had appealed the fine to the General Court of the European Union.[350]\n",
      "\n",
      "\n",
      "\n",
      "On October 8, 2018, a class action lawsuit was filed against Google and Alphabet due to \"non-public\" Google+ account data being exposed as a result of a bug that allowed app developers to gain access to the private information of users. The litigation was settled in July 2020 for $7.5 million with a payout to claimants of at least $5 each, with a maximum of $12 each.[351][352][353]\n",
      "\n",
      "\n",
      "\n",
      "On March 20, 2019, the European Commission imposed a €1.49 billion ($1.69 billion) fine on Google for preventing rivals from being able to \"compete and innovate fairly\" in the online advertising market. European Union competition commissioner Margrethe Vestager said Google had violated EU antitrust rules by \"imposing anti-competitive contractual restrictions on third-party websites\" that required them to exclude search results from Google's rivals.[354][355]\n",
      "\n",
      "\n",
      "\n",
      "On September 14, 2022, Google lost the appeal over €4.125bn (£3.5bn) fine, which was ruled to be paid after it was proved by the European Commission that Google forced Android phone-makers to carry Google's search and web browser apps. Since the initial accusations, Google changed its policy.[356]\n",
      "\n",
      "\n",
      "\n",
      "France\n",
      "\n",
      "On January 21, 2019, French data regulator CNIL imposed a record €50 million fine on Google for breaching the European Union's General Data Protection Regulation. The judgment claimed Google had failed to sufficiently inform users of its methods for collecting data to personalize advertising. Google issued a statement saying it was \"deeply committed\" to transparency and was \"studying the decision\" before determining its response.[357]\n",
      "\n",
      "\n",
      "\n",
      "On January 6, 2022, France's data privacy regulatory body CNIL fined Alphabet's Google 150 million euros (US$169 million) for not allowing its Internet users an easy refusal of Cookies along with Facebook.[358]\n",
      "\n",
      "\n",
      "\n",
      "United States\n",
      "\n",
      "After U.S. Congressional hearings in July 2020,[359] and a report from the U.S. House of Representatives' Antitrust Subcommittee released in early October[360] the United States Department of Justice filed an antitrust lawsuit against Google on October 20, 2020, asserting that it has illegally maintained its monopoly position in web search and search advertising.[361][362] The lawsuit alleged that Google engaged in anticompetitive behavior by paying Apple between $8 billion-$12 billion to be the default search engine on iPhones.[363] Later that month, both Facebook and Alphabet agreed to \"cooperate and assist one another\" in the face of investigation into their online advertising practices.[364][365] Another suit was brought against Google in 2023 for illegally monopolizing the advertising technology market.[366]\n",
      "\n",
      "\n",
      "\n",
      "Private browsing lawsuit\n",
      "\n",
      "See also: Private browsing\n",
      "\n",
      "In early June 2020, a $5 billion class-action lawsuit was filed against Google by a group of consumers, alleging that Chrome's Incognito browsing mode still collects their user history.[367][368] The lawsuit became known in March 2021 when a federal judge denied Google's request to dismiss the case, ruling that they must face the group's charges.[369][370] Reuters reported that the lawsuit alleged that Google's CEO Sundar Pichai sought to keep the users unaware of this issue.[371]\n",
      "\n",
      "\n",
      "\n",
      "Gender discrimination lawsuit\n",
      "\n",
      "In 2017, three women sued Google, accusing the company of violating California's Equal Pay Act by underpaying its female employees. The lawsuit cited the wage gap was around $17,000 and that Google locked women into lower career tracks, leading to smaller salaries and bonuses. In June 2022, Google agreed to pay a $118 million settlement to 15,550 female employees working in California since 2013. As a part of the settlement, Google also agreed to hire a third party to analyze its hiring and compensation practices.[372][373][374]\n",
      "\n",
      "\n",
      "\n",
      "U.S. government contracts\n",
      "\n",
      "Following media reports about PRISM, the NSA's massive electronic surveillance program, in June 2013, several technology companies were identified as participants, including Google.[375] According to unnamed sources, Google joined the PRISM program in 2009, as YouTube in 2010.[376]\n",
      "\n",
      "\n",
      "\n",
      "Google has worked with the United States Department of Defense on drone software through the 2017 Project Maven that could be used to improve the accuracy of drone strikes.[377] In April 2018, thousands of Google employees, including senior engineers, signed a letter urging Google CEO Sundar Pichai to end this controversial contract with the Pentagon.[378] Google ultimately decided not to renew this DoD contract, which was set to expire in 2019.[379]\n",
      "\n",
      "\n",
      "\n",
      "See also\n"
     ]
    }
   ],
   "source": [
    "for i in read_file('test.txt'):\n",
    "    print(i)\n"
   ]
  },
  {
   "cell_type": "code",
   "execution_count": null,
   "id": "456645e1-7214-40bb-8edb-e4dce8d8faf4",
   "metadata": {},
   "outputs": [],
   "source": []
  }
 ],
 "metadata": {
  "kernelspec": {
   "display_name": "Python 3 (ipykernel)",
   "language": "python",
   "name": "python3"
  },
  "language_info": {
   "codemirror_mode": {
    "name": "ipython",
    "version": 3
   },
   "file_extension": ".py",
   "mimetype": "text/x-python",
   "name": "python",
   "nbconvert_exporter": "python",
   "pygments_lexer": "ipython3",
   "version": "3.10.8"
  }
 },
 "nbformat": 4,
 "nbformat_minor": 5
}
