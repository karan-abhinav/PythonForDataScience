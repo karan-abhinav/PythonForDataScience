{
 "cells": [
  {
   "cell_type": "code",
   "execution_count": 4,
   "id": "3a6b72ae-1805-4628-850c-af9a5d722005",
   "metadata": {},
   "outputs": [
    {
     "name": "stdin",
     "output_type": "stream",
     "text": [
      "Enter a value for a =  10\n",
      "Enter a value for b =  0\n"
     ]
    }
   ],
   "source": [
    "a = int(input(\"Enter a value for a = \"))\n",
    "b = int(input(\"Enter a value for b = \"))"
   ]
  },
  {
   "cell_type": "code",
   "execution_count": 5,
   "id": "559934c9-c9b1-4f26-8339-22aa12ec14c6",
   "metadata": {},
   "outputs": [
    {
     "data": {
      "text/plain": [
       "0"
      ]
     },
     "execution_count": 5,
     "metadata": {},
     "output_type": "execute_result"
    }
   ],
   "source": [
    "a * b"
   ]
  },
  {
   "cell_type": "code",
   "execution_count": 7,
   "id": "ba4cc7d2-2bcd-407a-8d53-14ae848291e3",
   "metadata": {},
   "outputs": [
    {
     "ename": "ZeroDivisionError",
     "evalue": "division by zero",
     "output_type": "error",
     "traceback": [
      "\u001b[0;31m---------------------------------------------------------------------------\u001b[0m",
      "\u001b[0;31mZeroDivisionError\u001b[0m                         Traceback (most recent call last)",
      "Cell \u001b[0;32mIn[7], line 1\u001b[0m\n\u001b[0;32m----> 1\u001b[0m \u001b[43ma\u001b[49m\u001b[38;5;241;43m/\u001b[39;49m\u001b[43mb\u001b[49m\n\u001b[1;32m      2\u001b[0m \u001b[38;5;28mprint\u001b[39m(\u001b[38;5;124m\"\u001b[39m\u001b[38;5;124mPrint Something\u001b[39m\u001b[38;5;124m\"\u001b[39m)\n",
      "\u001b[0;31mZeroDivisionError\u001b[0m: division by zero"
     ]
    }
   ],
   "source": [
    "a/b\n",
    "print(\"Print Something\")"
   ]
  },
  {
   "cell_type": "code",
   "execution_count": 19,
   "id": "d7654af9-c6da-44e5-9a45-69a0ca79a043",
   "metadata": {},
   "outputs": [],
   "source": [
    "l = [4,5,6,7,8,9,0]\n",
    "l1 = []\n",
    "def even_parser(l) :\n",
    "    for i in l :\n",
    "        if i % 2 == 0 :\n",
    "            l1.append(i)\n",
    "    return l1     "
   ]
  },
  {
   "cell_type": "code",
   "execution_count": 20,
   "id": "6556fc37-9a9d-4b1b-983b-c155d80cccff",
   "metadata": {},
   "outputs": [
    {
     "data": {
      "text/plain": [
       "[4, 6, 8, 0]"
      ]
     },
     "execution_count": 20,
     "metadata": {},
     "output_type": "execute_result"
    }
   ],
   "source": [
    "even_parser(l)"
   ]
  },
  {
   "cell_type": "code",
   "execution_count": 21,
   "id": "dcd0f2aa-5a55-4688-9305-8b7b0f9feaac",
   "metadata": {},
   "outputs": [
    {
     "ename": "TypeError",
     "evalue": "not all arguments converted during string formatting",
     "output_type": "error",
     "traceback": [
      "\u001b[0;31m---------------------------------------------------------------------------\u001b[0m",
      "\u001b[0;31mTypeError\u001b[0m                                 Traceback (most recent call last)",
      "Cell \u001b[0;32mIn[21], line 1\u001b[0m\n\u001b[0;32m----> 1\u001b[0m \u001b[43meven_parser\u001b[49m\u001b[43m(\u001b[49m\u001b[38;5;124;43m\"\u001b[39;49m\u001b[38;5;124;43mAbhinav\u001b[39;49m\u001b[38;5;124;43m\"\u001b[39;49m\u001b[43m)\u001b[49m\n\u001b[1;32m      2\u001b[0m \u001b[38;5;28mprint\u001b[39m(\u001b[38;5;124m\"\u001b[39m\u001b[38;5;124mprint something\u001b[39m\u001b[38;5;124m\"\u001b[39m)\n",
      "Cell \u001b[0;32mIn[19], line 5\u001b[0m, in \u001b[0;36meven_parser\u001b[0;34m(l)\u001b[0m\n\u001b[1;32m      3\u001b[0m \u001b[38;5;28;01mdef\u001b[39;00m \u001b[38;5;21meven_parser\u001b[39m(l) :\n\u001b[1;32m      4\u001b[0m     \u001b[38;5;28;01mfor\u001b[39;00m i \u001b[38;5;129;01min\u001b[39;00m l :\n\u001b[0;32m----> 5\u001b[0m         \u001b[38;5;28;01mif\u001b[39;00m \u001b[43mi\u001b[49m\u001b[43m \u001b[49m\u001b[38;5;241;43m%\u001b[39;49m\u001b[43m \u001b[49m\u001b[38;5;241;43m2\u001b[39;49m \u001b[38;5;241m==\u001b[39m \u001b[38;5;241m0\u001b[39m :\n\u001b[1;32m      6\u001b[0m             l1\u001b[38;5;241m.\u001b[39mappend(i)\n\u001b[1;32m      7\u001b[0m     \u001b[38;5;28;01mreturn\u001b[39;00m l1\n",
      "\u001b[0;31mTypeError\u001b[0m: not all arguments converted during string formatting"
     ]
    }
   ],
   "source": [
    "even_parser(\"Abhinav\")\n",
    "print(\"print something\")"
   ]
  },
  {
   "cell_type": "code",
   "execution_count": 23,
   "id": "b5d3b1fc-438b-46e3-9588-7361ab453d61",
   "metadata": {},
   "outputs": [
    {
     "name": "stdin",
     "output_type": "stream",
     "text": [
      "Enter the value of a:  10\n",
      "Enter the value of b:  \n"
     ]
    },
    {
     "name": "stdout",
     "output_type": "stream",
     "text": [
      "print something\n"
     ]
    }
   ],
   "source": [
    "try :\n",
    "    a = int(input(\"Enter the value of a: \"))\n",
    "    b = int(input(\"Enter the value of b: \"))\n",
    "    c = a/b\n",
    "    print(c)\n",
    "except :\n",
    "    pass\n",
    "print(\"print something\")"
   ]
  },
  {
   "cell_type": "code",
   "execution_count": 24,
   "id": "aa150a81-45f9-4c04-be34-a2f20bec04ca",
   "metadata": {},
   "outputs": [],
   "source": [
    "l = [4,5,6,7,8,9,0]\n",
    "l1 = []\n",
    "def even_parser1(l) :\n",
    "    try :\n",
    "        for i in l :\n",
    "            if i % 2 == 0 :\n",
    "                l1.append(i)\n",
    "        return l1\n",
    "    except :\n",
    "        pass"
   ]
  },
  {
   "cell_type": "code",
   "execution_count": 25,
   "id": "77d761ca-ef6b-4652-8555-90976b1da1d4",
   "metadata": {},
   "outputs": [
    {
     "ename": "TypeError",
     "evalue": "'int' object is not iterable",
     "output_type": "error",
     "traceback": [
      "\u001b[0;31m---------------------------------------------------------------------------\u001b[0m",
      "\u001b[0;31mTypeError\u001b[0m                                 Traceback (most recent call last)",
      "Cell \u001b[0;32mIn[25], line 1\u001b[0m\n\u001b[0;32m----> 1\u001b[0m \u001b[43meven_parser\u001b[49m\u001b[43m(\u001b[49m\u001b[38;5;241;43m5\u001b[39;49m\u001b[43m)\u001b[49m\n",
      "Cell \u001b[0;32mIn[19], line 4\u001b[0m, in \u001b[0;36meven_parser\u001b[0;34m(l)\u001b[0m\n\u001b[1;32m      3\u001b[0m \u001b[38;5;28;01mdef\u001b[39;00m \u001b[38;5;21meven_parser\u001b[39m(l) :\n\u001b[0;32m----> 4\u001b[0m     \u001b[38;5;28;01mfor\u001b[39;00m i \u001b[38;5;129;01min\u001b[39;00m l :\n\u001b[1;32m      5\u001b[0m         \u001b[38;5;28;01mif\u001b[39;00m i \u001b[38;5;241m%\u001b[39m \u001b[38;5;241m2\u001b[39m \u001b[38;5;241m==\u001b[39m \u001b[38;5;241m0\u001b[39m :\n\u001b[1;32m      6\u001b[0m             l1\u001b[38;5;241m.\u001b[39mappend(i)\n",
      "\u001b[0;31mTypeError\u001b[0m: 'int' object is not iterable"
     ]
    }
   ],
   "source": [
    "even_parser(5)"
   ]
  },
  {
   "cell_type": "code",
   "execution_count": 28,
   "id": "740e0ea1-7823-46ed-978a-b3298bab8308",
   "metadata": {},
   "outputs": [
    {
     "name": "stdout",
     "output_type": "stream",
     "text": [
      "sadjhbahjsd\n"
     ]
    }
   ],
   "source": [
    "even_parser1(5)\n",
    "print(\"sadjhbahjsd\")"
   ]
  },
  {
   "cell_type": "markdown",
   "id": "0c2d9ad6-8dcf-41d7-b06c-ffc923180d10",
   "metadata": {},
   "source": [
    "##### Exception Handling can be considered as type of coding convention we try to follow to write a bug free code."
   ]
  },
  {
   "cell_type": "code",
   "execution_count": 29,
   "id": "dc2b6008-ea64-4aa6-a1e9-4e4681029cba",
   "metadata": {},
   "outputs": [
    {
     "name": "stdout",
     "output_type": "stream",
     "text": [
      "division by zero\n"
     ]
    }
   ],
   "source": [
    "try :\n",
    "    c = 6/0\n",
    "except Exception as e :\n",
    "    print(e)"
   ]
  },
  {
   "cell_type": "code",
   "execution_count": 30,
   "id": "a36fa644-cc74-4b39-b85c-56a620089e82",
   "metadata": {},
   "outputs": [
    {
     "name": "stdin",
     "output_type": "stream",
     "text": [
      " 12\n",
      " 0\n"
     ]
    },
    {
     "name": "stdout",
     "output_type": "stream",
     "text": [
      "division by zero\n"
     ]
    }
   ],
   "source": [
    "try :\n",
    "    a = int(input())\n",
    "    b = int(input())\n",
    "    c = a/b\n",
    "except Exception as e:\n",
    "    print(e)"
   ]
  },
  {
   "cell_type": "code",
   "execution_count": 31,
   "id": "a6823456-0236-4794-ae99-80c53c1d3243",
   "metadata": {},
   "outputs": [
    {
     "name": "stdin",
     "output_type": "stream",
     "text": [
      " sudh\n"
     ]
    },
    {
     "name": "stdout",
     "output_type": "stream",
     "text": [
      "invalid literal for int() with base 10: 'sudh'\n"
     ]
    }
   ],
   "source": [
    "try :\n",
    "    a = int(input())\n",
    "    b = int(input())\n",
    "    c = a/b\n",
    "except TypeError as t:\n",
    "    print(t)\n",
    "except ZeroDivisionError as z:\n",
    "    print(z)\n",
    "except ValueError as v:\n",
    "    print(v)"
   ]
  },
  {
   "cell_type": "code",
   "execution_count": 32,
   "id": "7084fd56-caf0-4c82-b52d-91f3cd58be04",
   "metadata": {},
   "outputs": [
    {
     "name": "stdout",
     "output_type": "stream",
     "text": [
      "division by zero\n"
     ]
    },
    {
     "ename": "ValueError",
     "evalue": "invalid literal for int() with base 10: 'abhi'",
     "output_type": "error",
     "traceback": [
      "\u001b[0;31m---------------------------------------------------------------------------\u001b[0m",
      "\u001b[0;31mZeroDivisionError\u001b[0m                         Traceback (most recent call last)",
      "Cell \u001b[0;32mIn[32], line 2\u001b[0m\n\u001b[1;32m      1\u001b[0m \u001b[38;5;28;01mtry\u001b[39;00m :\n\u001b[0;32m----> 2\u001b[0m     x \u001b[38;5;241m=\u001b[39m \u001b[38;5;241;43m5\u001b[39;49m\u001b[38;5;241;43m/\u001b[39;49m\u001b[38;5;241;43m0\u001b[39;49m\n\u001b[1;32m      3\u001b[0m \u001b[38;5;28;01mexcept\u001b[39;00m \u001b[38;5;167;01mZeroDivisionError\u001b[39;00m \u001b[38;5;28;01mas\u001b[39;00m z :\n",
      "\u001b[0;31mZeroDivisionError\u001b[0m: division by zero",
      "\nDuring handling of the above exception, another exception occurred:\n",
      "\u001b[0;31mValueError\u001b[0m                                Traceback (most recent call last)",
      "Cell \u001b[0;32mIn[32], line 5\u001b[0m\n\u001b[1;32m      3\u001b[0m \u001b[38;5;28;01mexcept\u001b[39;00m \u001b[38;5;167;01mZeroDivisionError\u001b[39;00m \u001b[38;5;28;01mas\u001b[39;00m z :\n\u001b[1;32m      4\u001b[0m     \u001b[38;5;28mprint\u001b[39m(z)\n\u001b[0;32m----> 5\u001b[0m     y \u001b[38;5;241m=\u001b[39m \u001b[38;5;28;43mint\u001b[39;49m\u001b[43m(\u001b[49m\u001b[38;5;124;43m\"\u001b[39;49m\u001b[38;5;124;43mabhi\u001b[39;49m\u001b[38;5;124;43m\"\u001b[39;49m\u001b[43m)\u001b[49m\n",
      "\u001b[0;31mValueError\u001b[0m: invalid literal for int() with base 10: 'abhi'"
     ]
    }
   ],
   "source": [
    "try :\n",
    "    x = 5/0\n",
    "except ZeroDivisionError as z :\n",
    "    print(z)\n",
    "    y = int(\"abhi\")"
   ]
  },
  {
   "cell_type": "code",
   "execution_count": 33,
   "id": "92294607-d7ca-4934-9be7-43326e726c7c",
   "metadata": {},
   "outputs": [
    {
     "name": "stdout",
     "output_type": "stream",
     "text": [
      "division by zero\n",
      "invalid literal for int() with base 10: 'abhi'\n"
     ]
    }
   ],
   "source": [
    "try :\n",
    "    x = 5/0\n",
    "except ZeroDivisionError as z :\n",
    "    print(z)\n",
    "    try :\n",
    "        y = int(\"abhi\")\n",
    "    except ValueError as v :\n",
    "        print(v)"
   ]
  },
  {
   "cell_type": "code",
   "execution_count": 34,
   "id": "5d43e813-b0df-4313-becd-875bc936ea11",
   "metadata": {},
   "outputs": [
    {
     "name": "stdout",
     "output_type": "stream",
     "text": [
      "division by zero\n"
     ]
    }
   ],
   "source": [
    "try :\n",
    "    x = 5/0\n",
    "except ZeroDivisionError as z :\n",
    "    print(z)\n",
    "else :\n",
    "    print(\"This will execute itself once try block executes successfullly\")"
   ]
  },
  {
   "cell_type": "code",
   "execution_count": 35,
   "id": "061c8f75-afae-4652-b3cb-4bb0eba12f80",
   "metadata": {},
   "outputs": [
    {
     "name": "stdout",
     "output_type": "stream",
     "text": [
      "This will execute itself once try block executes successfullly\n"
     ]
    }
   ],
   "source": [
    "try :\n",
    "    x = 5/1\n",
    "except ZeroDivisionError as z :\n",
    "    print(z)\n",
    "else :\n",
    "    print(\"This will execute itself once try block executes successfullly\")"
   ]
  },
  {
   "cell_type": "code",
   "execution_count": 36,
   "id": "f9cc0249-74a9-46e9-9967-84fb950d484a",
   "metadata": {},
   "outputs": [
    {
     "name": "stdout",
     "output_type": "stream",
     "text": [
      "This will execute itself once try block executes successfullly\n",
      "This will be executes allways\n"
     ]
    }
   ],
   "source": [
    "try :\n",
    "    x = 5/1\n",
    "except ZeroDivisionError as z :\n",
    "    print(z)\n",
    "else :\n",
    "    print(\"This will execute itself once try block executes successfullly\")\n",
    "finally :\n",
    "    print(\"This will be executes allways\")"
   ]
  },
  {
   "cell_type": "code",
   "execution_count": 37,
   "id": "e4c30ae7-e4d8-4ef4-940a-15d779b7bcd7",
   "metadata": {},
   "outputs": [
    {
     "name": "stdout",
     "output_type": "stream",
     "text": [
      "division by zero\n",
      "This will be executes allways\n"
     ]
    }
   ],
   "source": [
    "try :\n",
    "    x = 5/0\n",
    "except ZeroDivisionError as z :\n",
    "    print(z)\n",
    "else :\n",
    "    print(\"This will execute itself once try block executes successfullly\")\n",
    "finally :\n",
    "    print(\"This will be executes allways\")"
   ]
  },
  {
   "cell_type": "code",
   "execution_count": 1,
   "id": "62f9ca05-d8d3-4bb3-a2a4-a9722c4347da",
   "metadata": {},
   "outputs": [
    {
     "name": "stdin",
     "output_type": "stream",
     "text": [
      "Enter a number 0\n"
     ]
    },
    {
     "name": "stdout",
     "output_type": "stream",
     "text": [
      "User has entered zero\n"
     ]
    }
   ],
   "source": [
    "try :\n",
    "    n = int(input(\"Enter a number\"))\n",
    "    div = -342/n\n",
    "    print(div)\n",
    "except ValueError :\n",
    "    print(\"User Has input invalid input\")\n",
    "except ZeroDivisionError :\n",
    "    print(\"User has entered zero\")"
   ]
  },
  {
   "cell_type": "code",
   "execution_count": 2,
   "id": "45da587e-3fcd-4ccb-affe-33fd5a129238",
   "metadata": {},
   "outputs": [
    {
     "name": "stdin",
     "output_type": "stream",
     "text": [
      "Enter a number skdfnjsdn\n"
     ]
    },
    {
     "name": "stdout",
     "output_type": "stream",
     "text": [
      "User Has input invalid input\n"
     ]
    }
   ],
   "source": [
    "try :\n",
    "    n = int(input(\"Enter a number\"))\n",
    "    div = -342/n\n",
    "    print(div)\n",
    "except ValueError :\n",
    "    print(\"User Has input invalid input\")\n",
    "except ZeroDivisionError :\n",
    "    print(\"User has entered zero\")"
   ]
  },
  {
   "cell_type": "code",
   "execution_count": 3,
   "id": "f3cf784c-b71c-4845-becd-f943df0a3120",
   "metadata": {},
   "outputs": [
    {
     "name": "stdin",
     "output_type": "stream",
     "text": [
      "Enter a number sdakjf\n"
     ]
    },
    {
     "name": "stdout",
     "output_type": "stream",
     "text": [
      "User has entered invalid input or may be zero\n"
     ]
    }
   ],
   "source": [
    "try :\n",
    "    n = int(input(\"Enter a number\"))\n",
    "    div = -342/n\n",
    "    print(div)\n",
    "except (ValueError, ZeroDivisionError):\n",
    "    print(\"User has entered invalid input or may be zero\")"
   ]
  },
  {
   "cell_type": "code",
   "execution_count": 4,
   "id": "781e36fe-2385-42c3-8ea5-4a77e44c145c",
   "metadata": {},
   "outputs": [
    {
     "name": "stdin",
     "output_type": "stream",
     "text": [
      "Enter a number fdsh\n"
     ]
    },
    {
     "name": "stdout",
     "output_type": "stream",
     "text": [
      "User has entered invalid input or may be zero\n"
     ]
    }
   ],
   "source": [
    "try :\n",
    "    n = int(input(\"Enter a number\"))\n",
    "    div = 342/n\n",
    "    print(div)\n",
    "except Exception:\n",
    "    print(\"User has entered invalid input or may be zero\")\n",
    "else :\n",
    "    print(div)"
   ]
  },
  {
   "cell_type": "code",
   "execution_count": 1,
   "id": "4315b596-9a2b-40a9-a429-3f9cd920ca98",
   "metadata": {},
   "outputs": [
    {
     "ename": "UnsupportedOperation",
     "evalue": "not writable",
     "output_type": "error",
     "traceback": [
      "\u001b[0;31m---------------------------------------------------------------------------\u001b[0m",
      "\u001b[0;31mUnsupportedOperation\u001b[0m                      Traceback (most recent call last)",
      "Cell \u001b[0;32mIn[1], line 2\u001b[0m\n\u001b[1;32m      1\u001b[0m f \u001b[38;5;241m=\u001b[39m \u001b[38;5;28mopen\u001b[39m(\u001b[38;5;124m\"\u001b[39m\u001b[38;5;124mtest.txt\u001b[39m\u001b[38;5;124m\"\u001b[39m)\n\u001b[0;32m----> 2\u001b[0m \u001b[43mf\u001b[49m\u001b[38;5;241;43m.\u001b[39;49m\u001b[43mwrite\u001b[49m\u001b[43m(\u001b[49m\u001b[38;5;124;43m\"\u001b[39;49m\u001b[38;5;124;43mAbhinav Karan\u001b[39;49m\u001b[38;5;124;43m\"\u001b[39;49m\u001b[43m)\u001b[49m\n\u001b[1;32m      3\u001b[0m f\u001b[38;5;241m.\u001b[39mclose()\n",
      "\u001b[0;31mUnsupportedOperation\u001b[0m: not writable"
     ]
    }
   ],
   "source": [
    "f = open(\"test.txt\")\n",
    "f.write(\"Abhinav Karan\")\n",
    "f.close()"
   ]
  },
  {
   "cell_type": "code",
   "execution_count": 6,
   "id": "76e9627c-3e13-4fa2-821d-c0975e2d463c",
   "metadata": {},
   "outputs": [
    {
     "name": "stdout",
     "output_type": "stream",
     "text": [
      "there is some issue\n",
      "File Closed\n"
     ]
    }
   ],
   "source": [
    "try :\n",
    "    f = open(\"test.txt\")\n",
    "    f.write(\"Abhinav Karan\")\n",
    "except Exception:\n",
    "    print(\"there is some issue\")\n",
    "finally :\n",
    "    f.close()\n",
    "    print(\"File Closed\")"
   ]
  },
  {
   "cell_type": "code",
   "execution_count": 7,
   "id": "3525b5da-8f7e-4cfd-b20a-24bd1868ca4e",
   "metadata": {},
   "outputs": [
    {
     "name": "stdout",
     "output_type": "stream",
     "text": [
      "Google LLC (/ˈɡuːɡəl/ ⓘ) is an American multinational technology company focusing on artificial intelligence,[9] online advertising, search engine technology, cloud computing, computer software, quantum computing, e-commerce, and consumer electronics. It has been referred to as \"the most powerful company in the world\"[10] and as one of the world's most valuable brands due to its market dominance, data collection, and technological advantages in the field of artificial intelligence.[11][12][13] Alongside Amazon, Apple Inc., Meta Platforms, and Microsoft, Google's parent company Alphabet Inc. is one of the five Big Tech companies.\n",
      "\n",
      "Google was founded on September 4, 1998, by American computer scientists Larry Page and Sergey Brin while they were PhD students at Stanford University in California. Together they own about 14% of its publicly listed shares and control 56% of its stockholder voting power through super-voting stock. The company went public via an initial public offering (IPO) in 2004. In 2015, Google was reorganized as a wholly owned subsidiary of Alphabet Inc. Google is Alphabet's largest subsidiary and is a holding company for Alphabet's internet properties and interests. Sundar Pichai was appointed CEO of Google on October 24, 2015, replacing Larry Page, who became the CEO of Alphabet. On December 3, 2019, Pichai also became the CEO of Alphabet.[14]\n",
      "\n",
      "The company has since rapidly grown to offer a multitude of products and services beyond Google Search, many of which hold dominant market positions. These products address a wide range of use cases, including email (Gmail), navigation (Waze & Maps), cloud computing (Cloud), web browsing (Chrome), video sharing (YouTube), productivity (Workspace), operating systems (Android), cloud storage (Drive), language translation (Translate), photo storage (Photos), video calling (Meet), smart home (Nest), smartphones (Pixel), wearable technology (Pixel Watch & Fitbit), music streaming (YouTube Music), video on demand (YouTube TV), artificial intelligence (Google Assistant), machine learning APIs (TensorFlow), AI chips (TPU), and more. Discontinued Google products include gaming (Stadia), Glass, Google+, Reader, Play Music, Nexus, Hangouts, and Inbox by Gmail.[15][16]\n",
      "\n",
      "Google's other ventures outside of Internet services and consumer electronics include quantum computing (Sycamore), self-driving cars (Waymo, formerly the Google Self-Driving Car Project), smart cities (Sidewalk Labs), and transformer models (Google Deepmind).[17]\n",
      "\n",
      "Google and YouTube are the two most visited websites worldwide followed by Facebook and X. Google is also the largest search engine, mapping and navigation application, email provider, office suite, video sharing platform, photo and cloud storage provider, mobile operating system, web browser, ML framework, and AI virtual assistant provider in the world as measured by market share. On the list of most valuable brands, Google is ranked second by Forbes[18] and fourth by Interbrand.[19] It has received significant criticism involving issues such as privacy concerns, tax avoidance, censorship, search neutrality, antitrust and abuse of its monopoly position.\n",
      "\n",
      "History\n",
      "Main articles: History of Google and List of mergers and acquisitions by Alphabet\n",
      "See also: Alphabet Inc.\n",
      "Early years\n",
      "\n",
      "Larry Page and Sergey Brin in 2003\n",
      "Google began in January 1996 as a research project by Larry Page and Sergey Brin when they were both PhD students at Stanford University in California.[20][21][22] The project initially involved an unofficial \"third founder\", Scott Hassan, the original lead programmer who wrote much of the code for the original Google Search engine, but he left before Google was officially founded as a company;[23][24] Hassan went on to pursue a career in robotics and founded the company Willow Garage in 2006.[25][26]\n",
      "\n",
      "While conventional search engines ranked results by counting how many times the search terms appeared on the page, they theorized about a better system that analyzed the relationships among websites.[27] They called this algorithm PageRank; it determined a website's relevance by the number of pages, and the importance of those pages that linked back to the original site.[28][29] Page told his ideas to Hassan, who began writing the code to implement Page's ideas.[23]\n",
      "\n",
      "Page and Brin originally nicknamed the new search engine \"BackRub\", because the system checked backlinks to estimate the importance of a site.[20][30][31] Hassan as well as Alan Steremberg were cited by Page and Brin as being critical to the development of Google. Rajeev Motwani and Terry Winograd later co-authored with Page and Brin the first paper about the project, describing PageRank and the initial prototype of the Google search engine, published in 1998. Héctor García-Molina and Jeff Ullman were also cited as contributors to the project.[32] PageRank was influenced by a similar page-ranking and site-scoring algorithm earlier used for RankDex, developed by Robin Li in 1996, with Larry Page's PageRank patent including a citation to Li's earlier RankDex patent; Li later went on to create the Chinese search engine Baidu.[33][34]\n",
      "\n",
      "Eventually, they changed the name to Google; the name of the search engine was a misspelling of the word googol,[20][35][36] a very large number written 10100 (1 followed by 100 zeros), picked to signify that the search engine was intended to provide large quantities of information.[37]\n",
      "\n",
      "Google's homepage in 1998\n",
      "Google's original homepage had a simple design because the company founders had little experience in HTML, the markup language used for designing web pages.[38]\n",
      "Google was initially funded by an August 1998 investment of $100,000 from Andy Bechtolsheim,[20] co-founder of Sun Microsystems. This initial investment served as a motivation to incorporate the company to be able to use the funds.[39][40] Page and Brin initially approached David Cheriton for advice because he had a nearby office in Stanford, and they knew he had startup experience, having recently sold the company he co-founded, Granite Systems, to Cisco for $220 million. David arranged a meeting with Page and Brin and his Granite co-founder Andy Bechtolsheim. The meeting was set for 8 a.m. at the front porch of David's home in Palo Alto and it had to be brief because Andy had another meeting at Cisco, where he now worked after the acquisition, at 9 a.m. Andy briefly tested a demo of the website, liked what he saw, and then went back to his car to grab the check. David Cheriton later also joined in with a $250,000 investment.[41][42]\n",
      "\n",
      "Google received money from two other angel investors in 1998: Amazon.com founder Jeff Bezos, and entrepreneur Ram Shriram.[43] Page and Brin had first approached Shriram, who was a venture capitalist, for funding and counsel, and Shriram invested $250,000 in Google in February 1998. Shriram knew Bezos because Amazon had acquired Junglee, at which Shriram was the president. It was Shriram who told Bezos about Google. Bezos asked Shriram to meet Google's founders and they met six months after Shriram had made his investment when Bezos and his wife were on a vacation trip to the Bay Area. Google's initial funding round had already formally closed but Bezos' status as CEO of Amazon was enough to persuade Page and Brin to extend the round and accept his investment.[44][45]\n",
      "\n",
      "Between these initial investors, friends, and family Google raised around $1,000,000, which is what allowed them to open up their original shop in Menlo Park, California.[46] Craig Silverstein, a fellow PhD student at Stanford, was hired as the first employee.[22][47][48]\n",
      "\n",
      "After some additional, small investments through the end of 1998 to early 1999,[43] a new $25 million round of funding was announced on June 7, 1999,[49] with major investors including the venture capital firms Kleiner Perkins and Sequoia Capital.[40] Both firms were initially reticent about investing jointly in Google, as each wanted to retain a larger percentage of control over the company to themselves. Larry and Sergey however insisted in taking investments from both. Both venture companies finally agreed to investing jointly $12.5 million each due to their belief in Google's great potential and through the mediation of earlier angel investors Ron Conway and Ram Shriram who had contacts in the venture companies.[50]\n",
      "\n",
      "Growth\n",
      "In March 1999, the company moved its offices to Palo Alto, California,[51] which is home to several prominent Silicon Valley technology start-ups.[52] The next year, Google began selling advertisements associated with search keywords against Page and Brin's initial opposition toward an advertising-funded search engine.[53][22] To maintain an uncluttered page design, advertisements were solely text-based.[54] In June 2000, it was announced that Google would become the default search engine provider for Yahoo!, one of the most popular websites at the time, replacing Inktomi.[55][56]\n",
      "\n",
      "Google's first servers, showing lots of exposed wiring and circuit boards\n",
      "Google's first production server[57]\n",
      "In 2003, after outgrowing two other locations, the company leased an office complex from Silicon Graphics, at 1600 Amphitheatre Parkway in Mountain View, California.[58] The complex became known as the Googleplex, a play on the word googolplex, the number one followed by a googol of zeroes. Three years later, Google bought the property from SGI for $319 million.[59] By that time, the name \"Google\" had found its way into everyday language, causing the verb \"google\" to be added to the Merriam-Webster Collegiate Dictionary and the Oxford English Dictionary, denoted as: \"to use the Google search engine to obtain information on the Internet\".[60][61] The first use of the verb on television appeared in an October 2002 episode of Buffy the Vampire Slayer.[62]\n",
      "\n",
      "Additionally, in 2001 Google's investors felt the need to have a strong internal management, and they agreed to hire Eric Schmidt as the chairman and CEO of Google.[46] Eric was proposed by John Doerr from Kleiner Perkins. He had been trying to find a CEO that Sergey and Larry would accept for several months, but they rejected several candidates because they wanted to retain control over the company. Michael Moritz from Sequoia Capital at one point even menaced requesting Google to immediately pay back Sequoia's $12.5m investment if they did not fulfill their promise to hire a chief executive officer, which had been made verbally during investment negotiations. Eric was not initially enthusiastic about joining Google either, as the company's full potential had not yet been widely recognized at the time, and as he was occupied with his responsibilities at Novell where he was CEO. As part of him joining, Eric agreed to buy $1 million of Google preferred stocks as a way to show his commitment and to provide funds Google needed.[63]\n",
      "\n",
      "Initial public offering\n",
      "On August 19, 2004, Google became a public company via an initial public offering. At that time Larry Page, Sergey Brin, and Eric Schmidt agreed to work together at Google for 20 years, until the year 2024.[64] The company offered 19,605,052 shares at a price of $85 per share.[65][66] Shares were sold in an online auction format using a system built by Morgan Stanley and Credit Suisse, underwriters for the deal.[67][68] The sale of $1.67 billion gave Google a market capitalization of more than $23 billion.[69]\n",
      "\n",
      "\n",
      "Eric Schmidt, CEO of Google from 2001 to 2011\n",
      "On November 13, 2006, Google acquired YouTube for $1.65 billion in Google stock,[70][71][72][73] On March 11, 2008, Google acquired DoubleClick for $3.1 billion, transferring to Google valuable relationships that DoubleClick had with Web publishers and advertising agencies.[74][75]\n",
      "\n",
      "By 2011, Google was handling approximately 3 billion searches per day. To handle this workload, Google built 11 data centers around the world with several thousand servers in each. These data centers allowed Google to handle the ever-changing workload more efficiently.[46]\n",
      "\n",
      "In May 2011, the number of monthly unique visitors to Google surpassed one billion for the first time.[76][77]\n",
      "\n",
      "In May 2012, Google acquired Motorola Mobility for $12.5 billion, in its largest acquisition to date.[78][79][80] This purchase was made in part to help Google gain Motorola's considerable patent portfolio on mobile phones and wireless technologies, to help protect Google in its ongoing patent disputes with other companies,[81] mainly Apple and Microsoft,[82] and to allow it to continue to freely offer Android.[83]\n",
      "\n",
      "2012 onward\n",
      "In June 2013, Google acquired Waze, a $966 million deal.[84] While Waze would remain an independent entity, its social features, such as its crowdsourced location platform, were reportedly valuable integrations between Waze and Google Maps, Google's own mapping service.[85]\n",
      "\n",
      "Google announced the launch of a new company, called Calico, on September 19, 2013, to be led by Apple Inc. chairman Arthur Levinson. In the official public statement, Page explained that the \"health and well-being\" company would focus on \"the challenge of ageing and associated diseases\".[86]\n",
      "\n",
      "\n",
      "Entrance of building where Google and its subsidiary Deep Mind are located at 6 Pancras Square, London\n",
      "On January 26, 2014, Google announced it had agreed to acquire DeepMind Technologies, a privately held artificial intelligence company from London.[87] Technology news website Recode reported that the company was purchased for $400 million, yet the source of the information was not disclosed. A Google spokesperson declined to comment on the price.[88][89] The purchase of DeepMind aids in Google's recent growth in the artificial intelligence and robotics community.[90]/ In 2015, DeepMind's AlphaGo became the first computer program to defeat a top human pro at the game of Go.\n",
      "\n",
      "According to Interbrand's annual Best Global Brands report, Google has been the second most valuable brand in the world (behind Apple Inc.) in 2013,[91] 2014,[92] 2015,[93] and 2016, with a valuation of $133 billion.[94]\n",
      "\n",
      "On August 10, 2015, Google announced plans to reorganize its various interests as a conglomerate named Alphabet Inc. Google became Alphabet's largest subsidiary and the umbrella company for Alphabet's Internet interests. Upon completion of the restructuring, Sundar Pichai became CEO of Google, replacing Larry Page, who became CEO of Alphabet.[95][96][97]\n",
      "\n",
      "\n",
      "Current Google CEO, Sundar Pichai, with Prime Minister of India, Narendra Modi\n",
      "On August 8, 2017, Google fired employee James Damore after he distributed a memo throughout the company that argued bias and \"Google's Ideological Echo Chamber\" clouded their thinking about diversity and inclusion, and that it is also biological factors, not discrimination alone, that cause the average woman to be less interested than men in technical positions.[98] Google CEO Sundar Pichai accused Damore of violating company policy by \"advancing harmful gender stereotypes in our workplace\", and he was fired on the same day.[99][100][101]\n",
      "\n",
      "Between 2018 and 2019, tensions between the company's leadership and its workers escalated as staff protested company decisions on internal sexual harassment, Dragonfly, a censored Chinese search engine, and Project Maven, a military drone artificial intelligence, which had been seen as areas of revenue growth for the company.[102][103] On October 25, 2018, The New York Times published the exposé, \"How Google Protected Andy Rubin, the 'Father of Android'\". The company subsequently announced that \"48 employees have been fired over the last two years\" for sexual misconduct.[104] On November 1, 2018, more than 20,000 Google employees and contractors staged a global walk-out to protest the company's handling of sexual harassment complaints.[105][106] CEO Sundar Pichai was reported to be in support of the protests.[107] Later in 2019, some workers accused the company of retaliating against internal activists.[103]\n",
      "\n",
      "On March 19, 2019, Google announced that it would enter the video game market, launching a cloud gaming platform called Google Stadia.[108]\n",
      "\n",
      "On June 3, 2019, the United States Department of Justice reported that it would investigate Google for antitrust violations.[109] This led to the filing of an antitrust lawsuit in October 2020, on the grounds the company had abused a monopoly position in the search and search advertising markets.[110]\n",
      "\n",
      "In December 2019, former PayPal chief operating officer Bill Ready became Google's new commerce chief. Ready's role will not be directly involved with Google Pay.[111]\n",
      "\n",
      "In April 2020, due to the COVID-19 pandemic, Google announced several cost-cutting measures. Such measures included slowing down hiring for the remainder of 2020, except for a small number of strategic areas, recalibrating the focus and pace of investments in areas like data centers and machines, and non-business essential marketing and travel.[112] Most employees were also working from home due to the COVID-19 pandemic and the success of it even led to Google announcing that they would be permanently converting some of their jobs to work from home [113]\n",
      "\n",
      "The 2020 Google services outages disrupted Google services: one in August that affected Google Drive among others, another in November affecting YouTube, and a third in December affecting the entire suite of Google applications. All three outages were resolved within hours.[114][115][116]\n",
      "\n",
      "In 2021, the Alphabet Workers Union was founded, composed mostly of Google employees.[117]\n",
      "\n",
      "In January 2021, the Australian Government proposed legislation that would require Google and Facebook to pay media companies for the right to use their content. In response, Google threatened to close off access to its search engine in Australia.[118]\n",
      "\n",
      "In March 2021, Google reportedly paid $20 million for Ubisoft ports on Google Stadia.[119] Google spent \"tens of millions of dollars\" on getting major publishers such as Ubisoft and Take-Two to bring some of their biggest games to Stadia.[120]\n",
      "\n",
      "In April 2021, The Wall Street Journal reported that Google ran a years-long program called \"Project Bernanke\" that used data from past advertising bids to gain an advantage over competing for ad services. This was revealed in documents concerning the antitrust lawsuit filed by ten US states against Google in December.[121]\n",
      "\n",
      "In September 2021, the Australian government announced plans to curb Google's capability to sell targeted ads, claiming that the company has a monopoly on the market harming publishers, advertisers, and consumers.[122]\n",
      "\n",
      "In 2022, Google began accepting requests for the removal of phone numbers, physical addresses and email addresses from its search results. It had previously accepted requests for removing confidential data only, such as Social Security numbers, bank account and credit card numbers, personal signatures, and medical records. Even with the new policy, Google may remove information from only certain but not all search queries. It would not remove content that is \"broadly useful\", such as news articles, or already part of the public record.[123]\n",
      "\n",
      "In May 2022, Google announced that the company had acquired California based, MicroLED display technology development and manufacturing Start-up Raxium. Raxium is set to join Google's Devices and Services team to aid in the development of micro-optics, monolithic integration, and system integration.[124][125]\n",
      "\n",
      "In early 2023, following the success of ChatGPT and concerns that Google was falling behind in the AI race, Google's senior management issued a \"code red\" and a \"directive that all of its most important products—those with more than a billion users—must incorporate generative AI within months\".[126]\n",
      "\n",
      "In early May 2023, Google announced its plans to build two additional data centers in Ohio. These centers, which will be built in Columbus and Lancaster, will power up the company’s tools, including AI technology. The said data hub will add to the already operational center near Columbus, bringing Google's total investment in Ohio to over $2 billion.[127]\n",
      "\n",
      "Products and services\n",
      "Main article: List of Google products\n",
      "Search engine\n",
      "Main articles: Google Search and Google Images\n",
      "Google indexes billions of web pages to allow users to search for the information they desire through the use of keywords and operators.[128] According to comScore market research from November 2009, Google Search is the dominant search engine in the United States market, with a market share of 65.6%.[129] In May 2017, Google enabled a new \"Personal\" tab in Google Search, letting users search for content in their Google accounts' various services, including email messages from Gmail and photos from Google Photos.[130][131]\n",
      "\n",
      "Google launched its Google News service in 2002, an automated service which summarizes news articles from various websites.[132] Google also hosts Google Books, a service which searches the text found in books in its database and shows limited previews or and the full book where allowed.[133]\n",
      "\n",
      "Google expanded its search services to include shopping (launched originally as Froogle in 2002),[134] finance (launched 2006),[135] and flights (launched 2011).[136]\n",
      "\n",
      "Advertising\n",
      "\n",
      "Google on ad-tech London, 2010\n",
      "Google generates most of its revenues from advertising. This includes sales of apps, purchases made in-app, digital content products on Google and YouTube, Android and licensing and service fees, including fees received for Google Cloud offerings. Forty-six percent of this profit was from clicks (cost per clicks), amounting to US$109,652 million in 2017. This includes three principal methods, namely AdMob, AdSense (such as AdSense for Content, AdSense for Search, etc.) and DoubleClick AdExchange.[137]\n",
      "\n",
      "In addition to its own algorithms for understanding search requests, Google uses technology its acquisition of DoubleClick, to project user interest and target advertising to the search context and the user history.[138][139]\n",
      "\n",
      "In 2007, Google launched \"AdSense for Mobile\", taking advantage of the emerging mobile advertising market.[140]\n",
      "\n",
      "Google Analytics allows website owners to track where and how people use their website, for example by examining click rates for all the links on a page.[141] Google advertisements can be placed on third-party websites in a two-part program. Google Ads allows advertisers to display their advertisements in the Google content network, through a cost-per-click scheme.[142] The sister service, Google AdSense, allows website owners to display these advertisements on their website and earn money every time ads are clicked.[143] One of the criticisms of this program is the possibility of click fraud, which occurs when a person or automated script clicks on advertisements without being interested in the product, causing the advertiser to pay money to Google unduly. Industry reports in 2006 claimed that approximately 14 to 20 percent of clicks were fraudulent or invalid.[144] Google Search Console (rebranded from Google Webmaster Tools in May 2015) allows webmasters to check the sitemap, crawl rate, and for security issues of their websites, as well as optimize their website's visibility.\n",
      "\n",
      "Consumer services\n",
      "Web-based services\n",
      "Google offers Gmail for email,[145] Google Calendar for time-management and scheduling,[146] Google Maps for mapping, navigation and satellite imagery,[147] Google Drive for cloud storage of files,[148] Google Docs, Sheets and Slides for productivity,[148] Google Photos for photo storage and sharing,[149] Google Keep for note-taking,[150] Google Translate for language translation,[151] YouTube for video viewing and sharing,[152] Google My Business for managing public business information,[153] and Duo for social interaction.[154] In March 2019, Google unveiled a cloud gaming service named Stadia.[108] A job search product has also existed since before 2017,[155][156][157] Google for Jobs is an enhanced search feature that aggregates listings from job boards and career sites.[158]\n",
      "\n",
      "Some Google services are not web-based. Google Earth, launched in 2005, allowed users to see high-definition satellite pictures from all over the world for free through a client software downloaded to their computers.[159]\n",
      "\n",
      "Software\n",
      "Google develops the Android mobile operating system,[160] as well as its smartwatch,[161] television,[162] car,[163] and Internet of things-enabled smart devices variations.[164]\n",
      "\n",
      "It also develops the Google Chrome web browser,[165] and ChromeOS, an operating system based on Chrome.[166]\n",
      "\n",
      "Hardware\n",
      "\n",
      "Google Pixel smartphones on display in a store\n",
      "In January 2010, Google released Nexus One, the first Android phone under its own brand.[167] It spawned a number of phones and tablets under the \"Nexus\" branding[168] until its eventual discontinuation in 2016, replaced by a new brand called Pixel.[169]\n",
      "\n",
      "In 2011, the Chromebook was introduced, which runs on ChromeOS.[170]\n",
      "\n",
      "In July 2013, Google introduced the Chromecast dongle, which allows users to stream content from their smartphones to televisions.[171][172]\n",
      "\n",
      "In June 2014, Google announced Google Cardboard, a simple cardboard viewer that lets the user place their smartphone in a special front compartment to view virtual reality (VR) media.[173]\n",
      "\n",
      "Other hardware products include:\n",
      "\n",
      "Nest, a series of voice assistant smart speakers that can answer voice queries, play music, find information from apps (calendar, weather etc.), and control third-party smart home appliances (users can tell it to turn on the lights, for example). The Google Nest line includes the original Google Home[174] (later succeeded by the Nest Audio), the Google Home Mini (later succeeded by the Nest Mini), the Google Home Max, the Google Home Hub (later rebranded as the Nest Hub), and the Nest Hub Max.\n",
      "Nest Wifi (originally Google Wifi), a connected set of Wi-Fi routers to simplify and extend coverage of home Wi-Fi.[175]\n",
      "Enterprise services\n",
      "Main articles: Google Workspace and Google Cloud Platform\n",
      "Google Workspace (formerly G Suite until October 2020[176]) is a monthly subscription offering for organizations and businesses to get access to a collection of Google's services, including Gmail, Google Drive and Google Docs, Google Sheets and Google Slides, with additional administrative tools, unique domain names, and 24/7 support.[177]\n",
      "\n",
      "On September 24, 2012,[178] Google launched Google for Entrepreneurs, a largely not-for-profit business incubator providing startups with co-working spaces known as Campuses, with assistance to startup founders that may include workshops, conferences, and mentorships.[179] Presently, there are seven Campus locations: Berlin, London, Madrid, Seoul, São Paulo, Tel Aviv, and Warsaw.\n",
      "\n",
      "On March 15, 2016, Google announced the introduction of Google Analytics 360 Suite, \"a set of integrated data and marketing analytics products, designed specifically for the needs of enterprise-class marketers\" which can be integrated with BigQuery on the Google Cloud Platform. Among other things, the suite is designed to help \"enterprise class marketers\" \"see the complete customer journey\", generate \"useful insights\", and \"deliver engaging experiences to the right people\".[180] Jack Marshall of The Wall Street Journal wrote that the suite competes with existing marketing cloud offerings by companies including Adobe, Oracle, Salesforce, and IBM.[181]\n",
      "\n",
      "Internet services\n",
      "In February 2010, Google announced the Google Fiber project, with experimental plans to build an ultra-high-speed broadband network for 50,000 to 500,000 customers in one or more American cities.[182][183] Following Google's corporate restructure to make Alphabet Inc. its parent company, Google Fiber was moved to Alphabet's Access division.[184][185]\n",
      "\n",
      "In April 2015, Google announced Project Fi, a mobile virtual network operator, that combines Wi-Fi and cellular networks from different telecommunication providers in an effort to enable seamless connectivity and fast Internet signal.[186][187]\n",
      "\n",
      "Financial services\n",
      "As a more mature company, Google has made many moves into financial services.\n",
      "\n",
      "In August 2023, it became the first major tech company to join the OpenWallet Foundation, launched earlier in the year, whose goal was creating open-source software for interoperable digital wallets.[188]\n",
      "\n",
      "Corporate affairs\n",
      "Stock price performance and quarterly earnings\n",
      "Google's initial public offering (IPO) took place on August 19, 2004. At IPO, the company offered 19,605,052 shares at a price of $85 per share.[65][66] The sale of $1.67 billion gave Google a market capitalization of more than $23 billion.[69] The stock performed well after the IPO, with shares hitting $350 for the first time on October 31, 2007,[189] primarily because of strong sales and earnings in the online advertising market.[190] The surge in stock price was fueled mainly by individual investors, as opposed to large institutional investors and mutual funds.[190] GOOG shares split into GOOG class C shares and GOOGL class A shares.[191] The company is listed on the NASDAQ stock exchange under the ticker symbols GOOGL and GOOG, and on the Frankfurt Stock Exchange under the ticker symbol GGQ1. These ticker symbols now refer to Alphabet Inc., Google's holding company, since the fourth quarter of 2015.[192]\n",
      "\n",
      "In the third quarter of 2005, Google reported a 700% increase in profit, largely due to large companies shifting their advertising strategies from newspapers, magazines, and television to the Internet.[193][194][195]\n",
      "\n",
      "For the 2006 fiscal year, the company reported $10.492 billion in total advertising revenues and only $112 million in licensing and other revenues.[196] In 2011, 96% of Google's revenue was derived from its advertising programs.[197]\n",
      "\n",
      "Google generated $50 billion in annual revenue for the first time in 2012, generating $38 billion the previous year. In January 2013, then-CEO Larry Page commented, \"We ended 2012 with a strong quarter ... Revenues were up 36% year-on-year, and 8% quarter-on-quarter. And we hit $50 billion in revenues for the first time last year – not a bad achievement in just a decade and a half.\"[198]\n",
      "\n",
      "Google's consolidated revenue for the third quarter of 2013 was reported in mid-October 2013 as $14.89 billion, a 12 percent increase compared to the previous quarter.[199] Google's Internet business was responsible for $10.8 billion of this total, with an increase in the number of users' clicks on advertisements.[200] By January 2014, Google's market capitalization had grown to $397 billion.[201]\n",
      "\n",
      "Tax avoidance strategies\n",
      "Further information: Corporation tax in the Republic of Ireland § Multinational tax schemes, and Google tax\n",
      "Google uses various tax avoidance strategies. On the list of largest technology companies by revenue, it pays the lowest taxes to the countries of origin of its revenues. Google between 2007 and 2010 saved $3.1 billion in taxes by shuttling non-U.S. profits through Ireland and the Netherlands and then to Bermuda. Such techniques lower its non-U.S. tax rate to 2.3 per cent, while normally the corporate tax rate in, for instance, the UK is 28 per cent.[202] This reportedly sparked a French investigation into Google's transfer pricing practices in 2012.[203]\n",
      "\n",
      "In 2020, Google said it had overhauled its controversial global tax structure and consolidated all of its intellectual property holdings back to the US.[204]\n",
      "\n",
      "Google Vice-president Matt Brittin testified to the Public Accounts Committee of the UK House of Commons that his UK sales team made no sales and hence owed no sales taxes to the UK.[205] In January 2016, Google reached a settlement with the UK to pay £130m in back taxes plus higher taxes in future.[206] In 2017, Google channeled $22.7 billion from the Netherlands to Bermuda to reduce its tax bill.[207]\n",
      "\n",
      "In 2013, Google ranked 5th in lobbying spending, up from 213th in 2003. In 2012, the company ranked 2nd in campaign donations of technology and Internet sections.[208]\n",
      "\n",
      "Corporate identity\n",
      "Further information: History of Google § Name, Google (verb), Google logo, Google Doodle, List of Google April Fools' Day jokes, and List of Google Easter eggs\n",
      "\n",
      "Google's logo from 2013 to 2015\n",
      "The name \"Google\" originated from a misspelling of \"googol\",[209][210] which refers to the number represented by a 1 followed by one-hundred zeros. Page and Brin write in their original paper on PageRank:[32] \"We chose our system name, Google, because it is a common spelling of googol, or 10100[,] and fits well with our goal of building very large-scale search engines.\" Having found its way increasingly into everyday language, the verb \"google\" was added to the Merriam Webster Collegiate Dictionary and the Oxford English Dictionary in 2006, meaning \"to use the Google search engine to obtain information on the Internet.\"[211][212] Google's mission statement, from the outset, was \"to organize the world's information and make it universally accessible and useful\",[213] and its unofficial slogan is \"Don't be evil\".[214] In October 2015, a related motto was adopted in the Alphabet corporate code of conduct by the phrase: \"Do the right thing\".[215] The original motto was retained in the code of conduct of Google, now a subsidiary of Alphabet.\n",
      "\n",
      "The original Google logo was designed by Sergey Brin.[216] Since 1998, Google has been designing special, temporary alternate logos to place on their homepage intended to celebrate holidays, events, achievements and people. The first Google Doodle was in honor of the Burning Man Festival of 1998.[217][218] The doodle was designed by Larry Page and Sergey Brin to notify users of their absence in case the servers crashed. Subsequent Google Doodles were designed by an outside contractor, until Larry and Sergey asked then-intern Dennis Hwang to design a logo for Bastille Day in 2000. From that point onward, Doodles have been organized and created by a team of employees termed \"Doodlers\".[219]\n",
      "\n",
      "Google has a tradition of creating April Fools' Day jokes. Its first on April 1, 2000, was Google MentalPlex which allegedly featured the use of mental power to search the web.[220] In 2007, Google announced a free Internet service called TiSP, or Toilet Internet Service Provider, where one obtained a connection by flushing one end of a fiber-optic cable down their toilet.[221]\n",
      "\n",
      "Google's services contain easter eggs, such as the Swedish Chef's \"Bork bork bork,\" Pig Latin, \"Hacker\" or leetspeak, Elmer Fudd, Pirate, and Klingon as language selections for its search engine.[222] When searching for the word \"anagram,\" meaning a rearrangement of letters from one word to form other valid words, Google's suggestion feature displays \"Did you mean: nag a ram?\"[223] Since 2019, Google runs free online courses to help engineers learn how to plan and author technical documentation better.[224]\n",
      "\n",
      "Workplace culture\n",
      "\n",
      "Google employees marching in the Pride in London parade in 2016\n",
      "On Fortune magazine's list of the best companies to work for, Google ranked first in 2007, 2008 and 2012,[225][226][227] and fourth in 2009 and 2010.[228][229] Google was also nominated in 2010 to be the world's most attractive employer to graduating students in the Universum Communications talent attraction index.[230] Google's corporate philosophy includes principles such as \"you can make money without doing evil,\" \"you can be serious without a suit,\" and \"work should be challenging and the challenge should be fun.\"[231]\n",
      "\n",
      "As of September 30, 2020, Alphabet Inc. had 132,121 employees,[232] of which more than 100,000 worked for Google.[8] Google's 2020 diversity report states that 32 percent of its workforce are women and 68 percent are men, with the ethnicity of its workforce being predominantly white (51.7%) and Asian (41.9%).[233] Within tech roles, 23.6 percent were women; and 26.7 percent of leadership roles were held by women.[234] In addition to its 100,000+ full-time employees, Google used about 121,000 temporary workers and contractors, as of March 2019.[8]\n",
      "\n",
      "Google's employees are hired based on a hierarchical system. Employees are split into six hierarchies based on experience and can range \"from entry-level data center workers at level one to managers and experienced engineers at level six.\"[235] As a motivation technique, Google uses a policy known as Innovation Time Off, where Google engineers are encouraged to spend 20% of their work time on projects that interest them. Some of Google's services, such as Gmail, Google News, Orkut, and AdSense originated from these independent endeavors.[236] In a talk at Stanford University, Marissa Mayer, Google's vice-president of Search Products and User Experience until July 2012, showed that half of all new product launches in the second half of 2005 had originated from the Innovation Time Off.[237]\n",
      "\n",
      "In 2005, articles in The New York Times[238] and other sources began suggesting that Google had lost its anti-corporate, no evil philosophy.[239][240][241] In an effort to maintain the company's unique culture, Google designated a Chief Culture Officer whose purpose was to develop and maintain the culture and work on ways to keep true to the core values that the company was founded on.[242] Google has also faced allegations of sexism and ageism from former employees.[243][244] In 2013, a class action against several Silicon Valley companies, including Google, was filed for alleged \"no cold call\" agreements which restrained the recruitment of high-tech employees.[245] In a lawsuit filed January 8, 2018, multiple employees and job applicants alleged Google discriminated against a class defined by their \"conservative political views[,] male gender[,] and/or [...] Caucasian or Asian race\".[246]\n",
      "\n",
      "On January 25, 2020, the formation of an international workers union of Google employees, Alpha Global, was announced.[247] The coalition is made up of \"13 different unions representing workers in 10 countries, including the United States, United Kingdom, and Switzerland.\"[248] The group is affiliated with UNI Global Union, which represents nearly 20 million international workers from various unions and federations. The formation of the union is in response to persistent allegations of mistreatment of Google employees and a toxic workplace culture.[248][249][246] Google had previously been accused of surveilling and firing employees who were suspected of organizing a workers union.[250] In 2021 court documents revealed that between 2018 and 2020 Google ran an anti-union campaign called Project Vivian to \"convince them (employees) that unions suck\".[251]\n",
      "\n",
      "Office locations\n",
      "Further information: Googleplex\n",
      "\n",
      "Google's New York City office building houses its largest advertising sales team.\n",
      "\n",
      "Google's Toronto office\n",
      "Google's headquarters in Mountain View, California is referred to as \"the Googleplex\", a play on words on the number googolplex and the headquarters itself being a complex of buildings. Internationally, Google has over 78 offices in more than 50 countries.[252]\n",
      "\n",
      "In 2006, Google moved into about 300,000 square feet (27,900 m2) of office space at 111 Eighth Avenue in Manhattan, New York City. The office was designed and built specially for Google, and houses its largest advertising sales team.[253] In 2010, Google bought the building housing the headquarter, in a deal that valued the property at around $1.9 billion.[254][255] In March 2018, Google's parent company Alphabet bought the nearby Chelsea Market building for $2.4 billion. The sale is touted as one of the most expensive real estate transactions for a single building in the history of New York.[256][257][258][259] In November 2018, Google announced its plan to expand its New York City office to a capacity of 12,000 employees.[260] The same December, it was announced that a $1 billion, 1,700,000-square-foot (160,000 m2) headquarters for Google would be built in Manhattan's Hudson Square neighborhood.[261][262] Called Google Hudson Square, the new campus is projected to more than double the number of Google employees working in New York City.[263]\n",
      "\n",
      "By late 2006, Google established a new headquarters for its AdWords division in Ann Arbor, Michigan.[264] In November 2006, Google opened offices on Carnegie Mellon's campus in Pittsburgh, focusing on shopping-related advertisement coding and smartphone applications and programs.[265][266] Other office locations in the U.S. include Atlanta, Georgia; Austin, Texas; Boulder, Colorado; Cambridge, Massachusetts; San Francisco, California; Seattle, Washington; Kirkland, Washington; Birmingham, Michigan; Reston, Virginia, Washington, D.C.,[267] and Madison, Wisconsin.[268]\n",
      "\n",
      "\n",
      "Google's Dublin Ireland office, headquarters of Google Ads for Europe\n",
      "It also has product research and development operations in cities around the world, namely Sydney (birthplace location of Google Maps)[269] and London (part of Android development).[270] In November 2013, Google announced plans for a new London headquarter, a 1 million square foot office able to accommodate 4,500 employees. Recognized as one of the biggest ever commercial property acquisitions at the time of the deal's announcement in January,[271] Google submitted plans for the new headquarter to the Camden Council in June 2017.[272][273] In May 2015, Google announced its intention to create its own campus in Hyderabad, India. The new campus, reported to be the company's largest outside the United States, will accommodate 13,000 employees.[274][275]\n",
      "\n",
      "Google's Global Offices sum a total of 85 Locations worldwide,[276] with 32 offices in North America, 3 of them in Canada and 29 in United States Territory, California being the state with the most Google's offices with 9 in total including the Googleplex. In the Latin America Region Google counts with 6 offices, in Europe 24 (3 of them in UK), the Asia Pacific region counts with 18 offices principally 4 in India and 3 in China, and the Africa Middle East region counts 5 offices.\n",
      "\n",
      "North America\n",
      "SN\tCity\tCountry or US State\n",
      "1.\tAnn Arbor\t Michigan\n",
      "2.\tAtlanta\t Georgia\n",
      "3.\tAustin\t Texas\n",
      "4.\tBoulder\t Colorado\n",
      "5.\tBoulder – Pearl Place\t Colorado\n",
      "6.\tBoulder – Walnut\t Colorado\n",
      "7.\tCambridge\t Massachusetts\n",
      "8.\tChapel Hill\t North Carolina\n",
      "9.\tChicago – Carpenter\t Illinois\n",
      "10.\tChicago – Fulton Market\t Illinois\n",
      "11.\tDetroit\t Michigan\n",
      "12.\tIrvine\t California\n",
      "13.\tKirkland\t Washington\n",
      "14.\tKitchener\t Canada\n",
      "15.\tLos Angeles\t California\n",
      "16.\tMadison\t Wisconsin\n",
      "17.\tMiami\t Florida\n",
      "18.\tMontreal\t Canada\n",
      "19.\tMountain View\t California\n",
      "20.\tNew York\t New York\n",
      "21.\tPittsburgh\t Pennsylvania\n",
      "22.\tPlaya Vista\t California\n",
      "23.\tPortland\t Oregon\n",
      "24.\tRedwood City\t California\n",
      "25.\tReston\t Virginia\n",
      "26.\tSan Bruno\t California\n",
      "27.\tSan Diego\t California\n",
      "28.\tSan Francisco – HQ\t California\n",
      "29.\tSeattle\t Washington\n",
      "30.\tSunnyvale\t California\n",
      "31.\tToronto\t Canada\n",
      "32.\tWashington DC\t District of Columbia\n",
      "Latin America\n",
      "SN\tCity\tCountry\n",
      "1.\tBelo Horizonte\t Brazil\n",
      "2.\tBogotá\t Colombia\n",
      "3.\tBuenos Aires\t Argentina\n",
      "4.\tMexico City\t Mexico\n",
      "5.\tSantiago de Chile\t Chile\n",
      "6.\tSão Paulo\t Brazil\n",
      "Europe\n",
      "SN\tCity\tCountry\n",
      "1.\tAarhus\t Denmark\n",
      "2.\tAmsterdam\t Netherlands\n",
      "3.\tAthens\t Greece\n",
      "4.\tBerlin\t Germany\n",
      "5.\tBrussels\t Belgium\n",
      "6.\tCopenhagen\t Denmark\n",
      "7.\tDublin\t Ireland\n",
      "8.\tHamburg\t Germany\n",
      "9.\tLisbon\t Portugal\n",
      "10.\tLondon – 6PS\t United Kingdom\n",
      "11.\tLondon – BEL\t United Kingdom\n",
      "12.\tLondon – CSG\t United Kingdom\n",
      "13.\tMadrid\t Spain\n",
      "14.\tMilan\t Italy\n",
      "15.\tMoscow\t Russia\n",
      "16.\tMunich\t Germany\n",
      "17.\tOslo\t Norway\n",
      "18.\tParis\t France\n",
      "19.\tPrague\t Czech Republic\n",
      "20.\tStockholm\t Sweden\n",
      "21.\tVienna\t Austria\n",
      "22.\tWarsaw\t Poland\n",
      "23.\tWroclaw\t Poland\n",
      "24.\tZurich – BRA\t  Switzerland\n",
      "25.\tZurich – EUR\t  Switzerland\n",
      "Asia-Pacific\n",
      "SN\tCity\tCountry\n",
      "1.\tAuckland\t New Zealand\n",
      "2.\tBangalore\t India\n",
      "3.\tBangkok\t Thailand\n",
      "4.\tBeijing\t China\n",
      "5.\tGuangzhou\t China\n",
      "6.\tGurgaon\t India\n",
      "7.\tHong Kong\t Hong Kong\n",
      "8.\tHyderabad\t India\n",
      "9.\tJakarta\t Indonesia\n",
      "10.\tKuala Lumpur\t Malaysia\n",
      "11.\tManila\t Philippines\n",
      "12.\tMelbourne\t Australia\n",
      "13.\tMumbai\t India\n",
      "14.\tSeoul\t South Korea\n",
      "15.\tShanghai\t China\n",
      "16.\tSingapore\t Singapore\n",
      "17.\tSydney\t Australia\n",
      "18.\tTaipei\t Taiwan\n",
      "19.\tTokyo – RPG\t Japan\n",
      "20.\tTokyo – STRM\t Japan\n",
      "Africa and the Middle East\n",
      "SN\tCity\tCountry\n",
      "1.\tDubai\t United Arab Emirates\n",
      "2.\tHaifa\t Israel\n",
      "3.\tIstanbul\t Turkey\n",
      "4.\tJohannesburg\t South Africa\n",
      "5.\tTel Aviv\t Israel\n",
      "Infrastructure\n",
      "Further information: Google data centers\n",
      "Google has data centers in North and South America, Asia, and Europe.[277] There is no official data on the number of servers in Google data centers; however, research and advisory firm Gartner estimated in a July 2016 report that Google at the time had 2.5 million servers.[278] Traditionally, Google relied on parallel computing on commodity hardware like mainstream x86 computers (similar to home PCs) to keep costs per query low.[279][280][281] In 2005, it started developing its own designs, which were only revealed in 2009.[281]\n",
      "\n",
      "Google has built its own private submarine communications cables. The first cable, named Curie, connects California with Chile and was completed on November 15, 2019.[282][283] The second fully Google-owned undersea cable, named Dunant, connects the United States with France and is planned to begin operation in 2020.[284] Google's third subsea cable, Equiano, will connect Lisbon, Portugal with Lagos, Nigeria and Cape Town, South Africa.[285] The company's fourth cable, named Grace Hopper, connects landing points in New York, US, Bude, UK and Bilbao, Spain, and is expected to become operational in 2022.[286]\n",
      "\n",
      "Environment\n",
      "In October 2006, the company announced plans to install thousands of solar panels to provide up to 1.6 Megawatt of electricity, enough to satisfy approximately 30% of the campus' energy needs.[287][288] The system is the largest rooftop photovoltaic power station constructed on a U.S. corporate campus and one of the largest on any corporate site in the world.[287] Since 2007, Google has aimed for carbon neutrality in regard to its operations.[289]\n",
      "\n",
      "Google disclosed in September 2011 that it \"continuously uses enough electricity to power 200,000 homes\", almost 260 million watts or about a quarter of the output of a nuclear power plant. Total carbon emissions for 2010 were just under 1.5 million metric tons, mostly due to fossil fuels that provide electricity for the data centers. Google said that 25 percent of its energy was supplied by renewable fuels in 2010. An average search uses only 0.3 watt-hours of electricity, so all global searches are only 12.5 million watts or 5% of the total electricity consumption by Google.[290]\n",
      "\n",
      "In 2010, Google Energy made its first investment in a renewable energy project, putting $38.8 million into two wind farms in North Dakota. The company announced the two locations will generate 169.5 megawatts of power, enough to supply 55,000 homes.[291] In February 2010, the Federal Energy Regulatory Commission granted Google an authorization to buy and sell energy at market rates.[292] The corporation exercised this authorization in September 2013 when it announced it would purchase all the electricity produced by the not-yet-built 240-megawatt Happy Hereford wind farm.[293]\n",
      "\n",
      "In July 2010, Google signed an agreement with an Iowa wind farm to buy 114 megawatts of power for 20 years.[294]\n",
      "\n",
      "In December 2016, Google announced that—starting in 2017—it would purchase enough renewable energy to match 100% of the energy usage of its data centers and offices. The commitment will make Google \"the world's largest corporate buyer of renewable power, with commitments reaching 2.6 gigawatts (2,600 megawatts) of wind and solar energy\".[295][296][297]\n",
      "\n",
      "In November 2017, Google bought 536 megawatts of wind power. The purchase made the firm reach 100% renewable energy. The wind energy comes from two power plants in South Dakota, one in Iowa and one in Oklahoma.[298] In September 2019, Google's chief executive announced plans for a $2 billion wind and solar investment, the biggest renewable energy deal in corporate history. This will grow their green energy profile by 40%, giving them an extra 1.6 gigawatt of clean energy, the company said.[299]\n",
      "\n",
      "In September 2020, Google announced it had retroactively offset all of its carbon emissions since the company's foundation in 1998.[300] It also committed to operating its data centers and offices using only carbon-free energy by 2030.[301] In October 2020, the company pledged to make the packaging for its hardware products 100% plastic-free and 100% recyclable by 2025. It also said that all its final assembly manufacturing sites will achieve a UL 2799 Zero Waste to Landfill certification by 2022 by ensuring that the vast majority of waste from the manufacturing process is recycled instead of ending up in a landfill.[302]\n",
      "\n",
      "Climate change denial and misinformation\n",
      "Google donates to climate change denial political groups including the State Policy Network and the Competitive Enterprise Institute.[303][304] The company also actively funds and profits from climate disinformation by monetizing ad spaces on most of the largest climate disinformation sites.[305] Google continued to monetize and profit from sites propagating climate disinformation even after the company updated their policy to prohibit placing their ads on similar sites.[306]\n",
      "\n",
      "Philanthropy\n",
      "Main article: Google.org\n",
      "In 2004, Google formed the not-for-profit philanthropic Google.org, with a start-up fund of $1 billion.[307] The mission of the organization is to create awareness about climate change, global public health, and global poverty. One of its first projects was to develop a viable plug-in hybrid electric vehicle that can attain 100 miles per gallon. Google hired Larry Brilliant as the program's executive director in 2004[308] and Megan Smith has since replaced him as director.[309]\n",
      "\n",
      "In March 2007, in partnership with the Mathematical Sciences Research Institute (MSRI), Google hosted the first Julia Robinson Mathematics Festival at its headquarters in Mountain View.[310] In 2011, Google donated 1 million euros to International Mathematical Olympiad to support the next five annual International Mathematical Olympiads (2011–2015).[311][312] In July 2012, Google launched a \"Legalize Love\" campaign in support of gay rights.[313]\n",
      "\n",
      "In 2008, Google announced its \"project 10100\" which accepted ideas for how to help the community and then allowed Google users to vote on their favorites.[314] After two years of silence, during which many wondered what had happened to the program,[315] Google revealed the winners of the project, giving a total of ten million dollars to various ideas ranging from non-profit organizations that promote education to a website that intends to make all legal documents public and online.[316]\n",
      "\n",
      "Responding to the humanitarian crisis after the 2022 Russian invasion of Ukraine, Google announced a $15 million donation to support Ukrainian citizens.[317] The company also decided to transform its office in Warsaw into a help center for refugees.[318]\n",
      "\n",
      "Also in February 2022, Google announced a $100 million fund to expand skills training and job placement for low-income Americans, in conjunction with non-profits Year Up, Social Finance, and Merit America.[319]\n",
      "\n",
      "Criticism and controversies\n",
      "Main articles: Criticism of Google, Censorship by Google, and Privacy concerns regarding Google\n",
      "\n",
      "This section should include a better summary of Criticism of Google. See Wikipedia:Summary style for information on how to properly incorporate it into this article's main text. (April 2019)\n",
      "\n",
      "San Francisco activists protest privately owned shuttle buses that transport workers for tech companies such as Google from their homes in San Francisco and Oakland to corporate campuses in Silicon Valley.\n",
      "Google has had criticism over issues such as aggressive tax avoidance,[320] search neutrality, copyright, censorship of search results and content,[321] and privacy.[322][323]\n",
      "\n",
      "Other criticisms are alleged misuse and manipulation of search results, its use of other people's intellectual property, concerns that its compilation of data may violate people's privacy, and the energy consumption of its servers, as well as concerns over traditional business issues such as monopoly, restraint of trade, anti-competitive practices, and patent infringement.\n",
      "\n",
      "Google formerly complied with Internet censorship policies of the People's Republic of China,[324] enforced by means of filters colloquially known as \"The Great Firewall of China\", but no longer does so. As a result, all Google services except for Chinese Google Maps are blocked from access within mainland China without the aid of virtual private networks, proxy servers, or other similar technologies.\n",
      "\n",
      "2018\n",
      "In July 2018, Mozilla program manager Chris Peterson accused Google of intentionally slowing down YouTube performance on Firefox.[325][326] In April 2019, former Mozilla executive Jonathan Nightingale accused Google of intentionally and systematically sabotaging the Firefox browser over the past decade in order to boost adoption of Google Chrome.[327]\n",
      "\n",
      "In August 2018, The Intercept reported that Google is developing for the People's Republic of China a censored version of its search engine (known as Dragonfly) \"that will blacklist websites and search terms about human rights, democracy, religion, and peaceful protest\".[328][329] However, the project had been withheld due to privacy concerns.[330][331]\n",
      "\n",
      "2019\n",
      "In 2019, a hub for critics of Google dedicated to abstaining from using Google products coalesced in the Reddit online community /r/degoogle.[332] The DeGoogle grassroots campaign continues to grow as privacy activists highlight information about Google products, and the associated incursion on personal privacy rights by the company.\n",
      "\n",
      "In November 2019, the Office for Civil Rights of the United States Department of Health and Human Services began investigation into Project Nightingale, to assess whether the \"mass collection of individuals' medical records\" complied with HIPAA.[333] According to The Wall Street Journal, Google secretively began the project in 2018, with St. Louis-based healthcare company Ascension.[334]\n",
      "\n",
      "2022\n",
      "In a 2022 National Labor Relations Board ruling, court documents suggested that Google sponsored a secretive project—Project Vivian—to counsel its employees and to discourage them from forming unions.[335]\n",
      "\n",
      "2023\n",
      "On May 1, 2023, Google placed an ad against anti-disinformation Brazilian Congressional Bill No. 2630, which was about to be approved, on its search homepage in Brazil, calling on its users to ask congressional representatives to oppose the legislation. The country's government and judiciary accused the company of undue interference in the congressional debate, saying it could amount to abuse of economic power and ordering the company to change the ad within two hours of notification or face fines of R$1 million (2023) (US$185,528.76) per non-compliance hour. The company then promptly removed the ad.[336][337]\n",
      "\n",
      "Racially-targeted surveillance\n",
      "Google has aided controversial governments in mass surveillance projects, sharing with police and military the identities of those protesting racial injustice. In 2020, they shared with the FBI information collected from all Android users at a Black Lives Matter protest in Seattle,[338] including those who had opted out of location data collection.[339][340]\n",
      "\n",
      "Google is also part of Project Nimbus, a $1.2 billion deal in which the technology companies Google and Amazon will provide Israel and its military with artificial intelligence, machine learning, and other cloud computing services, including building local cloud sites that will \"keep information within Israel's borders under strict security guidelines.\"[341][342][343] The contract has been criticized by shareholders as well as their employees over concerns that the project will lead to further abuses of Palestinians' human rights in the context of the ongoing illegal occupation and the Israeli–Palestinian conflict.[344][345] Ariel Koren, a former marketing manager for Google's educational products and an outspoken critic of the project, wrote that Google \"systematically silences Palestinian, Jewish, Arab and Muslim voices concerned about Google's complicity in violations of Palestinian human rights—to the point of formally retaliating against workers and creating an environment of fear,\" reflecting her view that the ultimatum came in retaliation for her opposition to and organization against the project.[341][346]\n",
      "\n",
      "Anti-trust, privacy, and other litigation\n",
      "Main article: Google litigation\n",
      "\n",
      "The European Commission, which imposed three fines on Google in 2017, 2018, and 2019\n",
      "Fines and lawsuits\n",
      "European Union\n",
      "On June 27, 2017, the company received a record fine of €2.42 billion from the European Union for \"promoting its own shopping comparison service at the top of search results.\"[347]\n",
      "\n",
      "On July 18, 2018,[348] the European Commission fined Google €4.34 billion for breaching EU antitrust rules. The abuse of dominant position has been referred to Google's constraint applied to Android device manufacturers and network operators to ensure that traffic on Android devices goes to the Google search engine. On October 9, 2018, Google confirmed[349] that it had appealed the fine to the General Court of the European Union.[350]\n",
      "\n",
      "On October 8, 2018, a class action lawsuit was filed against Google and Alphabet due to \"non-public\" Google+ account data being exposed as a result of a bug that allowed app developers to gain access to the private information of users. The litigation was settled in July 2020 for $7.5 million with a payout to claimants of at least $5 each, with a maximum of $12 each.[351][352][353]\n",
      "\n",
      "On March 20, 2019, the European Commission imposed a €1.49 billion ($1.69 billion) fine on Google for preventing rivals from being able to \"compete and innovate fairly\" in the online advertising market. European Union competition commissioner Margrethe Vestager said Google had violated EU antitrust rules by \"imposing anti-competitive contractual restrictions on third-party websites\" that required them to exclude search results from Google's rivals.[354][355]\n",
      "\n",
      "On September 14, 2022, Google lost the appeal over €4.125bn (£3.5bn) fine, which was ruled to be paid after it was proved by the European Commission that Google forced Android phone-makers to carry Google's search and web browser apps. Since the initial accusations, Google changed its policy.[356]\n",
      "\n",
      "France\n",
      "On January 21, 2019, French data regulator CNIL imposed a record €50 million fine on Google for breaching the European Union's General Data Protection Regulation. The judgment claimed Google had failed to sufficiently inform users of its methods for collecting data to personalize advertising. Google issued a statement saying it was \"deeply committed\" to transparency and was \"studying the decision\" before determining its response.[357]\n",
      "\n",
      "On January 6, 2022, France's data privacy regulatory body CNIL fined Alphabet's Google 150 million euros (US$169 million) for not allowing its Internet users an easy refusal of Cookies along with Facebook.[358]\n",
      "\n",
      "United States\n",
      "After U.S. Congressional hearings in July 2020,[359] and a report from the U.S. House of Representatives' Antitrust Subcommittee released in early October[360] the United States Department of Justice filed an antitrust lawsuit against Google on October 20, 2020, asserting that it has illegally maintained its monopoly position in web search and search advertising.[361][362] The lawsuit alleged that Google engaged in anticompetitive behavior by paying Apple between $8 billion-$12 billion to be the default search engine on iPhones.[363] Later that month, both Facebook and Alphabet agreed to \"cooperate and assist one another\" in the face of investigation into their online advertising practices.[364][365] Another suit was brought against Google in 2023 for illegally monopolizing the advertising technology market.[366]\n",
      "\n",
      "Private browsing lawsuit\n",
      "See also: Private browsing\n",
      "In early June 2020, a $5 billion class-action lawsuit was filed against Google by a group of consumers, alleging that Chrome's Incognito browsing mode still collects their user history.[367][368] The lawsuit became known in March 2021 when a federal judge denied Google's request to dismiss the case, ruling that they must face the group's charges.[369][370] Reuters reported that the lawsuit alleged that Google's CEO Sundar Pichai sought to keep the users unaware of this issue.[371]\n",
      "\n",
      "Gender discrimination lawsuit\n",
      "In 2017, three women sued Google, accusing the company of violating California's Equal Pay Act by underpaying its female employees. The lawsuit cited the wage gap was around $17,000 and that Google locked women into lower career tracks, leading to smaller salaries and bonuses. In June 2022, Google agreed to pay a $118 million settlement to 15,550 female employees working in California since 2013. As a part of the settlement, Google also agreed to hire a third party to analyze its hiring and compensation practices.[372][373][374]\n",
      "\n",
      "U.S. government contracts\n",
      "Following media reports about PRISM, the NSA's massive electronic surveillance program, in June 2013, several technology companies were identified as participants, including Google.[375] According to unnamed sources, Google joined the PRISM program in 2009, as YouTube in 2010.[376]\n",
      "\n",
      "Google has worked with the United States Department of Defense on drone software through the 2017 Project Maven that could be used to improve the accuracy of drone strikes.[377] In April 2018, thousands of Google employees, including senior engineers, signed a letter urging Google CEO Sundar Pichai to end this controversial contract with the Pentagon.[378] Google ultimately decided not to renew this DoD contract, which was set to expire in 2019.[379]\n",
      "\n",
      "See also\n",
      "File Closed\n"
     ]
    }
   ],
   "source": [
    "try :\n",
    "    f = open(\"test.txt\")\n",
    "    data = f.read()\n",
    "except Exception:\n",
    "    print(\"there is some issue\")\n",
    "else :\n",
    "    print(data)\n",
    "finally :\n",
    "    f.close()\n",
    "    print(\"File Closed\")"
   ]
  },
  {
   "cell_type": "code",
   "execution_count": 8,
   "id": "c649986c-50d3-4458-bca5-f728fd4b308b",
   "metadata": {},
   "outputs": [
    {
     "name": "stdout",
     "output_type": "stream",
     "text": [
      "there is some issue\n",
      "File Closed\n"
     ]
    }
   ],
   "source": [
    "try :\n",
    "    f = open(\"test1.txt\")\n",
    "    data = f.read()\n",
    "except Exception :\n",
    "    print(\"there is some issue\")\n",
    "else :\n",
    "    print(data)\n",
    "finally :\n",
    "    f.close()\n",
    "    print(\"File Closed\")"
   ]
  },
  {
   "cell_type": "code",
   "execution_count": 1,
   "id": "bcdab163-153b-47f4-b231-e9ba8e3ec16d",
   "metadata": {},
   "outputs": [
    {
     "name": "stdout",
     "output_type": "stream",
     "text": [
      "there is some issue\n"
     ]
    },
    {
     "ename": "NameError",
     "evalue": "name 'data' is not defined",
     "output_type": "error",
     "traceback": [
      "\u001b[0;31m---------------------------------------------------------------------------\u001b[0m",
      "\u001b[0;31mNameError\u001b[0m                                 Traceback (most recent call last)",
      "Cell \u001b[0;32mIn[1], line 9\u001b[0m\n\u001b[1;32m      7\u001b[0m     \u001b[38;5;28mprint\u001b[39m(data)\n\u001b[1;32m      8\u001b[0m \u001b[38;5;28;01mfinally\u001b[39;00m :\n\u001b[0;32m----> 9\u001b[0m     \u001b[38;5;28mprint\u001b[39m(\u001b[43mdata\u001b[49m)\n\u001b[1;32m     10\u001b[0m     f\u001b[38;5;241m.\u001b[39mclose()\n\u001b[1;32m     11\u001b[0m     \u001b[38;5;28mprint\u001b[39m(\u001b[38;5;124m\"\u001b[39m\u001b[38;5;124mFile Closed\u001b[39m\u001b[38;5;124m\"\u001b[39m)\n",
      "\u001b[0;31mNameError\u001b[0m: name 'data' is not defined"
     ]
    }
   ],
   "source": [
    "try :\n",
    "    f = open(\"test.txt\")\n",
    "    data = f.write()\n",
    "except Exception :\n",
    "    print(\"there is some issue\")\n",
    "else :\n",
    "    print(data)\n",
    "finally :\n",
    "    print(data)\n",
    "    f.close()\n",
    "    print(\"File Closed\")"
   ]
  },
  {
   "cell_type": "code",
   "execution_count": 2,
   "id": "e0acaea0-f399-4cc0-ae86-0510eb6a43df",
   "metadata": {},
   "outputs": [
    {
     "name": "stdout",
     "output_type": "stream",
     "text": [
      "there is some issue\n",
      "File Closed\n"
     ]
    }
   ],
   "source": [
    "try :\n",
    "    f = open(\"test.txt\")\n",
    "    data = f.write()\n",
    "except Exception :\n",
    "    print(\"there is some issue\")\n",
    "else :\n",
    "    print(data)\n",
    "finally :\n",
    "    try :\n",
    "        print(data)\n",
    "    except :\n",
    "        pass\n",
    "    f.close()\n",
    "    print(\"File Closed\")"
   ]
  },
  {
   "cell_type": "markdown",
   "id": "c782d842-317b-4343-8e8d-0c61562038c6",
   "metadata": {},
   "source": [
    "###### Writing Your Own Custom Exception"
   ]
  },
  {
   "cell_type": "code",
   "execution_count": 3,
   "id": "559539cc-2bdb-4c9a-9243-213be7bf1b92",
   "metadata": {},
   "outputs": [
    {
     "name": "stdin",
     "output_type": "stream",
     "text": [
      "Enter your Height -23\n"
     ]
    }
   ],
   "source": [
    "a = int(input(\"Enter your Height\"))"
   ]
  },
  {
   "cell_type": "code",
   "execution_count": 4,
   "id": "4fb9c617-38ff-46c2-95bc-c509fff6fa5f",
   "metadata": {},
   "outputs": [
    {
     "name": "stdin",
     "output_type": "stream",
     "text": [
      "Enter Your Height 45\n"
     ]
    }
   ],
   "source": [
    "try :\n",
    "    a = int(input(\"Enter Your Height\"))\n",
    "    if a < 0 :\n",
    "        raise ValueError(\"Entered Height is Negetive\")\n",
    "except ValueError as v :\n",
    "    print(v)"
   ]
  },
  {
   "cell_type": "code",
   "execution_count": 5,
   "id": "3d79e376-436b-415a-9e6b-d8bf715d1686",
   "metadata": {},
   "outputs": [
    {
     "name": "stdin",
     "output_type": "stream",
     "text": [
      "Enter Your Height -50\n"
     ]
    },
    {
     "name": "stdout",
     "output_type": "stream",
     "text": [
      "Entered Height is Negetive\n"
     ]
    }
   ],
   "source": [
    "try :\n",
    "    a = int(input(\"Enter Your Height\"))\n",
    "    if a < 0 :\n",
    "        raise ValueError(\"Entered Height is Negetive\")\n",
    "except ValueError as v :\n",
    "    print(v)"
   ]
  },
  {
   "cell_type": "code",
   "execution_count": 8,
   "id": "b0b4f027-9b4d-4fb6-8eb8-c54e37d86fb6",
   "metadata": {},
   "outputs": [
    {
     "name": "stdin",
     "output_type": "stream",
     "text": [
      "Enter your age 19\n"
     ]
    },
    {
     "name": "stdout",
     "output_type": "stream",
     "text": [
      "valid user\n"
     ]
    }
   ],
   "source": [
    "try :\n",
    "    age = int(input(\"Enter your age\"))\n",
    "    if age < 0 :\n",
    "        raise ValueError(\"User has entered a negetive age which is not valid\")\n",
    "    elif age < 18 :\n",
    "        raise ValueError(\"User is underage\")\n",
    "    else :\n",
    "        print(\"valid user\")\n",
    "except ValueError as v:\n",
    "    print(v)"
   ]
  },
  {
   "cell_type": "code",
   "execution_count": 9,
   "id": "f40feb91-1497-428e-b4f5-94d9f3cb99cb",
   "metadata": {},
   "outputs": [
    {
     "name": "stdin",
     "output_type": "stream",
     "text": [
      "Enter your age -3636\n"
     ]
    },
    {
     "name": "stdout",
     "output_type": "stream",
     "text": [
      "User has entered a negetive age which is not valid\n"
     ]
    }
   ],
   "source": [
    "try :\n",
    "    age = int(input(\"Enter your age\"))\n",
    "    if age < 0 :\n",
    "        raise ValueError(\"User has entered a negetive age which is not valid\")\n",
    "    elif age < 18 :\n",
    "        raise Exception(\"User is underage\")\n",
    "    else :\n",
    "        print(\"valid user\")\n",
    "except Exception as e:\n",
    "    print(e)"
   ]
  },
  {
   "cell_type": "code",
   "execution_count": 10,
   "id": "0b77be69-6462-4232-b5e6-5583f9fe219d",
   "metadata": {},
   "outputs": [],
   "source": [
    "import logging as log"
   ]
  },
  {
   "cell_type": "code",
   "execution_count": 11,
   "id": "b5dff598-52e8-4604-8a0b-58140dbdc106",
   "metadata": {},
   "outputs": [],
   "source": [
    "log.basicConfig(filename = 'test.log', level = log.INFO)"
   ]
  },
  {
   "cell_type": "code",
   "execution_count": 12,
   "id": "d738470b-854d-40a0-aa75-47076cbed92b",
   "metadata": {},
   "outputs": [],
   "source": [
    "log.info(\"store a msg\")"
   ]
  },
  {
   "cell_type": "code",
   "execution_count": 13,
   "id": "328dc1c8-b3da-4d2c-9329-e3a9b639d1d2",
   "metadata": {},
   "outputs": [],
   "source": [
    "log.debug(\"This is a Debug msg\")"
   ]
  },
  {
   "cell_type": "code",
   "execution_count": 14,
   "id": "11708dc8-d5f1-47e4-83cc-ee1b77d85b10",
   "metadata": {},
   "outputs": [],
   "source": [
    "log.warning(\"this is my warning\")"
   ]
  },
  {
   "cell_type": "code",
   "execution_count": 15,
   "id": "b24ac524-8be5-442d-b8e0-676a59fb7d2c",
   "metadata": {},
   "outputs": [],
   "source": [
    "log.error(\"this is my error msg\")"
   ]
  },
  {
   "cell_type": "code",
   "execution_count": 16,
   "id": "15636e0d-0b8f-4ef4-b2fe-99bfec9629f0",
   "metadata": {},
   "outputs": [],
   "source": [
    "log.critical(\"this is my critical msg\")"
   ]
  },
  {
   "cell_type": "code",
   "execution_count": 1,
   "id": "98697ccb-08f2-4074-8421-e858b7c6523b",
   "metadata": {},
   "outputs": [
    {
     "name": "stdin",
     "output_type": "stream",
     "text": [
      "Enter your age -374\n"
     ]
    }
   ],
   "source": [
    "import logging as log\n",
    "log.basicConfig(filename = 'trytest.log', level = log.DEBUG, format = '%(asctime)s- %(levelname)s - %(message)s')\n",
    "try :\n",
    "    log.info(\"this is a start of my prog\")\n",
    "    log.info(\"Asking user to enter age\")\n",
    "    age = int(input(\"Enter your age\"))\n",
    "    log.info(\"User has entered the age = %d\",age)\n",
    "    if age < 0 :\n",
    "        log.info(\"I am checking the negetive condition\")\n",
    "        raise ValueError(\"User has entered a negetive age which is not valid\")\n",
    "    elif age < 18 :\n",
    "        log.info(\"I am trying to check the underage condition\")\n",
    "        raise Exception(\"User is underage\")\n",
    "    else :\n",
    "        log.info(\"valid user\")\n",
    "except Exception as e:\n",
    "    log.error(e)"
   ]
  },
  {
   "cell_type": "code",
   "execution_count": 1,
   "id": "46fd6b09-d5c9-4f45-b4b8-cf35f4c72141",
   "metadata": {},
   "outputs": [],
   "source": [
    "import logging as log\n",
    "log.basicConfig(filename = 'even_parse.log', level = log.DEBUG, format = '%(asctime)s- %(levelname)s - %(message)s')\n",
    "l = [4,5,6,7,8,9,0]\n",
    "log.info(l)\n",
    "l1 = []\n",
    "def even_parser(l) :\n",
    "    try :\n",
    "        log.info(\"Inside Try Block\")\n",
    "        for i in l :\n",
    "            log.info(\"Inside for loop i = %d\",i)\n",
    "            if i % 2 == 0 :\n",
    "                log.info(\"Checking the value of i \")\n",
    "                l1.append(i)\n",
    "                log.info(\"Appenidn the value i = %d\", i)\n",
    "        return l1 \n",
    "    except Exception as e :\n",
    "        log.info(e)"
   ]
  },
  {
   "cell_type": "code",
   "execution_count": 2,
   "id": "08ade01c-ba95-4004-9f60-a56406fcd4b6",
   "metadata": {},
   "outputs": [
    {
     "data": {
      "text/plain": [
       "[4, 6, 8, 0]"
      ]
     },
     "execution_count": 2,
     "metadata": {},
     "output_type": "execute_result"
    }
   ],
   "source": [
    "even_parser(l)"
   ]
  },
  {
   "cell_type": "code",
   "execution_count": null,
   "id": "38cea60b-03d1-4879-98a7-1c4eec1188b3",
   "metadata": {},
   "outputs": [],
   "source": []
  }
 ],
 "metadata": {
  "kernelspec": {
   "display_name": "Python 3 (ipykernel)",
   "language": "python",
   "name": "python3"
  },
  "language_info": {
   "codemirror_mode": {
    "name": "ipython",
    "version": 3
   },
   "file_extension": ".py",
   "mimetype": "text/x-python",
   "name": "python",
   "nbconvert_exporter": "python",
   "pygments_lexer": "ipython3",
   "version": "3.10.8"
  }
 },
 "nbformat": 4,
 "nbformat_minor": 5
}
