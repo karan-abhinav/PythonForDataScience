{
 "cells": [
  {
   "cell_type": "code",
   "execution_count": 1,
   "id": "9a9fb41f-09a9-4e73-8fc7-74aacb389097",
   "metadata": {},
   "outputs": [],
   "source": [
    "def test():\n",
    "    print(\"This is my first function\")"
   ]
  },
  {
   "cell_type": "code",
   "execution_count": 2,
   "id": "08d6cf30-7a89-40b6-b88c-bdafa16227ca",
   "metadata": {},
   "outputs": [
    {
     "name": "stdout",
     "output_type": "stream",
     "text": [
      "This is my first function\n"
     ]
    }
   ],
   "source": [
    "test()"
   ]
  },
  {
   "cell_type": "code",
   "execution_count": 3,
   "id": "574c2bc0-4b89-4c6b-a781-330b612e7d64",
   "metadata": {},
   "outputs": [
    {
     "name": "stdout",
     "output_type": "stream",
     "text": [
      "This is my first function\n"
     ]
    }
   ],
   "source": [
    "test()"
   ]
  },
  {
   "cell_type": "code",
   "execution_count": 7,
   "id": "df6a6acb-7b5d-4e30-af59-848d6be51e72",
   "metadata": {},
   "outputs": [],
   "source": [
    "def test1():\n",
    "    print(\"test\")"
   ]
  },
  {
   "cell_type": "code",
   "execution_count": 8,
   "id": "846a41a9-cea4-4ea7-860d-b276a3aff8aa",
   "metadata": {},
   "outputs": [
    {
     "name": "stdout",
     "output_type": "stream",
     "text": [
      "test\n"
     ]
    }
   ],
   "source": [
    "test1()"
   ]
  },
  {
   "cell_type": "code",
   "execution_count": 9,
   "id": "d22b4e1b-e98a-46b1-8136-97db63b82e1f",
   "metadata": {},
   "outputs": [
    {
     "name": "stdout",
     "output_type": "stream",
     "text": [
      "test\n"
     ]
    },
    {
     "ename": "TypeError",
     "evalue": "unsupported operand type(s) for +: 'NoneType' and 'str'",
     "output_type": "error",
     "traceback": [
      "\u001b[0;31m---------------------------------------------------------------------------\u001b[0m",
      "\u001b[0;31mTypeError\u001b[0m                                 Traceback (most recent call last)",
      "Cell \u001b[0;32mIn[9], line 1\u001b[0m\n\u001b[0;32m----> 1\u001b[0m \u001b[43mtest1\u001b[49m\u001b[43m(\u001b[49m\u001b[43m)\u001b[49m\u001b[38;5;241;43m+\u001b[39;49m\u001b[38;5;124;43m\"\u001b[39;49m\u001b[38;5;124;43mabhi\u001b[39;49m\u001b[38;5;124;43m\"\u001b[39;49m\n",
      "\u001b[0;31mTypeError\u001b[0m: unsupported operand type(s) for +: 'NoneType' and 'str'"
     ]
    }
   ],
   "source": [
    "test1()+\"abhi\""
   ]
  },
  {
   "cell_type": "code",
   "execution_count": 10,
   "id": "5dc6d8ba-a44c-4d56-b1e7-dbea2dd72c41",
   "metadata": {},
   "outputs": [
    {
     "name": "stdout",
     "output_type": "stream",
     "text": [
      "test\n"
     ]
    },
    {
     "data": {
      "text/plain": [
       "NoneType"
      ]
     },
     "execution_count": 10,
     "metadata": {},
     "output_type": "execute_result"
    }
   ],
   "source": [
    "type(test1())"
   ]
  },
  {
   "cell_type": "code",
   "execution_count": 11,
   "id": "12134483-0d3e-4aaf-a4a7-6d93232c9d91",
   "metadata": {},
   "outputs": [],
   "source": [
    "def test2():\n",
    "    print(1+2)"
   ]
  },
  {
   "cell_type": "code",
   "execution_count": 12,
   "id": "abf31987-5880-48d5-8119-92f3460ef293",
   "metadata": {},
   "outputs": [
    {
     "name": "stdout",
     "output_type": "stream",
     "text": [
      "3\n"
     ]
    }
   ],
   "source": [
    "test2()"
   ]
  },
  {
   "cell_type": "code",
   "execution_count": 13,
   "id": "a7efce8f-794c-4a9b-924a-b35652b082f6",
   "metadata": {},
   "outputs": [
    {
     "name": "stdout",
     "output_type": "stream",
     "text": [
      "3\n"
     ]
    },
    {
     "ename": "TypeError",
     "evalue": "unsupported operand type(s) for +: 'NoneType' and 'int'",
     "output_type": "error",
     "traceback": [
      "\u001b[0;31m---------------------------------------------------------------------------\u001b[0m",
      "\u001b[0;31mTypeError\u001b[0m                                 Traceback (most recent call last)",
      "Cell \u001b[0;32mIn[13], line 1\u001b[0m\n\u001b[0;32m----> 1\u001b[0m \u001b[43mtest2\u001b[49m\u001b[43m(\u001b[49m\u001b[43m)\u001b[49m\u001b[43m \u001b[49m\u001b[38;5;241;43m+\u001b[39;49m\u001b[43m \u001b[49m\u001b[38;5;241;43m10\u001b[39;49m\n",
      "\u001b[0;31mTypeError\u001b[0m: unsupported operand type(s) for +: 'NoneType' and 'int'"
     ]
    }
   ],
   "source": [
    "test2() + 10"
   ]
  },
  {
   "cell_type": "code",
   "execution_count": 14,
   "id": "bd964f8e-35c0-46f6-b6fc-7b587e6cb878",
   "metadata": {},
   "outputs": [],
   "source": [
    "def test3():\n",
    "    return 1+2"
   ]
  },
  {
   "cell_type": "code",
   "execution_count": 15,
   "id": "c38a83f2-e0d7-4496-af6c-a3d1ada878e2",
   "metadata": {},
   "outputs": [
    {
     "data": {
      "text/plain": [
       "3"
      ]
     },
     "execution_count": 15,
     "metadata": {},
     "output_type": "execute_result"
    }
   ],
   "source": [
    "test3()"
   ]
  },
  {
   "cell_type": "code",
   "execution_count": 16,
   "id": "69a108df-bf0b-4962-9c1d-35f0586cd8fc",
   "metadata": {},
   "outputs": [
    {
     "data": {
      "text/plain": [
       "13"
      ]
     },
     "execution_count": 16,
     "metadata": {},
     "output_type": "execute_result"
    }
   ],
   "source": [
    "test3() + 10"
   ]
  },
  {
   "cell_type": "code",
   "execution_count": 17,
   "id": "46f2d340-b2f9-46e9-996c-e1c1ade83251",
   "metadata": {},
   "outputs": [
    {
     "data": {
      "text/plain": [
       "int"
      ]
     },
     "execution_count": 17,
     "metadata": {},
     "output_type": "execute_result"
    }
   ],
   "source": [
    "type(test3())"
   ]
  },
  {
   "cell_type": "code",
   "execution_count": 18,
   "id": "6d150c70-599d-46cf-9d09-7b18df25a9e4",
   "metadata": {},
   "outputs": [],
   "source": [
    "def test4():\n",
    "    return 2,\"abhi\",True,[1,2,3,4,5]"
   ]
  },
  {
   "cell_type": "code",
   "execution_count": 19,
   "id": "01a5ae46-71d9-4695-98e2-454f4e69737d",
   "metadata": {},
   "outputs": [
    {
     "data": {
      "text/plain": [
       "(2, 'abhi', True, [1, 2, 3, 4, 5])"
      ]
     },
     "execution_count": 19,
     "metadata": {},
     "output_type": "execute_result"
    }
   ],
   "source": [
    "test4()"
   ]
  },
  {
   "cell_type": "code",
   "execution_count": 20,
   "id": "73c21eb4-9716-4ea5-8562-4f41585eac15",
   "metadata": {},
   "outputs": [
    {
     "data": {
      "text/plain": [
       "tuple"
      ]
     },
     "execution_count": 20,
     "metadata": {},
     "output_type": "execute_result"
    }
   ],
   "source": [
    "type(test4())"
   ]
  },
  {
   "cell_type": "code",
   "execution_count": 21,
   "id": "8685b979-00e7-4116-ba61-2ddd3c8eec08",
   "metadata": {},
   "outputs": [],
   "source": [
    "m,n,o,p = test4()"
   ]
  },
  {
   "cell_type": "code",
   "execution_count": 22,
   "id": "caeb5044-5fb6-44b9-ae9c-f224f5106570",
   "metadata": {},
   "outputs": [
    {
     "data": {
      "text/plain": [
       "2"
      ]
     },
     "execution_count": 22,
     "metadata": {},
     "output_type": "execute_result"
    }
   ],
   "source": [
    "m"
   ]
  },
  {
   "cell_type": "code",
   "execution_count": 23,
   "id": "eb4c3694-374e-4467-8ff7-7c27733d8442",
   "metadata": {},
   "outputs": [
    {
     "data": {
      "text/plain": [
       "'abhi'"
      ]
     },
     "execution_count": 23,
     "metadata": {},
     "output_type": "execute_result"
    }
   ],
   "source": [
    "n"
   ]
  },
  {
   "cell_type": "code",
   "execution_count": 24,
   "id": "5bcb74a8-81cc-459f-9a31-ad55afa69990",
   "metadata": {},
   "outputs": [
    {
     "data": {
      "text/plain": [
       "True"
      ]
     },
     "execution_count": 24,
     "metadata": {},
     "output_type": "execute_result"
    }
   ],
   "source": [
    "o"
   ]
  },
  {
   "cell_type": "code",
   "execution_count": 25,
   "id": "42f8f737-24bd-4ac7-9996-8ac8b3465ec3",
   "metadata": {},
   "outputs": [
    {
     "data": {
      "text/plain": [
       "[1, 2, 3, 4, 5]"
      ]
     },
     "execution_count": 25,
     "metadata": {},
     "output_type": "execute_result"
    }
   ],
   "source": [
    "p"
   ]
  },
  {
   "cell_type": "code",
   "execution_count": 26,
   "id": "13b5dc3f-bafa-47a9-aa6b-222e36c79b0c",
   "metadata": {},
   "outputs": [],
   "source": [
    "def test5(x):\n",
    "    return x\n",
    "    "
   ]
  },
  {
   "cell_type": "code",
   "execution_count": 27,
   "id": "4b922279-7298-4514-8d9b-522ccd866d25",
   "metadata": {},
   "outputs": [
    {
     "data": {
      "text/plain": [
       "5"
      ]
     },
     "execution_count": 27,
     "metadata": {},
     "output_type": "execute_result"
    }
   ],
   "source": [
    "test5(5)"
   ]
  },
  {
   "cell_type": "code",
   "execution_count": 29,
   "id": "4fb246a0-0933-4e4c-892e-f4877f692e3b",
   "metadata": {},
   "outputs": [
    {
     "data": {
      "text/plain": [
       "'Abhi'"
      ]
     },
     "execution_count": 29,
     "metadata": {},
     "output_type": "execute_result"
    }
   ],
   "source": [
    "test5(\"Abhi\")"
   ]
  },
  {
   "cell_type": "code",
   "execution_count": 31,
   "id": "65977bad-0bbf-485d-a97d-339491612a88",
   "metadata": {},
   "outputs": [
    {
     "data": {
      "text/plain": [
       "[2, 3, 4, 5]"
      ]
     },
     "execution_count": 31,
     "metadata": {},
     "output_type": "execute_result"
    }
   ],
   "source": [
    "test5([2,3,4,5])"
   ]
  },
  {
   "cell_type": "code",
   "execution_count": 32,
   "id": "fb49b0d9-3eff-4347-a102-577a08e2a554",
   "metadata": {},
   "outputs": [
    {
     "ename": "TypeError",
     "evalue": "test5() takes 1 positional argument but 2 were given",
     "output_type": "error",
     "traceback": [
      "\u001b[0;31m---------------------------------------------------------------------------\u001b[0m",
      "\u001b[0;31mTypeError\u001b[0m                                 Traceback (most recent call last)",
      "Cell \u001b[0;32mIn[32], line 1\u001b[0m\n\u001b[0;32m----> 1\u001b[0m \u001b[43mtest5\u001b[49m\u001b[43m(\u001b[49m\u001b[38;5;241;43m4\u001b[39;49m\u001b[43m,\u001b[49m\u001b[38;5;241;43m5\u001b[39;49m\u001b[43m)\u001b[49m\n",
      "\u001b[0;31mTypeError\u001b[0m: test5() takes 1 positional argument but 2 were given"
     ]
    }
   ],
   "source": [
    "test5(4,5)"
   ]
  },
  {
   "cell_type": "code",
   "execution_count": 33,
   "id": "c038d015-3fb6-4b4e-a919-4f0c91cd62d9",
   "metadata": {},
   "outputs": [
    {
     "ename": "TypeError",
     "evalue": "test5() missing 1 required positional argument: 'x'",
     "output_type": "error",
     "traceback": [
      "\u001b[0;31m---------------------------------------------------------------------------\u001b[0m",
      "\u001b[0;31mTypeError\u001b[0m                                 Traceback (most recent call last)",
      "Cell \u001b[0;32mIn[33], line 1\u001b[0m\n\u001b[0;32m----> 1\u001b[0m \u001b[43mtest5\u001b[49m\u001b[43m(\u001b[49m\u001b[43m)\u001b[49m\n",
      "\u001b[0;31mTypeError\u001b[0m: test5() missing 1 required positional argument: 'x'"
     ]
    }
   ],
   "source": [
    "test5()"
   ]
  },
  {
   "cell_type": "code",
   "execution_count": 34,
   "id": "e8df8101-3567-4d85-8f29-620da479ce1c",
   "metadata": {},
   "outputs": [],
   "source": [
    "def test6(x,y):\n",
    "    return x,y"
   ]
  },
  {
   "cell_type": "code",
   "execution_count": 35,
   "id": "d3d5da1a-d492-4b8d-9967-776d05b40618",
   "metadata": {},
   "outputs": [
    {
     "data": {
      "text/plain": [
       "('sudh', [1, 2, 3, 4])"
      ]
     },
     "execution_count": 35,
     "metadata": {},
     "output_type": "execute_result"
    }
   ],
   "source": [
    "test6(\"sudh\",[1,2,3,4])"
   ]
  },
  {
   "cell_type": "code",
   "execution_count": 36,
   "id": "00565dde-6014-4614-abd0-f2f142347b78",
   "metadata": {},
   "outputs": [],
   "source": [
    "def test7(a:int , b:int):\n",
    "    return a,b"
   ]
  },
  {
   "cell_type": "code",
   "execution_count": 37,
   "id": "054ece9f-ac4c-4d2a-aa02-8d30dad01be9",
   "metadata": {},
   "outputs": [
    {
     "data": {
      "text/plain": [
       "(4, 5)"
      ]
     },
     "execution_count": 37,
     "metadata": {},
     "output_type": "execute_result"
    }
   ],
   "source": [
    "test7(4,5)"
   ]
  },
  {
   "cell_type": "code",
   "execution_count": 38,
   "id": "4afe3e74-4444-43ec-87f1-4191abf3c586",
   "metadata": {},
   "outputs": [
    {
     "data": {
      "text/plain": [
       "('sudh', [4, 5, 6, 7])"
      ]
     },
     "execution_count": 38,
     "metadata": {},
     "output_type": "execute_result"
    }
   ],
   "source": [
    "test7(\"sudh\", [4,5,6,7])"
   ]
  },
  {
   "cell_type": "code",
   "execution_count": 39,
   "id": "3aa3b1da-bdae-405f-9aae-9ee24a9f855c",
   "metadata": {},
   "outputs": [],
   "source": [
    "def test8(x:int,y:int):\n",
    "    return x/y"
   ]
  },
  {
   "cell_type": "code",
   "execution_count": 40,
   "id": "23c64779-9cbd-4e63-ad4e-7ba57cfba72f",
   "metadata": {},
   "outputs": [
    {
     "data": {
      "text/plain": [
       "0.8"
      ]
     },
     "execution_count": 40,
     "metadata": {},
     "output_type": "execute_result"
    }
   ],
   "source": [
    "test8(4,5)"
   ]
  },
  {
   "cell_type": "code",
   "execution_count": 41,
   "id": "92c61338-82fe-4af7-b42c-f94fbdb1a9ac",
   "metadata": {},
   "outputs": [
    {
     "ename": "TypeError",
     "evalue": "unsupported operand type(s) for /: 'str' and 'str'",
     "output_type": "error",
     "traceback": [
      "\u001b[0;31m---------------------------------------------------------------------------\u001b[0m",
      "\u001b[0;31mTypeError\u001b[0m                                 Traceback (most recent call last)",
      "Cell \u001b[0;32mIn[41], line 1\u001b[0m\n\u001b[0;32m----> 1\u001b[0m \u001b[43mtest8\u001b[49m\u001b[43m(\u001b[49m\u001b[38;5;124;43m\"\u001b[39;49m\u001b[38;5;124;43mabhi\u001b[39;49m\u001b[38;5;124;43m\"\u001b[39;49m\u001b[43m,\u001b[49m\u001b[38;5;124;43m\"\u001b[39;49m\u001b[38;5;124;43mkaran\u001b[39;49m\u001b[38;5;124;43m\"\u001b[39;49m\u001b[43m)\u001b[49m\n",
      "Cell \u001b[0;32mIn[39], line 2\u001b[0m, in \u001b[0;36mtest8\u001b[0;34m(x, y)\u001b[0m\n\u001b[1;32m      1\u001b[0m \u001b[38;5;28;01mdef\u001b[39;00m \u001b[38;5;21mtest8\u001b[39m(x:\u001b[38;5;28mint\u001b[39m,y:\u001b[38;5;28mint\u001b[39m):\n\u001b[0;32m----> 2\u001b[0m     \u001b[38;5;28;01mreturn\u001b[39;00m \u001b[43mx\u001b[49m\u001b[38;5;241;43m/\u001b[39;49m\u001b[43my\u001b[49m\n",
      "\u001b[0;31mTypeError\u001b[0m: unsupported operand type(s) for /: 'str' and 'str'"
     ]
    }
   ],
   "source": [
    "test8(\"abhi\",\"karan\")"
   ]
  },
  {
   "cell_type": "code",
   "execution_count": 44,
   "id": "a2c54f84-621c-4a64-acea-80daeb7d6fb4",
   "metadata": {},
   "outputs": [],
   "source": [
    "def test9(c,d):\n",
    "    \"\"\" \n",
    "        This is my function that can take 2 inputs \n",
    "        and returns a addition or concatenation\n",
    "    \"\"\"\n",
    "    return c+d"
   ]
  },
  {
   "cell_type": "code",
   "execution_count": 45,
   "id": "b0679e81-a3b2-48e7-b05c-979422adf42f",
   "metadata": {},
   "outputs": [
    {
     "data": {
      "text/plain": [
       "9"
      ]
     },
     "execution_count": 45,
     "metadata": {},
     "output_type": "execute_result"
    }
   ],
   "source": [
    "test9(4,5)"
   ]
  },
  {
   "cell_type": "code",
   "execution_count": 46,
   "id": "3f8ac697-1966-4dd9-809d-e8c1f709465c",
   "metadata": {},
   "outputs": [
    {
     "ename": "TypeError",
     "evalue": "test9() takes 2 positional arguments but 3 were given",
     "output_type": "error",
     "traceback": [
      "\u001b[0;31m---------------------------------------------------------------------------\u001b[0m",
      "\u001b[0;31mTypeError\u001b[0m                                 Traceback (most recent call last)",
      "Cell \u001b[0;32mIn[46], line 1\u001b[0m\n\u001b[0;32m----> 1\u001b[0m \u001b[43mtest9\u001b[49m\u001b[43m(\u001b[49m\u001b[38;5;241;43m4\u001b[39;49m\u001b[43m,\u001b[49m\u001b[38;5;241;43m5\u001b[39;49m\u001b[43m,\u001b[49m\u001b[38;5;241;43m6\u001b[39;49m\u001b[43m)\u001b[49m\n",
      "\u001b[0;31mTypeError\u001b[0m: test9() takes 2 positional arguments but 3 were given"
     ]
    }
   ],
   "source": [
    "test9(4,5,6)"
   ]
  },
  {
   "cell_type": "code",
   "execution_count": 47,
   "id": "3748d797-8613-43dc-a34a-9e043b6a5673",
   "metadata": {},
   "outputs": [],
   "source": [
    "def test10(*args):\n",
    "    return args"
   ]
  },
  {
   "cell_type": "code",
   "execution_count": 48,
   "id": "ac4658ce-8513-4e40-93f6-b4b60ff4bf90",
   "metadata": {},
   "outputs": [
    {
     "data": {
      "text/plain": [
       "()"
      ]
     },
     "execution_count": 48,
     "metadata": {},
     "output_type": "execute_result"
    }
   ],
   "source": [
    "test10()"
   ]
  },
  {
   "cell_type": "code",
   "execution_count": 49,
   "id": "46041ac6-a5a8-402b-86e6-d89f079859e5",
   "metadata": {},
   "outputs": [
    {
     "data": {
      "text/plain": [
       "(2, 3, 4, 5, 6, 6)"
      ]
     },
     "execution_count": 49,
     "metadata": {},
     "output_type": "execute_result"
    }
   ],
   "source": [
    "test10(2,3,4,5,6,6)"
   ]
  },
  {
   "cell_type": "code",
   "execution_count": 51,
   "id": "ffb55d99-2a78-459d-a52c-9dcaee7a8e15",
   "metadata": {},
   "outputs": [],
   "source": [
    "def test11(*abhi):\n",
    "    return abhi"
   ]
  },
  {
   "cell_type": "code",
   "execution_count": 52,
   "id": "6613178d-c41d-4777-9194-d5db5e1b824f",
   "metadata": {},
   "outputs": [
    {
     "data": {
      "text/plain": [
       "(1, 2, 3, 4)"
      ]
     },
     "execution_count": 52,
     "metadata": {},
     "output_type": "execute_result"
    }
   ],
   "source": [
    "test11(1,2,3,4)"
   ]
  },
  {
   "cell_type": "code",
   "execution_count": 53,
   "id": "005401d3-5b10-46f1-bbad-c04300bf37f3",
   "metadata": {},
   "outputs": [],
   "source": [
    "def test12(**kwargs):\n",
    "    return kwargs"
   ]
  },
  {
   "cell_type": "code",
   "execution_count": 54,
   "id": "02a4fe0f-d4aa-4a97-b117-935ef427d131",
   "metadata": {},
   "outputs": [
    {
     "ename": "TypeError",
     "evalue": "test12() takes 0 positional arguments but 3 were given",
     "output_type": "error",
     "traceback": [
      "\u001b[0;31m---------------------------------------------------------------------------\u001b[0m",
      "\u001b[0;31mTypeError\u001b[0m                                 Traceback (most recent call last)",
      "Cell \u001b[0;32mIn[54], line 1\u001b[0m\n\u001b[0;32m----> 1\u001b[0m \u001b[43mtest12\u001b[49m\u001b[43m(\u001b[49m\u001b[38;5;241;43m4\u001b[39;49m\u001b[43m,\u001b[49m\u001b[38;5;241;43m5\u001b[39;49m\u001b[43m,\u001b[49m\u001b[38;5;241;43m6\u001b[39;49m\u001b[43m)\u001b[49m\n",
      "\u001b[0;31mTypeError\u001b[0m: test12() takes 0 positional arguments but 3 were given"
     ]
    }
   ],
   "source": [
    "test12(4,5,6)"
   ]
  },
  {
   "cell_type": "code",
   "execution_count": 55,
   "id": "ccd084e0-203b-492e-a94b-96fffd1907f3",
   "metadata": {},
   "outputs": [
    {
     "data": {
      "text/plain": [
       "{'a': 4, 'b': 5, 'c': 6}"
      ]
     },
     "execution_count": 55,
     "metadata": {},
     "output_type": "execute_result"
    }
   ],
   "source": [
    "test12(a = 4,b = 5,c = 6)"
   ]
  },
  {
   "cell_type": "code",
   "execution_count": 56,
   "id": "080f3217-b416-410f-868b-5c693cccedb6",
   "metadata": {},
   "outputs": [
    {
     "data": {
      "text/plain": [
       "{'n': {'a': 4, 'b': 5, 'c': 6}}"
      ]
     },
     "execution_count": 56,
     "metadata": {},
     "output_type": "execute_result"
    }
   ],
   "source": [
    "test12(n = {'a': 4, 'b': 5, 'c': 6})"
   ]
  },
  {
   "cell_type": "code",
   "execution_count": 57,
   "id": "d9c89a0e-e834-496a-9f6c-308031a1ca7a",
   "metadata": {},
   "outputs": [],
   "source": [
    "def test13(b, a = 10, c = 20):\n",
    "    return a,b,c"
   ]
  },
  {
   "cell_type": "code",
   "execution_count": 58,
   "id": "a8858f37-f413-4906-b887-69617b558160",
   "metadata": {},
   "outputs": [
    {
     "data": {
      "text/plain": [
       "(10, 56, 20)"
      ]
     },
     "execution_count": 58,
     "metadata": {},
     "output_type": "execute_result"
    }
   ],
   "source": [
    "test13(56)"
   ]
  },
  {
   "cell_type": "code",
   "execution_count": 59,
   "id": "8fc22d81-9090-4f2a-b17f-7c176a64e793",
   "metadata": {},
   "outputs": [
    {
     "data": {
      "text/plain": [
       "(45, 34, 20)"
      ]
     },
     "execution_count": 59,
     "metadata": {},
     "output_type": "execute_result"
    }
   ],
   "source": [
    "test13(34,a = 45)"
   ]
  },
  {
   "cell_type": "code",
   "execution_count": 61,
   "id": "5cc6c5f6-0ab1-484e-9d42-ebacec95932f",
   "metadata": {},
   "outputs": [],
   "source": [
    "v = test13(3,5,67)"
   ]
  },
  {
   "cell_type": "code",
   "execution_count": 62,
   "id": "85ff504a-e136-483a-95ff-ef199d01034c",
   "metadata": {},
   "outputs": [
    {
     "data": {
      "text/plain": [
       "(5, 3, 67)"
      ]
     },
     "execution_count": 62,
     "metadata": {},
     "output_type": "execute_result"
    }
   ],
   "source": [
    "v"
   ]
  },
  {
   "cell_type": "code",
   "execution_count": 63,
   "id": "46127e44-8788-4c51-88c4-1795759b4104",
   "metadata": {},
   "outputs": [],
   "source": [
    "def test14(a,b):\n",
    "    return a+b"
   ]
  },
  {
   "cell_type": "code",
   "execution_count": 64,
   "id": "49e7a0ee-ef93-4f0a-9032-0e6a923ebb5e",
   "metadata": {},
   "outputs": [
    {
     "data": {
      "text/plain": [
       "9"
      ]
     },
     "execution_count": 64,
     "metadata": {},
     "output_type": "execute_result"
    }
   ],
   "source": [
    "test14(4,5)"
   ]
  },
  {
   "cell_type": "code",
   "execution_count": 65,
   "id": "e8e17cbb-2241-49db-98ea-b2682601c23e",
   "metadata": {},
   "outputs": [],
   "source": [
    "m = lambda a,b : a+b"
   ]
  },
  {
   "cell_type": "code",
   "execution_count": 66,
   "id": "ea5ad8df-58ba-48dd-82ed-f1291cc05c3d",
   "metadata": {},
   "outputs": [
    {
     "data": {
      "text/plain": [
       "<function __main__.<lambda>(a, b)>"
      ]
     },
     "execution_count": 66,
     "metadata": {},
     "output_type": "execute_result"
    }
   ],
   "source": [
    "m"
   ]
  },
  {
   "cell_type": "code",
   "execution_count": 67,
   "id": "78498d97-ccf1-499b-9a7e-8a39fc4476d4",
   "metadata": {},
   "outputs": [
    {
     "data": {
      "text/plain": [
       "<function __main__.test14(a, b)>"
      ]
     },
     "execution_count": 67,
     "metadata": {},
     "output_type": "execute_result"
    }
   ],
   "source": [
    "test14"
   ]
  },
  {
   "cell_type": "code",
   "execution_count": 68,
   "id": "059cc11e-a5f2-4057-928d-6ee2ef38aa29",
   "metadata": {},
   "outputs": [
    {
     "data": {
      "text/plain": [
       "9"
      ]
     },
     "execution_count": 68,
     "metadata": {},
     "output_type": "execute_result"
    }
   ],
   "source": [
    "m(4,5)"
   ]
  },
  {
   "cell_type": "code",
   "execution_count": 71,
   "id": "8ccdfe5f-948f-4251-ab23-7e63453b74aa",
   "metadata": {},
   "outputs": [],
   "source": [
    "def check_even(n):\n",
    "    if n%2 == 0:\n",
    "        return \"given number is an even number\"\n",
    "    else:\n",
    "        return \"given number is not an even number\""
   ]
  },
  {
   "cell_type": "code",
   "execution_count": 72,
   "id": "8f991bd7-f2f9-4fa9-bc0a-4a2dd2ec9e7e",
   "metadata": {},
   "outputs": [
    {
     "data": {
      "text/plain": [
       "'given number is not an even number'"
      ]
     },
     "execution_count": 72,
     "metadata": {},
     "output_type": "execute_result"
    }
   ],
   "source": [
    "check_even(3)"
   ]
  },
  {
   "cell_type": "code",
   "execution_count": 73,
   "id": "2fce8572-54e1-4f26-b2d1-ed710780ae8a",
   "metadata": {},
   "outputs": [],
   "source": [
    "b = lambda n : \"given number is an even number\" if n%2==0 else \"given number is not an even number\""
   ]
  },
  {
   "cell_type": "code",
   "execution_count": 74,
   "id": "21128794-f0f0-41b4-8f6a-7f9ef305a591",
   "metadata": {},
   "outputs": [
    {
     "data": {
      "text/plain": [
       "'given number is an even number'"
      ]
     },
     "execution_count": 74,
     "metadata": {},
     "output_type": "execute_result"
    }
   ],
   "source": [
    "b(4)"
   ]
  },
  {
   "cell_type": "code",
   "execution_count": 75,
   "id": "8113f530-d2b0-4378-85fc-e3ed928675ee",
   "metadata": {},
   "outputs": [
    {
     "data": {
      "text/plain": [
       "'given number is not an even number'"
      ]
     },
     "execution_count": 75,
     "metadata": {},
     "output_type": "execute_result"
    }
   ],
   "source": [
    "b(3)"
   ]
  },
  {
   "cell_type": "code",
   "execution_count": 76,
   "id": "645710c0-f057-4f6f-8b1e-c08bace96f39",
   "metadata": {},
   "outputs": [],
   "source": [
    "l = [3,4,5,76,3,4,5,6]\n",
    "min_list = lambda li : min(li)"
   ]
  },
  {
   "cell_type": "code",
   "execution_count": 77,
   "id": "8368b2e1-1e6f-4f32-bcdc-386522bbdb7c",
   "metadata": {},
   "outputs": [
    {
     "data": {
      "text/plain": [
       "3"
      ]
     },
     "execution_count": 77,
     "metadata": {},
     "output_type": "execute_result"
    }
   ],
   "source": [
    "min_list(l)"
   ]
  },
  {
   "cell_type": "code",
   "execution_count": 78,
   "id": "d5c02b29-1618-45e6-afdb-b204e197aec5",
   "metadata": {},
   "outputs": [],
   "source": [
    "div = lambda a,b: a/b"
   ]
  },
  {
   "cell_type": "code",
   "execution_count": 79,
   "id": "89d565b0-5273-47e6-abfe-9b592f1403f4",
   "metadata": {},
   "outputs": [
    {
     "data": {
      "text/plain": [
       "0.8333333333333334"
      ]
     },
     "execution_count": 79,
     "metadata": {},
     "output_type": "execute_result"
    }
   ],
   "source": [
    "div(5,6)"
   ]
  },
  {
   "cell_type": "code",
   "execution_count": 80,
   "id": "c420d999-76ae-4fa2-bf39-b096de50b277",
   "metadata": {},
   "outputs": [],
   "source": [
    "upper = lambda s : s.upper()"
   ]
  },
  {
   "cell_type": "code",
   "execution_count": 81,
   "id": "988fae50-05f8-428f-942c-8aa31f58669a",
   "metadata": {},
   "outputs": [
    {
     "data": {
      "text/plain": [
       "'ABHI'"
      ]
     },
     "execution_count": 81,
     "metadata": {},
     "output_type": "execute_result"
    }
   ],
   "source": [
    "upper(\"abhi\")"
   ]
  },
  {
   "cell_type": "code",
   "execution_count": 84,
   "id": "85df4a57-df8b-477e-bdc4-46de1c12be9c",
   "metadata": {},
   "outputs": [],
   "source": [
    "l = [3,4,5,6,7,8,9,10,11,13,12]\n",
    "\n",
    "def sum_odd(b):\n",
    "    l1 = []\n",
    "    for i in b:\n",
    "        if i%2 != 0:\n",
    "            l1.append(i)\n",
    "    return sum(l1)"
   ]
  },
  {
   "cell_type": "code",
   "execution_count": 85,
   "id": "9f0d5da7-98a3-4d0d-827c-833c23df8c91",
   "metadata": {},
   "outputs": [
    {
     "data": {
      "text/plain": [
       "48"
      ]
     },
     "execution_count": 85,
     "metadata": {},
     "output_type": "execute_result"
    }
   ],
   "source": [
    "sum_odd(l)"
   ]
  },
  {
   "cell_type": "code",
   "execution_count": 86,
   "id": "b91a9fd1-15ed-463e-a1bb-e25d5eee6572",
   "metadata": {},
   "outputs": [
    {
     "data": {
      "text/plain": [
       "[3, 5, 7, 9, 11, 13]"
      ]
     },
     "execution_count": 86,
     "metadata": {},
     "output_type": "execute_result"
    }
   ],
   "source": [
    "[i for i in l if i%2 != 0]"
   ]
  },
  {
   "cell_type": "code",
   "execution_count": 87,
   "id": "86237f22-1cd1-4ad7-a94d-750ed5beb33d",
   "metadata": {},
   "outputs": [
    {
     "data": {
      "text/plain": [
       "48"
      ]
     },
     "execution_count": 87,
     "metadata": {},
     "output_type": "execute_result"
    }
   ],
   "source": [
    "sum([i for i in l if i%2 != 0])"
   ]
  },
  {
   "cell_type": "code",
   "execution_count": 89,
   "id": "4a63c395-58d9-4744-aacc-bc595d5f66ae",
   "metadata": {},
   "outputs": [],
   "source": [
    "sum_odd_lamda = lambda b : sum([i for i in b if i%2 != 0])"
   ]
  },
  {
   "cell_type": "code",
   "execution_count": 90,
   "id": "d05ae7a7-1b89-4cd2-9435-8d335774f513",
   "metadata": {},
   "outputs": [
    {
     "data": {
      "text/plain": [
       "48"
      ]
     },
     "execution_count": 90,
     "metadata": {},
     "output_type": "execute_result"
    }
   ],
   "source": [
    "sum_odd_lamda(l)"
   ]
  },
  {
   "cell_type": "code",
   "execution_count": 91,
   "id": "9163a2ca-d61b-476f-ba7c-19a233a1fba9",
   "metadata": {},
   "outputs": [],
   "source": [
    "def fact_number(n):\n",
    "    if n == 0:\n",
    "        return 1\n",
    "    else:\n",
    "        return n*fact_number(n-1)"
   ]
  },
  {
   "cell_type": "code",
   "execution_count": 92,
   "id": "d0755191-c21c-48d3-bf96-040a36b789d4",
   "metadata": {},
   "outputs": [
    {
     "data": {
      "text/plain": [
       "24"
      ]
     },
     "execution_count": 92,
     "metadata": {},
     "output_type": "execute_result"
    }
   ],
   "source": [
    "fact_number(4)"
   ]
  },
  {
   "cell_type": "code",
   "execution_count": 93,
   "id": "3d85ab3a-0b7a-4af6-8054-9fba941126b8",
   "metadata": {},
   "outputs": [
    {
     "data": {
      "text/plain": [
       "1"
      ]
     },
     "execution_count": 93,
     "metadata": {},
     "output_type": "execute_result"
    }
   ],
   "source": [
    "fact_number(0)"
   ]
  },
  {
   "cell_type": "code",
   "execution_count": 94,
   "id": "de5c2f39-8591-47cb-8f4c-beb671366b81",
   "metadata": {},
   "outputs": [
    {
     "data": {
      "text/plain": [
       "120"
      ]
     },
     "execution_count": 94,
     "metadata": {},
     "output_type": "execute_result"
    }
   ],
   "source": [
    "fact_number(5)"
   ]
  },
  {
   "cell_type": "code",
   "execution_count": 101,
   "id": "2be979e3-e5e7-4bad-a23c-7ee24da65724",
   "metadata": {},
   "outputs": [],
   "source": [
    "def fact_num(n):\n",
    "    a = 1\n",
    "    for i in range(1,n+1):\n",
    "        a = i * a\n",
    "    return a"
   ]
  },
  {
   "cell_type": "code",
   "execution_count": 102,
   "id": "3b3cd7e8-cf9b-4079-aa3a-9f7321cf9cab",
   "metadata": {},
   "outputs": [
    {
     "data": {
      "text/plain": [
       "24"
      ]
     },
     "execution_count": 102,
     "metadata": {},
     "output_type": "execute_result"
    }
   ],
   "source": [
    "fact_num(4)"
   ]
  },
  {
   "cell_type": "code",
   "execution_count": 103,
   "id": "45ce5c97-9404-403f-83e0-6f760b8172e9",
   "metadata": {},
   "outputs": [],
   "source": [
    "fact_num_lambda = lambda n : 1 if n == 0 else n * fact_num_lambda(n-1)"
   ]
  },
  {
   "cell_type": "code",
   "execution_count": 104,
   "id": "472a05d3-127a-4e87-aadf-b86f8980cfbd",
   "metadata": {},
   "outputs": [
    {
     "data": {
      "text/plain": [
       "24"
      ]
     },
     "execution_count": 104,
     "metadata": {},
     "output_type": "execute_result"
    }
   ],
   "source": [
    "fact_num_lambda(4)"
   ]
  },
  {
   "cell_type": "code",
   "execution_count": 105,
   "id": "ce391e57-7c72-42e5-9e29-bded2c5f8798",
   "metadata": {},
   "outputs": [],
   "source": [
    "l = [5,6,7,8,89]\n",
    "\n",
    "l1 = []\n",
    "for i in l:\n",
    "    l1.append(i+2)"
   ]
  },
  {
   "cell_type": "code",
   "execution_count": 106,
   "id": "cd39f89d-760d-4008-a0f8-2c0ec4c20b91",
   "metadata": {},
   "outputs": [
    {
     "data": {
      "text/plain": [
       "[7, 8, 9, 10, 91]"
      ]
     },
     "execution_count": 106,
     "metadata": {},
     "output_type": "execute_result"
    }
   ],
   "source": [
    "l1"
   ]
  },
  {
   "cell_type": "code",
   "execution_count": 107,
   "id": "16d8fe3e-a222-401c-996f-3e8fc9fa1e36",
   "metadata": {},
   "outputs": [],
   "source": [
    "def add_list(l):\n",
    "    l1 = []\n",
    "    for i in l:\n",
    "        l1.append(i+2)\n",
    "    return l1"
   ]
  },
  {
   "cell_type": "code",
   "execution_count": 108,
   "id": "47d948f5-c6e2-4852-844f-fe4b5e79e4fc",
   "metadata": {},
   "outputs": [
    {
     "data": {
      "text/plain": [
       "[7, 8, 9, 10, 91]"
      ]
     },
     "execution_count": 108,
     "metadata": {},
     "output_type": "execute_result"
    }
   ],
   "source": [
    "add_list(l)"
   ]
  },
  {
   "cell_type": "code",
   "execution_count": 109,
   "id": "e34cf6b9-c7aa-4336-8cc9-ce4fa4fd3d95",
   "metadata": {},
   "outputs": [],
   "source": [
    "v = lambda a : a+2"
   ]
  },
  {
   "cell_type": "code",
   "execution_count": 110,
   "id": "ea151825-5f2c-478e-84c4-c661f6dbc7bb",
   "metadata": {},
   "outputs": [
    {
     "data": {
      "text/plain": [
       "12"
      ]
     },
     "execution_count": 110,
     "metadata": {},
     "output_type": "execute_result"
    }
   ],
   "source": [
    "v(10)"
   ]
  },
  {
   "cell_type": "code",
   "execution_count": 111,
   "id": "1c7cdb9f-ecf9-4670-a7de-098bdd4fa263",
   "metadata": {},
   "outputs": [
    {
     "data": {
      "text/plain": [
       "<map at 0x7f7bd06fd0c0>"
      ]
     },
     "execution_count": 111,
     "metadata": {},
     "output_type": "execute_result"
    }
   ],
   "source": [
    "map(lambda a : a+2,l)"
   ]
  },
  {
   "cell_type": "code",
   "execution_count": 112,
   "id": "ec9d1f44-d310-4a5a-a81d-c1a38fd35e3c",
   "metadata": {},
   "outputs": [
    {
     "data": {
      "text/plain": [
       "[7, 8, 9, 10, 91]"
      ]
     },
     "execution_count": 112,
     "metadata": {},
     "output_type": "execute_result"
    }
   ],
   "source": [
    "list(map(lambda a : a+2,l))"
   ]
  },
  {
   "cell_type": "code",
   "execution_count": 114,
   "id": "ccc38008-c73c-42bd-9f98-39e5853b191d",
   "metadata": {},
   "outputs": [],
   "source": [
    "def test34(c):\n",
    "    return c+2"
   ]
  },
  {
   "cell_type": "code",
   "execution_count": 115,
   "id": "e8df3157-431b-4da3-936a-309ec7de100e",
   "metadata": {},
   "outputs": [
    {
     "data": {
      "text/plain": [
       "[7, 8, 9, 10, 91]"
      ]
     },
     "execution_count": 115,
     "metadata": {},
     "output_type": "execute_result"
    }
   ],
   "source": [
    "list(map(test34,l))"
   ]
  },
  {
   "cell_type": "code",
   "execution_count": 116,
   "id": "4edb5f6f-c393-486e-b164-b80c481661d4",
   "metadata": {},
   "outputs": [],
   "source": [
    "l = [\"abhi\", \"karan\", \"pwskills\"]"
   ]
  },
  {
   "cell_type": "code",
   "execution_count": 117,
   "id": "47b50152-effa-4a53-ac36-f76d269fa545",
   "metadata": {},
   "outputs": [
    {
     "data": {
      "text/plain": [
       "4"
      ]
     },
     "execution_count": 117,
     "metadata": {},
     "output_type": "execute_result"
    }
   ],
   "source": [
    "len(\"abhi\")"
   ]
  },
  {
   "cell_type": "code",
   "execution_count": 119,
   "id": "ab57dbac-d75b-4a4f-9ce7-c2ebc19ceb01",
   "metadata": {},
   "outputs": [],
   "source": [
    "l1 = []\n",
    "for i in l:\n",
    "    l1.append(len(i))"
   ]
  },
  {
   "cell_type": "code",
   "execution_count": 120,
   "id": "032fb8a3-2b18-45c8-a5d6-70c408b09b96",
   "metadata": {},
   "outputs": [
    {
     "data": {
      "text/plain": [
       "[4, 5, 8]"
      ]
     },
     "execution_count": 120,
     "metadata": {},
     "output_type": "execute_result"
    }
   ],
   "source": [
    "l1"
   ]
  },
  {
   "cell_type": "code",
   "execution_count": 123,
   "id": "affa17e6-0d46-4eb6-a184-9efaab238866",
   "metadata": {},
   "outputs": [],
   "source": [
    "def test35(l):\n",
    "    l1 = []\n",
    "    for i in l:\n",
    "        l1.append(len(i))\n",
    "    return l1"
   ]
  },
  {
   "cell_type": "code",
   "execution_count": 124,
   "id": "7848f7aa-fef0-438e-9e07-0a3753a6f831",
   "metadata": {},
   "outputs": [
    {
     "data": {
      "text/plain": [
       "[4, 5, 8]"
      ]
     },
     "execution_count": 124,
     "metadata": {},
     "output_type": "execute_result"
    }
   ],
   "source": [
    "test35(l)"
   ]
  },
  {
   "cell_type": "code",
   "execution_count": 126,
   "id": "d8c453f6-0b42-4acc-8eb5-cb18859c1fa9",
   "metadata": {},
   "outputs": [
    {
     "data": {
      "text/plain": [
       "[4, 5, 8]"
      ]
     },
     "execution_count": 126,
     "metadata": {},
     "output_type": "execute_result"
    }
   ],
   "source": [
    "list(map(lambda c : len(c), l))"
   ]
  },
  {
   "cell_type": "code",
   "execution_count": 129,
   "id": "ffddc39b-5601-43ab-94fc-13fea61e9cd9",
   "metadata": {},
   "outputs": [],
   "source": [
    "def test36(c):\n",
    "    return len(c)"
   ]
  },
  {
   "cell_type": "code",
   "execution_count": 131,
   "id": "4cc91506-5021-4ba8-aecd-808a1d325409",
   "metadata": {},
   "outputs": [
    {
     "data": {
      "text/plain": [
       "[4, 5, 8]"
      ]
     },
     "execution_count": 131,
     "metadata": {},
     "output_type": "execute_result"
    }
   ],
   "source": [
    "list(map(test36, l))"
   ]
  },
  {
   "cell_type": "code",
   "execution_count": 132,
   "id": "b678ad15-51bc-4eda-a063-076e807f90fb",
   "metadata": {},
   "outputs": [
    {
     "data": {
      "text/plain": [
       "['pwskills', 'karan', 'abhi']"
      ]
     },
     "execution_count": 132,
     "metadata": {},
     "output_type": "execute_result"
    }
   ],
   "source": [
    "l[::-1]"
   ]
  },
  {
   "cell_type": "code",
   "execution_count": 133,
   "id": "9ff88a62-15c6-41f6-a5da-067df662c3d8",
   "metadata": {},
   "outputs": [
    {
     "data": {
      "text/plain": [
       "['abhi', 'karan', 'pwskills']"
      ]
     },
     "execution_count": 133,
     "metadata": {},
     "output_type": "execute_result"
    }
   ],
   "source": [
    "l"
   ]
  },
  {
   "cell_type": "code",
   "execution_count": 134,
   "id": "11a9cee4-e9e0-4bff-a342-845443a161f2",
   "metadata": {},
   "outputs": [],
   "source": [
    "s = \"sudh\""
   ]
  },
  {
   "cell_type": "code",
   "execution_count": 135,
   "id": "70a8a018-9a09-49d2-ab19-886ca9912197",
   "metadata": {},
   "outputs": [
    {
     "data": {
      "text/plain": [
       "'hdus'"
      ]
     },
     "execution_count": 135,
     "metadata": {},
     "output_type": "execute_result"
    }
   ],
   "source": [
    "s[::-1]"
   ]
  },
  {
   "cell_type": "code",
   "execution_count": 137,
   "id": "dc54acbe-9e7e-44af-a5ce-2b29ecf067f3",
   "metadata": {},
   "outputs": [
    {
     "data": {
      "text/plain": [
       "['ihba', 'narak', 'sllikswp']"
      ]
     },
     "execution_count": 137,
     "metadata": {},
     "output_type": "execute_result"
    }
   ],
   "source": [
    "list(map(lambda a : a[::-1],l))"
   ]
  },
  {
   "cell_type": "code",
   "execution_count": 138,
   "id": "5c540cbf-15bf-4a57-ac17-e461af8d6b07",
   "metadata": {},
   "outputs": [],
   "source": [
    "l = [1,2,3,4,5,6,7]\n",
    "from functools import reduce "
   ]
  },
  {
   "cell_type": "code",
   "execution_count": 139,
   "id": "61c5c195-47bf-435e-9235-6c4a45e5f353",
   "metadata": {},
   "outputs": [
    {
     "data": {
      "text/plain": [
       "5040"
      ]
     },
     "execution_count": 139,
     "metadata": {},
     "output_type": "execute_result"
    }
   ],
   "source": [
    "reduce(lambda a,b : a*b, l)"
   ]
  },
  {
   "cell_type": "code",
   "execution_count": 140,
   "id": "c7ca70a2-e0e8-4bd9-97b7-0045522a2efa",
   "metadata": {},
   "outputs": [
    {
     "data": {
      "text/plain": [
       "[1, 2, 3, 4, 5, 6, 7]"
      ]
     },
     "execution_count": 140,
     "metadata": {},
     "output_type": "execute_result"
    }
   ],
   "source": [
    "l"
   ]
  },
  {
   "cell_type": "code",
   "execution_count": 141,
   "id": "5c012b3e-bff1-47fb-a83e-e04ebcb28208",
   "metadata": {},
   "outputs": [
    {
     "data": {
      "text/plain": [
       "1"
      ]
     },
     "execution_count": 141,
     "metadata": {},
     "output_type": "execute_result"
    }
   ],
   "source": [
    "min(l)"
   ]
  },
  {
   "cell_type": "code",
   "execution_count": 142,
   "id": "f65686fb-d1e9-411c-a449-40a063acbfff",
   "metadata": {},
   "outputs": [
    {
     "data": {
      "text/plain": [
       "7"
      ]
     },
     "execution_count": 142,
     "metadata": {},
     "output_type": "execute_result"
    }
   ],
   "source": [
    "max(l)"
   ]
  },
  {
   "cell_type": "code",
   "execution_count": 143,
   "id": "9b475a35-6daf-4d5f-9f70-df3eac42d307",
   "metadata": {},
   "outputs": [
    {
     "data": {
      "text/plain": [
       "7"
      ]
     },
     "execution_count": 143,
     "metadata": {},
     "output_type": "execute_result"
    }
   ],
   "source": [
    " reduce(lambda a,b : a if a>b else b, l)"
   ]
  },
  {
   "cell_type": "code",
   "execution_count": 144,
   "id": "76ba6d5c-672a-48ef-863c-fa4b99c2eef5",
   "metadata": {},
   "outputs": [
    {
     "data": {
      "text/plain": [
       "1"
      ]
     },
     "execution_count": 144,
     "metadata": {},
     "output_type": "execute_result"
    }
   ],
   "source": [
    " reduce(lambda a,b : a if a<b else b, l)"
   ]
  },
  {
   "cell_type": "code",
   "execution_count": 145,
   "id": "6b7498ed-d6ba-4938-aa8e-e70d9db76a65",
   "metadata": {},
   "outputs": [],
   "source": [
    "n = 4\n",
    "fact = reduce(lambda a,b : a*b, range(1,n+1))"
   ]
  },
  {
   "cell_type": "code",
   "execution_count": 146,
   "id": "975e4e41-52a6-4c74-8baf-75c3cd64c9f5",
   "metadata": {},
   "outputs": [
    {
     "data": {
      "text/plain": [
       "24"
      ]
     },
     "execution_count": 146,
     "metadata": {},
     "output_type": "execute_result"
    }
   ],
   "source": [
    "fact"
   ]
  },
  {
   "cell_type": "code",
   "execution_count": 147,
   "id": "bd8bf14c-327d-4ecb-ba19-2333e3353ee4",
   "metadata": {},
   "outputs": [],
   "source": [
    "def test(a,b):\n",
    "    return a*b"
   ]
  },
  {
   "cell_type": "code",
   "execution_count": 149,
   "id": "acc81d06-acf3-4d94-9a69-d9392bacc835",
   "metadata": {},
   "outputs": [],
   "source": [
    "fact1 = reduce(test, range(1,n+1))"
   ]
  },
  {
   "cell_type": "code",
   "execution_count": 150,
   "id": "4a126641-d1e2-4d3e-8be1-29ff6ddf2ebb",
   "metadata": {},
   "outputs": [
    {
     "data": {
      "text/plain": [
       "24"
      ]
     },
     "execution_count": 150,
     "metadata": {},
     "output_type": "execute_result"
    }
   ],
   "source": [
    "fact1"
   ]
  },
  {
   "cell_type": "code",
   "execution_count": 152,
   "id": "a32b3306-fb86-4f91-83c7-152c58ed0263",
   "metadata": {},
   "outputs": [
    {
     "data": {
      "text/plain": [
       "[2, 4, 6, 8, 10]"
      ]
     },
     "execution_count": 152,
     "metadata": {},
     "output_type": "execute_result"
    }
   ],
   "source": [
    "l = [1,2,3,4,5,6,7,8,9,10]\n",
    "[i for i in l if i%2 == 0]"
   ]
  },
  {
   "cell_type": "code",
   "execution_count": 154,
   "id": "cf454743-1808-4e45-a808-904227620876",
   "metadata": {},
   "outputs": [
    {
     "data": {
      "text/plain": [
       "3840"
      ]
     },
     "execution_count": 154,
     "metadata": {},
     "output_type": "execute_result"
    }
   ],
   "source": [
    "reduce(lambda a,b : a*b, [i for i in l if i%2 == 0])"
   ]
  },
  {
   "cell_type": "code",
   "execution_count": 155,
   "id": "5eba265c-7790-4c0e-95f9-3228dec19721",
   "metadata": {},
   "outputs": [],
   "source": [
    "l = [3,4,5,6,7,889,34,2,4,6]"
   ]
  },
  {
   "cell_type": "code",
   "execution_count": 158,
   "id": "96d9a372-734d-4bad-9b8b-e3848e774464",
   "metadata": {},
   "outputs": [
    {
     "data": {
      "text/plain": [
       "[4, 6, 34, 2, 4, 6]"
      ]
     },
     "execution_count": 158,
     "metadata": {},
     "output_type": "execute_result"
    }
   ],
   "source": [
    "list(filter(lambda a: a%2 == 0, l))"
   ]
  },
  {
   "cell_type": "code",
   "execution_count": 159,
   "id": "26e69719-b750-4f30-831b-468c168e40e3",
   "metadata": {},
   "outputs": [],
   "source": [
    " s = \"Pw Skills\""
   ]
  },
  {
   "cell_type": "code",
   "execution_count": 161,
   "id": "e0fd998a-fbbd-4808-b5ee-8b2367baf6eb",
   "metadata": {},
   "outputs": [
    {
     "data": {
      "text/plain": [
       "['w', 'k', 'i', 'l', 'l', 's']"
      ]
     },
     "execution_count": 161,
     "metadata": {},
     "output_type": "execute_result"
    }
   ],
   "source": [
    "list(filter(lambda a: a.islower(), s))"
   ]
  },
  {
   "cell_type": "code",
   "execution_count": 162,
   "id": "01e672dd-b73b-4ab1-ab6e-cdd07c15398e",
   "metadata": {},
   "outputs": [],
   "source": [
    "l = [\"pw\", \"pwskills\", \"sudh\", \"krish\"]"
   ]
  },
  {
   "cell_type": "code",
   "execution_count": 164,
   "id": "2a52f7f3-32ee-4fe5-9c58-efa6f80c52d5",
   "metadata": {},
   "outputs": [
    {
     "data": {
      "text/plain": [
       "['pw', 'sudh']"
      ]
     },
     "execution_count": 164,
     "metadata": {},
     "output_type": "execute_result"
    }
   ],
   "source": [
    "list(filter(lambda a: len(a)<=4, l))"
   ]
  },
  {
   "cell_type": "code",
   "execution_count": 165,
   "id": "4be7b6bc-bc89-4c5f-b33c-345872315072",
   "metadata": {},
   "outputs": [
    {
     "data": {
      "text/plain": [
       "['pw', 'pwskills', 'sudh', 'krish']"
      ]
     },
     "execution_count": 165,
     "metadata": {},
     "output_type": "execute_result"
    }
   ],
   "source": [
    "l"
   ]
  },
  {
   "cell_type": "code",
   "execution_count": 166,
   "id": "76beecf6-dff2-44bd-8914-e77f83fe77fb",
   "metadata": {},
   "outputs": [
    {
     "data": {
      "text/plain": [
       "['pw', 'pwskills']"
      ]
     },
     "execution_count": 166,
     "metadata": {},
     "output_type": "execute_result"
    }
   ],
   "source": [
    "list(filter(lambda a: a[0]=='p', l))"
   ]
  },
  {
   "cell_type": "code",
   "execution_count": 167,
   "id": "0cdabe3b-f305-4864-bdcf-8cb4dd8a7157",
   "metadata": {},
   "outputs": [],
   "source": [
    "def gen_fib(n):\n",
    "    if n <= 1:\n",
    "        return n\n",
    "    else:\n",
    "        return gen_fib(n-1) + gen_fib(n-2)"
   ]
  },
  {
   "cell_type": "code",
   "execution_count": 168,
   "id": "23627abe-44b2-4cda-a9dd-ea3d54e58f25",
   "metadata": {},
   "outputs": [
    {
     "data": {
      "text/plain": [
       "5"
      ]
     },
     "execution_count": 168,
     "metadata": {},
     "output_type": "execute_result"
    }
   ],
   "source": [
    "gen_fib(5)"
   ]
  },
  {
   "cell_type": "code",
   "execution_count": 169,
   "id": "9b4c1c2f-1b97-46f4-95ba-872fb94b04af",
   "metadata": {},
   "outputs": [
    {
     "data": {
      "text/plain": [
       "13"
      ]
     },
     "execution_count": 169,
     "metadata": {},
     "output_type": "execute_result"
    }
   ],
   "source": [
    "gen_fib(7)"
   ]
  },
  {
   "cell_type": "code",
   "execution_count": 171,
   "id": "af327605-29cf-458f-a42b-da6caba09f7b",
   "metadata": {},
   "outputs": [],
   "source": [
    "def sum_till_n(n) :\n",
    "    if n == 1:\n",
    "        return 1\n",
    "    else:\n",
    "        return n + sum_till_n(n-1)"
   ]
  },
  {
   "cell_type": "code",
   "execution_count": 172,
   "id": "54484832-9155-4032-88fd-cc10653992f9",
   "metadata": {},
   "outputs": [
    {
     "data": {
      "text/plain": [
       "15"
      ]
     },
     "execution_count": 172,
     "metadata": {},
     "output_type": "execute_result"
    }
   ],
   "source": [
    "sum_till_n(5)"
   ]
  },
  {
   "cell_type": "code",
   "execution_count": 173,
   "id": "ac47fd17-c7bc-487b-b41d-7a6a5e3b5536",
   "metadata": {},
   "outputs": [
    {
     "ename": "SyntaxError",
     "evalue": "invalid imaginary literal (3565501968.py, line 2)",
     "output_type": "error",
     "traceback": [
      "\u001b[0;36m  Cell \u001b[0;32mIn[173], line 2\u001b[0;36m\u001b[0m\n\u001b[0;31m    .0juh mn78 mn78ok.00.cfdtryvfgrv\u001b[0m\n\u001b[0m      ^\u001b[0m\n\u001b[0;31mSyntaxError\u001b[0m\u001b[0;31m:\u001b[0m invalid imaginary literal\n"
     ]
    }
   ],
   "source": [
    "|CVB VCfbrr   \n",
    ".0juh mn78 mn78ok.00.cfdtryvfgrv"
   ]
  },
  {
   "cell_type": "code",
   "execution_count": 174,
   "id": "8fea9d13-673c-4378-81ec-2e6ea0b7458d",
   "metadata": {},
   "outputs": [
    {
     "ename": "SyntaxError",
     "evalue": "unmatched ']' (3224582262.py, line 2)",
     "output_type": "error",
     "traceback": [
      "\u001b[0;36m  Cell \u001b[0;32mIn[174], line 2\u001b[0;36m\u001b[0m\n\u001b[0;31m    ]\u001b[0m\n\u001b[0m    ^\u001b[0m\n\u001b[0;31mSyntaxError\u001b[0m\u001b[0;31m:\u001b[0m unmatched ']'\n"
     ]
    }
   ],
   "source": [
    "|xczfewdrsfsfedsw5x\n",
    "]"
   ]
  },
  {
   "cell_type": "code",
   "execution_count": 175,
   "id": "0e7ebf87-e452-43fc-999b-fb3b929dddf2",
   "metadata": {},
   "outputs": [
    {
     "ename": "SyntaxError",
     "evalue": "unterminated string literal (detected at line 1) (2959521829.py, line 1)",
     "output_type": "error",
     "traceback": [
      "\u001b[0;36m  Cell \u001b[0;32mIn[175], line 1\u001b[0;36m\u001b[0m\n\u001b[0;31m    \"xczeadrsw\u001b[0m\n\u001b[0m    ^\u001b[0m\n\u001b[0;31mSyntaxError\u001b[0m\u001b[0;31m:\u001b[0m unterminated string literal (detected at line 1)\n"
     ]
    }
   ],
   "source": [
    "\"xczeadrsw"
   ]
  },
  {
   "cell_type": "code",
   "execution_count": null,
   "id": "11fbdb45-da3d-4561-ab8e-521aa7865811",
   "metadata": {},
   "outputs": [],
   "source": [
    "|ZDSZZxsaw"
   ]
  }
 ],
 "metadata": {
  "kernelspec": {
   "display_name": "Python 3 (ipykernel)",
   "language": "python",
   "name": "python3"
  },
  "language_info": {
   "codemirror_mode": {
    "name": "ipython",
    "version": 3
   },
   "file_extension": ".py",
   "mimetype": "text/x-python",
   "name": "python",
   "nbconvert_exporter": "python",
   "pygments_lexer": "ipython3",
   "version": "3.10.8"
  }
 },
 "nbformat": 4,
 "nbformat_minor": 5
}
