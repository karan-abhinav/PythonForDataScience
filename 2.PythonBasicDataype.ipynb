{
 "cells": [
  {
   "cell_type": "markdown",
   "id": "fb3fd5e7-b6ac-4c83-9fa4-71ebb4ae9a7c",
   "metadata": {},
   "source": [
    "###List : \n",
    "1. Capable of storing heteregeneous data\n",
    "2. Lists is Mutable"
   ]
  },
  {
   "cell_type": "code",
   "execution_count": 1,
   "id": "c88a14cc-4061-4658-961a-121912bb5a3a",
   "metadata": {},
   "outputs": [],
   "source": [
    "l = []"
   ]
  },
  {
   "cell_type": "code",
   "execution_count": 2,
   "id": "ea8bbaaf-a0b9-41a6-8d8b-2b407bd30c46",
   "metadata": {},
   "outputs": [
    {
     "data": {
      "text/plain": [
       "list"
      ]
     },
     "execution_count": 2,
     "metadata": {},
     "output_type": "execute_result"
    }
   ],
   "source": [
    "type(l)"
   ]
  },
  {
   "cell_type": "code",
   "execution_count": 3,
   "id": "33e8d6f6-61ab-4588-bb93-24b35ba6e3c6",
   "metadata": {},
   "outputs": [],
   "source": [
    "l1 = [1,2,3,4,5, \"Abhi\", \"Karan\", 3+6j, 34.65, True]"
   ]
  },
  {
   "cell_type": "code",
   "execution_count": 4,
   "id": "f5176c0a-c939-4329-b5e0-0c4992b169bb",
   "metadata": {},
   "outputs": [
    {
     "data": {
      "text/plain": [
       "[1, 2, 3, 4, 5, 'Abhi', 'Karan', (3+6j), 34.65, True]"
      ]
     },
     "execution_count": 4,
     "metadata": {},
     "output_type": "execute_result"
    }
   ],
   "source": [
    "l1"
   ]
  },
  {
   "cell_type": "code",
   "execution_count": 5,
   "id": "1649d82d-e94d-4b17-8dd5-df14635e65b0",
   "metadata": {},
   "outputs": [],
   "source": [
    "l1 = [1,2,3,4,5, \"Abhi\", \"Karan\", 3+6j, 34.65, True, [3,4,5,6]]"
   ]
  },
  {
   "cell_type": "code",
   "execution_count": 6,
   "id": "a5d1aa1e-d163-49c1-9d38-69b93059ef1e",
   "metadata": {},
   "outputs": [
    {
     "data": {
      "text/plain": [
       "[1, 2, 3, 4, 5, 'Abhi', 'Karan', (3+6j), 34.65, True, [3, 4, 5, 6]]"
      ]
     },
     "execution_count": 6,
     "metadata": {},
     "output_type": "execute_result"
    }
   ],
   "source": [
    "l1"
   ]
  },
  {
   "cell_type": "code",
   "execution_count": 7,
   "id": "4a3c9eef-bf05-4e6f-9732-c52c8e405071",
   "metadata": {},
   "outputs": [
    {
     "data": {
      "text/plain": [
       "'Abhi'"
      ]
     },
     "execution_count": 7,
     "metadata": {},
     "output_type": "execute_result"
    }
   ],
   "source": [
    "l1[5]"
   ]
  },
  {
   "cell_type": "code",
   "execution_count": 9,
   "id": "37109b9e-9c5d-45ea-a4e8-14c44d1ebd4f",
   "metadata": {},
   "outputs": [
    {
     "data": {
      "text/plain": [
       "[3, 4, 5, 6]"
      ]
     },
     "execution_count": 9,
     "metadata": {},
     "output_type": "execute_result"
    }
   ],
   "source": [
    "l1[-1]"
   ]
  },
  {
   "cell_type": "code",
   "execution_count": 10,
   "id": "e6ab7190-dfce-4379-a952-e45641593761",
   "metadata": {},
   "outputs": [
    {
     "data": {
      "text/plain": [
       "6"
      ]
     },
     "execution_count": 10,
     "metadata": {},
     "output_type": "execute_result"
    }
   ],
   "source": [
    "l1[-1][3]"
   ]
  },
  {
   "cell_type": "code",
   "execution_count": 11,
   "id": "347fb675-58dc-468e-b79e-ead9a44f8b57",
   "metadata": {},
   "outputs": [
    {
     "data": {
      "text/plain": [
       "[1, 2, 3, 4, 5]"
      ]
     },
     "execution_count": 11,
     "metadata": {},
     "output_type": "execute_result"
    }
   ],
   "source": [
    "l1[0:5]"
   ]
  },
  {
   "cell_type": "code",
   "execution_count": 12,
   "id": "8e4fe32b-0764-47ba-8590-cf8dc04e261a",
   "metadata": {},
   "outputs": [],
   "source": [
    "l2=[3,4,5,\"pwskills\",\"abhi\"]"
   ]
  },
  {
   "cell_type": "code",
   "execution_count": 13,
   "id": "5990fac5-53e4-4650-8822-320a1e718a4d",
   "metadata": {},
   "outputs": [
    {
     "data": {
      "text/plain": [
       "[1,\n",
       " 2,\n",
       " 3,\n",
       " 4,\n",
       " 5,\n",
       " 'Abhi',\n",
       " 'Karan',\n",
       " (3+6j),\n",
       " 34.65,\n",
       " True,\n",
       " [3, 4, 5, 6],\n",
       " 3,\n",
       " 4,\n",
       " 5,\n",
       " 'pwskills',\n",
       " 'abhi']"
      ]
     },
     "execution_count": 13,
     "metadata": {},
     "output_type": "execute_result"
    }
   ],
   "source": [
    "l1+l2"
   ]
  },
  {
   "cell_type": "code",
   "execution_count": 14,
   "id": "df69e05a-2015-4281-bd11-d0047ff64a1b",
   "metadata": {},
   "outputs": [
    {
     "ename": "TypeError",
     "evalue": "can only concatenate list (not \"str\") to list",
     "output_type": "error",
     "traceback": [
      "\u001b[0;31m---------------------------------------------------------------------------\u001b[0m",
      "\u001b[0;31mTypeError\u001b[0m                                 Traceback (most recent call last)",
      "Cell \u001b[0;32mIn[14], line 1\u001b[0m\n\u001b[0;32m----> 1\u001b[0m \u001b[43ml2\u001b[49m\u001b[38;5;241;43m+\u001b[39;49m\u001b[43m \u001b[49m\u001b[38;5;124;43m\"\u001b[39;49m\u001b[38;5;124;43msudh\u001b[39;49m\u001b[38;5;124;43m\"\u001b[39;49m\n",
      "\u001b[0;31mTypeError\u001b[0m: can only concatenate list (not \"str\") to list"
     ]
    }
   ],
   "source": [
    "l2+ \"sudh\""
   ]
  },
  {
   "cell_type": "code",
   "execution_count": 15,
   "id": "ed219553-655f-4962-905f-dfb2c74e9e24",
   "metadata": {},
   "outputs": [
    {
     "data": {
      "text/plain": [
       "['a', 'b', 'h', 'i']"
      ]
     },
     "execution_count": 15,
     "metadata": {},
     "output_type": "execute_result"
    }
   ],
   "source": [
    "list(\"abhi\")"
   ]
  },
  {
   "cell_type": "code",
   "execution_count": 16,
   "id": "058ecf8d-8d05-4e80-b511-3e6e887554b7",
   "metadata": {},
   "outputs": [
    {
     "ename": "TypeError",
     "evalue": "'int' object is not iterable",
     "output_type": "error",
     "traceback": [
      "\u001b[0;31m---------------------------------------------------------------------------\u001b[0m",
      "\u001b[0;31mTypeError\u001b[0m                                 Traceback (most recent call last)",
      "Cell \u001b[0;32mIn[16], line 1\u001b[0m\n\u001b[0;32m----> 1\u001b[0m \u001b[38;5;28;43mlist\u001b[39;49m\u001b[43m(\u001b[49m\u001b[38;5;241;43m345\u001b[39;49m\u001b[43m)\u001b[49m\n",
      "\u001b[0;31mTypeError\u001b[0m: 'int' object is not iterable"
     ]
    }
   ],
   "source": [
    "list(345)"
   ]
  },
  {
   "cell_type": "code",
   "execution_count": 17,
   "id": "a1bfab4a-d063-419d-8fa2-6fcd94145e7d",
   "metadata": {},
   "outputs": [
    {
     "data": {
      "text/plain": [
       "[3, 4, 5, 'pwskills', 'abhi']"
      ]
     },
     "execution_count": 17,
     "metadata": {},
     "output_type": "execute_result"
    }
   ],
   "source": [
    "l2"
   ]
  },
  {
   "cell_type": "code",
   "execution_count": 18,
   "id": "6806974c-5013-47c6-b4a8-b46992a38576",
   "metadata": {},
   "outputs": [
    {
     "data": {
      "text/plain": [
       "[3, 4, 5, 'pwskills', 'abhi', 3, 4, 5, 'pwskills', 'abhi']"
      ]
     },
     "execution_count": 18,
     "metadata": {},
     "output_type": "execute_result"
    }
   ],
   "source": [
    "l2*2"
   ]
  },
  {
   "cell_type": "code",
   "execution_count": 19,
   "id": "e2d77668-7229-498c-bd52-57b03019ba7f",
   "metadata": {},
   "outputs": [
    {
     "data": {
      "text/plain": [
       "[3, 4, 5, 'pwskills', 'abhi']"
      ]
     },
     "execution_count": 19,
     "metadata": {},
     "output_type": "execute_result"
    }
   ],
   "source": [
    "l2"
   ]
  },
  {
   "cell_type": "code",
   "execution_count": 20,
   "id": "b02d30d9-59eb-4458-b15b-d81eb8259aab",
   "metadata": {},
   "outputs": [
    {
     "data": {
      "text/plain": [
       "3"
      ]
     },
     "execution_count": 20,
     "metadata": {},
     "output_type": "execute_result"
    }
   ],
   "source": [
    "l2[0]"
   ]
  },
  {
   "cell_type": "code",
   "execution_count": 21,
   "id": "e0ea5fa3-8f5d-4ed2-8276-b56040c4d084",
   "metadata": {},
   "outputs": [],
   "source": [
    "l2[0] = 300"
   ]
  },
  {
   "cell_type": "code",
   "execution_count": 22,
   "id": "95e73366-231e-4c35-94a4-e99a3a7aa71f",
   "metadata": {},
   "outputs": [
    {
     "data": {
      "text/plain": [
       "[300, 4, 5, 'pwskills', 'abhi']"
      ]
     },
     "execution_count": 22,
     "metadata": {},
     "output_type": "execute_result"
    }
   ],
   "source": [
    "l2"
   ]
  },
  {
   "cell_type": "markdown",
   "id": "13260e47-96f8-4187-87ee-3b04cdbca728",
   "metadata": {},
   "source": [
    "###Tuples\n",
    "1. Capable of storing heteregeneous data.\n",
    "2. Tuples is immutable"
   ]
  },
  {
   "cell_type": "code",
   "execution_count": 23,
   "id": "cf3eb2ff-1b9d-467e-9b2b-1b3281ea2920",
   "metadata": {},
   "outputs": [],
   "source": [
    "t = (1,2,3,4, \"abhi\", \"pwslills\", 4+56j, True)"
   ]
  },
  {
   "cell_type": "code",
   "execution_count": 24,
   "id": "d81b8d25-0d64-4512-937e-225b66bc57a7",
   "metadata": {},
   "outputs": [
    {
     "data": {
      "text/plain": [
       "tuple"
      ]
     },
     "execution_count": 24,
     "metadata": {},
     "output_type": "execute_result"
    }
   ],
   "source": [
    "type(t)"
   ]
  },
  {
   "cell_type": "code",
   "execution_count": 25,
   "id": "81f8d29e-b7f8-4858-8b86-e07c2608cd84",
   "metadata": {},
   "outputs": [
    {
     "data": {
      "text/plain": [
       "1"
      ]
     },
     "execution_count": 25,
     "metadata": {},
     "output_type": "execute_result"
    }
   ],
   "source": [
    "t[0]"
   ]
  },
  {
   "cell_type": "code",
   "execution_count": 26,
   "id": "836da4b1-5829-423f-b591-608073146b02",
   "metadata": {},
   "outputs": [
    {
     "data": {
      "text/plain": [
       "True"
      ]
     },
     "execution_count": 26,
     "metadata": {},
     "output_type": "execute_result"
    }
   ],
   "source": [
    "t[-1]"
   ]
  },
  {
   "cell_type": "code",
   "execution_count": 27,
   "id": "bd653be8-fb92-462e-802c-add0b0e80bfb",
   "metadata": {},
   "outputs": [
    {
     "data": {
      "text/plain": [
       "(True, (4+56j), 'pwslills', 'abhi', 4, 3, 2, 1)"
      ]
     },
     "execution_count": 27,
     "metadata": {},
     "output_type": "execute_result"
    }
   ],
   "source": [
    "t[::-1]"
   ]
  },
  {
   "cell_type": "code",
   "execution_count": 28,
   "id": "3a042e60-c512-4623-992d-4e2fbd9e3abd",
   "metadata": {},
   "outputs": [
    {
     "data": {
      "text/plain": [
       "1"
      ]
     },
     "execution_count": 28,
     "metadata": {},
     "output_type": "execute_result"
    }
   ],
   "source": [
    "t[0]"
   ]
  },
  {
   "cell_type": "code",
   "execution_count": 29,
   "id": "65205532-8378-449a-bf32-a587c85f1d56",
   "metadata": {},
   "outputs": [
    {
     "ename": "TypeError",
     "evalue": "'tuple' object does not support item assignment",
     "output_type": "error",
     "traceback": [
      "\u001b[0;31m---------------------------------------------------------------------------\u001b[0m",
      "\u001b[0;31mTypeError\u001b[0m                                 Traceback (most recent call last)",
      "Cell \u001b[0;32mIn[29], line 1\u001b[0m\n\u001b[0;32m----> 1\u001b[0m \u001b[43mt\u001b[49m\u001b[43m[\u001b[49m\u001b[38;5;241;43m0\u001b[39;49m\u001b[43m]\u001b[49m \u001b[38;5;241m=\u001b[39m \u001b[38;5;124m\"\u001b[39m\u001b[38;5;124mAbhi\u001b[39m\u001b[38;5;124m\"\u001b[39m\n",
      "\u001b[0;31mTypeError\u001b[0m: 'tuple' object does not support item assignment"
     ]
    }
   ],
   "source": [
    "t[0] = \"Abhi\""
   ]
  },
  {
   "cell_type": "code",
   "execution_count": 30,
   "id": "bc298b3b-2502-4b65-9c06-0563bafb0afe",
   "metadata": {},
   "outputs": [],
   "source": [
    "t1= (5,6,7,8)"
   ]
  },
  {
   "cell_type": "code",
   "execution_count": 31,
   "id": "af7d3630-153a-4b9f-a9b9-a30dad942e14",
   "metadata": {},
   "outputs": [
    {
     "data": {
      "text/plain": [
       "(1, 2, 3, 4, 'abhi', 'pwslills', (4+56j), True)"
      ]
     },
     "execution_count": 31,
     "metadata": {},
     "output_type": "execute_result"
    }
   ],
   "source": [
    "t"
   ]
  },
  {
   "cell_type": "code",
   "execution_count": 32,
   "id": "67a71d6f-8bcf-4ab9-a752-0a1288cde1cd",
   "metadata": {},
   "outputs": [
    {
     "data": {
      "text/plain": [
       "(5, 6, 7, 8)"
      ]
     },
     "execution_count": 32,
     "metadata": {},
     "output_type": "execute_result"
    }
   ],
   "source": [
    "t1"
   ]
  },
  {
   "cell_type": "code",
   "execution_count": 33,
   "id": "d9d39f89-35c7-4ab5-9b79-2fbf377a373d",
   "metadata": {},
   "outputs": [
    {
     "data": {
      "text/plain": [
       "(1, 2, 3, 4, 'abhi', 'pwslills', (4+56j), True, 5, 6, 7, 8)"
      ]
     },
     "execution_count": 33,
     "metadata": {},
     "output_type": "execute_result"
    }
   ],
   "source": [
    "t+t1"
   ]
  },
  {
   "cell_type": "code",
   "execution_count": 34,
   "id": "ad6cff19-c20c-4acd-98fc-67a24b1f10ac",
   "metadata": {},
   "outputs": [
    {
     "data": {
      "text/plain": [
       "(1,\n",
       " 2,\n",
       " 3,\n",
       " 4,\n",
       " 'abhi',\n",
       " 'pwslills',\n",
       " (4+56j),\n",
       " True,\n",
       " 1,\n",
       " 2,\n",
       " 3,\n",
       " 4,\n",
       " 'abhi',\n",
       " 'pwslills',\n",
       " (4+56j),\n",
       " True)"
      ]
     },
     "execution_count": 34,
     "metadata": {},
     "output_type": "execute_result"
    }
   ],
   "source": [
    "t*2"
   ]
  },
  {
   "cell_type": "code",
   "execution_count": 35,
   "id": "f4e89377-3aa7-410f-8e8f-6e0e15d3d7d6",
   "metadata": {},
   "outputs": [
    {
     "data": {
      "text/plain": [
       "(1, 2, 3, 4, 'abhi', 'pwslills', (4+56j), True)"
      ]
     },
     "execution_count": 35,
     "metadata": {},
     "output_type": "execute_result"
    }
   ],
   "source": [
    "t"
   ]
  },
  {
   "cell_type": "code",
   "execution_count": 36,
   "id": "44ff2a69-32c5-454f-bbf8-7c4031a216a1",
   "metadata": {},
   "outputs": [
    {
     "data": {
      "text/plain": [
       "[1, 2, 3, 4, 'abhi', 'pwslills', (4+56j), True]"
      ]
     },
     "execution_count": 36,
     "metadata": {},
     "output_type": "execute_result"
    }
   ],
   "source": [
    "list(t)"
   ]
  },
  {
   "cell_type": "code",
   "execution_count": 37,
   "id": "557dde8d-9c69-4b29-834c-7aaa639173d5",
   "metadata": {},
   "outputs": [
    {
     "data": {
      "text/plain": [
       "[300, 4, 5, 'pwskills', 'abhi']"
      ]
     },
     "execution_count": 37,
     "metadata": {},
     "output_type": "execute_result"
    }
   ],
   "source": [
    "l2"
   ]
  },
  {
   "cell_type": "code",
   "execution_count": 38,
   "id": "167878c9-7d9a-4318-8a16-f93654d6f014",
   "metadata": {},
   "outputs": [
    {
     "data": {
      "text/plain": [
       "(300, 4, 5, 'pwskills', 'abhi')"
      ]
     },
     "execution_count": 38,
     "metadata": {},
     "output_type": "execute_result"
    }
   ],
   "source": [
    "tuple(l2)"
   ]
  },
  {
   "cell_type": "code",
   "execution_count": 39,
   "id": "a48bf1d4-5ee3-45db-b8cd-2b122812de08",
   "metadata": {},
   "outputs": [
    {
     "data": {
      "text/plain": [
       "8"
      ]
     },
     "execution_count": 39,
     "metadata": {},
     "output_type": "execute_result"
    }
   ],
   "source": [
    "len(t)"
   ]
  },
  {
   "cell_type": "code",
   "execution_count": 41,
   "id": "a546da91-63de-4007-8fa7-408946156118",
   "metadata": {},
   "outputs": [
    {
     "data": {
      "text/plain": [
       "4"
      ]
     },
     "execution_count": 41,
     "metadata": {},
     "output_type": "execute_result"
    }
   ],
   "source": [
    "len(\"Abhi\")"
   ]
  },
  {
   "cell_type": "code",
   "execution_count": 42,
   "id": "47d137e6-4f59-4530-b68d-386e1f02c374",
   "metadata": {},
   "outputs": [
    {
     "data": {
      "text/plain": [
       "11"
      ]
     },
     "execution_count": 42,
     "metadata": {},
     "output_type": "execute_result"
    }
   ],
   "source": [
    "len(l1)"
   ]
  },
  {
   "cell_type": "markdown",
   "id": "31500e2c-950e-4454-ace8-e0b5e6de9071",
   "metadata": {},
   "source": [
    "###Set\n",
    "1. Set always tries to remove duplicate"
   ]
  },
  {
   "cell_type": "code",
   "execution_count": 43,
   "id": "bc091618-ef6e-4a0c-be3c-cafc22dac64e",
   "metadata": {},
   "outputs": [],
   "source": [
    "s = {}"
   ]
  },
  {
   "cell_type": "code",
   "execution_count": 44,
   "id": "2b3b2d9d-4e5a-4a50-bb2d-0b0804c487ef",
   "metadata": {},
   "outputs": [
    {
     "data": {
      "text/plain": [
       "dict"
      ]
     },
     "execution_count": 44,
     "metadata": {},
     "output_type": "execute_result"
    }
   ],
   "source": [
    "type(s)"
   ]
  },
  {
   "cell_type": "code",
   "execution_count": 47,
   "id": "b428dce2-b648-4d02-b84e-e62ef7531c8c",
   "metadata": {},
   "outputs": [],
   "source": [
    "s1={1,2,3,4,5,5}"
   ]
  },
  {
   "cell_type": "code",
   "execution_count": 48,
   "id": "65842aff-15cb-41d7-803d-ed19dd5818b4",
   "metadata": {},
   "outputs": [
    {
     "data": {
      "text/plain": [
       "set"
      ]
     },
     "execution_count": 48,
     "metadata": {},
     "output_type": "execute_result"
    }
   ],
   "source": [
    "type(s1)"
   ]
  },
  {
   "cell_type": "code",
   "execution_count": 49,
   "id": "50d38c03-0e30-4414-af41-cc61a2739103",
   "metadata": {},
   "outputs": [
    {
     "data": {
      "text/plain": [
       "{1, 2, 3, 4, 5}"
      ]
     },
     "execution_count": 49,
     "metadata": {},
     "output_type": "execute_result"
    }
   ],
   "source": [
    "s1"
   ]
  },
  {
   "cell_type": "code",
   "execution_count": 54,
   "id": "bb815b8f-92c1-408e-99f5-c1d7c82990a2",
   "metadata": {},
   "outputs": [],
   "source": [
    "s2 ={ \"abhi\", \"abhi\", \"Abhi\" , 1,2,3,4,2,3,4,5,5,6,7,8}"
   ]
  },
  {
   "cell_type": "code",
   "execution_count": 55,
   "id": "a9be7f88-6cf4-4cfc-a640-55ce55723026",
   "metadata": {},
   "outputs": [
    {
     "data": {
      "text/plain": [
       "{1, 2, 3, 4, 5, 6, 7, 8, 'Abhi', 'abhi'}"
      ]
     },
     "execution_count": 55,
     "metadata": {},
     "output_type": "execute_result"
    }
   ],
   "source": [
    "s2"
   ]
  },
  {
   "cell_type": "code",
   "execution_count": 56,
   "id": "54e0891a-2146-4ae7-b924-290bf49059a1",
   "metadata": {},
   "outputs": [
    {
     "data": {
      "text/plain": [
       "[1, 2, 3, 'abhi', 4, 5, 6, 7, 8, 'Abhi']"
      ]
     },
     "execution_count": 56,
     "metadata": {},
     "output_type": "execute_result"
    }
   ],
   "source": [
    "list(s2)"
   ]
  },
  {
   "cell_type": "code",
   "execution_count": 57,
   "id": "13cd8fef-a637-4241-bbc3-0aa94c155e58",
   "metadata": {},
   "outputs": [
    {
     "data": {
      "text/plain": [
       "{300, 4, 5, 'abhi', 'pwskills'}"
      ]
     },
     "execution_count": 57,
     "metadata": {},
     "output_type": "execute_result"
    }
   ],
   "source": [
    "set(l2)"
   ]
  },
  {
   "cell_type": "code",
   "execution_count": 58,
   "id": "ca97d7d7-f09d-476d-83d1-1b9d23486b89",
   "metadata": {},
   "outputs": [
    {
     "data": {
      "text/plain": [
       "(1, 2, 3, 'abhi', 4, 5, 6, 7, 8, 'Abhi')"
      ]
     },
     "execution_count": 58,
     "metadata": {},
     "output_type": "execute_result"
    }
   ],
   "source": [
    "tuple(s2)"
   ]
  },
  {
   "cell_type": "code",
   "execution_count": 59,
   "id": "48fcb69a-c9e7-45ec-b615-fa75d4a2fe2c",
   "metadata": {},
   "outputs": [
    {
     "ename": "TypeError",
     "evalue": "'set' object is not subscriptable",
     "output_type": "error",
     "traceback": [
      "\u001b[0;31m---------------------------------------------------------------------------\u001b[0m",
      "\u001b[0;31mTypeError\u001b[0m                                 Traceback (most recent call last)",
      "Cell \u001b[0;32mIn[59], line 1\u001b[0m\n\u001b[0;32m----> 1\u001b[0m \u001b[43ms2\u001b[49m\u001b[43m[\u001b[49m\u001b[38;5;241;43m0\u001b[39;49m\u001b[43m]\u001b[49m\n",
      "\u001b[0;31mTypeError\u001b[0m: 'set' object is not subscriptable"
     ]
    }
   ],
   "source": [
    "s2[0]"
   ]
  },
  {
   "cell_type": "code",
   "execution_count": 60,
   "id": "4b4b7b01-a6cf-4cc9-a134-96ba0d548f72",
   "metadata": {},
   "outputs": [
    {
     "data": {
      "text/plain": [
       "1"
      ]
     },
     "execution_count": 60,
     "metadata": {},
     "output_type": "execute_result"
    }
   ],
   "source": [
    "list(s2)[0]"
   ]
  },
  {
   "cell_type": "code",
   "execution_count": 62,
   "id": "ce6849bd-0174-4fef-8bb7-5a57df14deaf",
   "metadata": {},
   "outputs": [
    {
     "data": {
      "text/plain": [
       "'abhi'"
      ]
     },
     "execution_count": 62,
     "metadata": {},
     "output_type": "execute_result"
    }
   ],
   "source": [
    "list(s2)[3]"
   ]
  },
  {
   "cell_type": "markdown",
   "id": "72abd8dd-ad60-427a-9049-0c3c56fbabcd",
   "metadata": {},
   "source": [
    "Dictionary"
   ]
  },
  {
   "cell_type": "code",
   "execution_count": 63,
   "id": "193a35bc-4236-4650-a0be-133cf254a3ae",
   "metadata": {},
   "outputs": [],
   "source": [
    "s3 = {345, 45678,23,12,34,56,78,12,12,34,34,56,56,\"sudh\",234.56}"
   ]
  },
  {
   "cell_type": "code",
   "execution_count": 64,
   "id": "52bbc012-a574-4543-a756-9a9f4dd81837",
   "metadata": {},
   "outputs": [
    {
     "data": {
      "text/plain": [
       "{12, 23, 234.56, 34, 345, 45678, 56, 78, 'sudh'}"
      ]
     },
     "execution_count": 64,
     "metadata": {},
     "output_type": "execute_result"
    }
   ],
   "source": [
    "s3"
   ]
  },
  {
   "cell_type": "code",
   "execution_count": 65,
   "id": "bb223d39-23a0-46a1-a230-6c5d197ab9a3",
   "metadata": {},
   "outputs": [],
   "source": [
    "d = {}"
   ]
  },
  {
   "cell_type": "code",
   "execution_count": 66,
   "id": "2e8dd750-6013-4ee4-b16d-7f490b36b9a5",
   "metadata": {},
   "outputs": [
    {
     "data": {
      "text/plain": [
       "dict"
      ]
     },
     "execution_count": 66,
     "metadata": {},
     "output_type": "execute_result"
    }
   ],
   "source": [
    "type(d)"
   ]
  },
  {
   "cell_type": "code",
   "execution_count": 67,
   "id": "211d895a-28bb-4c96-aef9-a017d48e341a",
   "metadata": {},
   "outputs": [],
   "source": [
    "d1 ={'name' : \"Abhinav\", \"Subject\" :[\"Embedded\", \"NLP\", \"Machine Learning\"], \"number\" : 123231}"
   ]
  },
  {
   "cell_type": "code",
   "execution_count": 68,
   "id": "339ea384-ceee-427e-9cac-5db7abac20ca",
   "metadata": {},
   "outputs": [
    {
     "data": {
      "text/plain": [
       "{'name': 'Abhinav',\n",
       " 'Subject': ['Embedded', 'NLP', 'Machine Learning'],\n",
       " 'number': 123231}"
      ]
     },
     "execution_count": 68,
     "metadata": {},
     "output_type": "execute_result"
    }
   ],
   "source": [
    "d1"
   ]
  },
  {
   "cell_type": "code",
   "execution_count": 69,
   "id": "43bef983-6dbd-4606-a5ee-58a4726305b6",
   "metadata": {},
   "outputs": [],
   "source": [
    "d2 ={\"name\" : \"Abhi\", \"name\" : \"pwskills\"}"
   ]
  },
  {
   "cell_type": "code",
   "execution_count": 70,
   "id": "1b039515-02f7-45ea-8220-ec66330c1e88",
   "metadata": {},
   "outputs": [
    {
     "data": {
      "text/plain": [
       "{'name': 'pwskills'}"
      ]
     },
     "execution_count": 70,
     "metadata": {},
     "output_type": "execute_result"
    }
   ],
   "source": [
    "d2"
   ]
  },
  {
   "cell_type": "code",
   "execution_count": 71,
   "id": "d9b636b2-d6c6-4c98-a38f-c284a1fc4abd",
   "metadata": {},
   "outputs": [],
   "source": [
    "d3 = {1232312 : \"Sudh\"}"
   ]
  },
  {
   "cell_type": "code",
   "execution_count": 72,
   "id": "61f21372-e744-4598-b0bf-3d2a5aa336d6",
   "metadata": {},
   "outputs": [
    {
     "ename": "SyntaxError",
     "evalue": "unterminated string literal (detected at line 1) (1162270539.py, line 1)",
     "output_type": "error",
     "traceback": [
      "\u001b[0;36m  Cell \u001b[0;32mIn[72], line 1\u001b[0;36m\u001b[0m\n\u001b[0;31m    d3 ={[1,2,3,4] : \"subh}\u001b[0m\n\u001b[0m                     ^\u001b[0m\n\u001b[0;31mSyntaxError\u001b[0m\u001b[0;31m:\u001b[0m unterminated string literal (detected at line 1)\n"
     ]
    }
   ],
   "source": [
    "d3 ={[1,2,3,4] : \"subh}"
   ]
  },
  {
   "cell_type": "code",
   "execution_count": 74,
   "id": "4bd89c64-4677-4e97-be8e-9ecb0bbf87cc",
   "metadata": {},
   "outputs": [
    {
     "ename": "TypeError",
     "evalue": "unhashable type: 'set'",
     "output_type": "error",
     "traceback": [
      "\u001b[0;31m---------------------------------------------------------------------------\u001b[0m",
      "\u001b[0;31mTypeError\u001b[0m                                 Traceback (most recent call last)",
      "Cell \u001b[0;32mIn[74], line 1\u001b[0m\n\u001b[0;32m----> 1\u001b[0m d3 \u001b[38;5;241m=\u001b[39m {{\u001b[38;5;241m1\u001b[39m,\u001b[38;5;241m2\u001b[39m,\u001b[38;5;241m3\u001b[39m,\u001b[38;5;241m4\u001b[39m} : \u001b[38;5;124m\"\u001b[39m\u001b[38;5;124mabhi\u001b[39m\u001b[38;5;124m\"\u001b[39m}\n",
      "\u001b[0;31mTypeError\u001b[0m: unhashable type: 'set'"
     ]
    }
   ],
   "source": [
    "d3 = {{1,2,3,4} : \"abhi\"}"
   ]
  },
  {
   "cell_type": "code",
   "execution_count": 75,
   "id": "f136936d-2670-4f7f-b7e9-7aba18aa11a9",
   "metadata": {},
   "outputs": [],
   "source": [
    "d3 = {(1,2,3,4) : \"abhi\"}"
   ]
  },
  {
   "cell_type": "code",
   "execution_count": 76,
   "id": "8069fe70-7241-47c7-ab3a-16cf3604fdf9",
   "metadata": {},
   "outputs": [],
   "source": [
    "d4 = {'couse ' : ['dsa','java','webdev','blockchain', 'cloud'], 'mentor' :('sudh', 'krish', 'viswa', 'spuranghsu', 'sunnu'),\n",
    "      'price' : {3500, 20000, 15000, 11000, 3500}, 'duration' : 1, 'access year' : 1}"
   ]
  },
  {
   "cell_type": "code",
   "execution_count": 77,
   "id": "28f0f376-68ed-4c0a-89bd-8e737344400a",
   "metadata": {},
   "outputs": [
    {
     "data": {
      "text/plain": [
       "{'couse ': ['dsa', 'java', 'webdev', 'blockchain', 'cloud'],\n",
       " 'mentor': ('sudh', 'krish', 'viswa', 'spuranghsu', 'sunnu'),\n",
       " 'price': {3500, 11000, 15000, 20000},\n",
       " 'duration': 1,\n",
       " 'access year': 1}"
      ]
     },
     "execution_count": 77,
     "metadata": {},
     "output_type": "execute_result"
    }
   ],
   "source": [
    "d4"
   ]
  },
  {
   "cell_type": "code",
   "execution_count": 79,
   "id": "fdde1836-0948-4b01-9a6a-f0cfa1c9b113",
   "metadata": {},
   "outputs": [
    {
     "data": {
      "text/plain": [
       "['dsa', 'java', 'webdev', 'blockchain', 'cloud']"
      ]
     },
     "execution_count": 79,
     "metadata": {},
     "output_type": "execute_result"
    }
   ],
   "source": [
    "d4['couse ']"
   ]
  },
  {
   "cell_type": "code",
   "execution_count": 80,
   "id": "88572c1d-8493-4e71-848e-82d596f82c7d",
   "metadata": {},
   "outputs": [
    {
     "data": {
      "text/plain": [
       "('sudh', 'krish', 'viswa', 'spuranghsu', 'sunnu')"
      ]
     },
     "execution_count": 80,
     "metadata": {},
     "output_type": "execute_result"
    }
   ],
   "source": [
    "d4['mentor']"
   ]
  },
  {
   "cell_type": "code",
   "execution_count": 81,
   "id": "3a4f1f82-1508-40c6-a491-01f2bc72b69e",
   "metadata": {},
   "outputs": [
    {
     "data": {
      "text/plain": [
       "{3500, 11000, 15000, 20000}"
      ]
     },
     "execution_count": 81,
     "metadata": {},
     "output_type": "execute_result"
    }
   ],
   "source": [
    "d4['price']"
   ]
  },
  {
   "cell_type": "code",
   "execution_count": 89,
   "id": "0cc99db5-8379-4cee-a210-cb96f36ad3f1",
   "metadata": {},
   "outputs": [
    {
     "ename": "SyntaxError",
     "evalue": "unterminated string literal (detected at line 2) (2683099172.py, line 2)",
     "output_type": "error",
     "traceback": [
      "\u001b[0;36m  Cell \u001b[0;32mIn[89], line 2\u001b[0;36m\u001b[0m\n\u001b[0;31m    'price' : {3500, 20000, 15000, 11000, 3500}, 'duration' : 1, 'access year' : 1, 'Syllabus' : {'python':['core python, 'oops', 'pandas','numpy','db','mongodb']}}\u001b[0m\n\u001b[0m                                                                                                                                                                ^\u001b[0m\n\u001b[0;31mSyntaxError\u001b[0m\u001b[0;31m:\u001b[0m unterminated string literal (detected at line 2)\n"
     ]
    }
   ],
   "source": [
    "d5 = {'couse ' : ['dsa','java','webdev','blockchain', 'cloud'], 'mentor' :('sudh', 'krish', 'viswa', 'spuranghsu', 'sunnu'),\n",
    "      'price' : {3500, 20000, 15000, 11000, 3500}, 'duration' : 1, 'access year' : 1, 'Syllabus' : {'python':['core python, 'oops', 'pandas','numpy','db','mongodb']}}"
   ]
  },
  {
   "cell_type": "code",
   "execution_count": 85,
   "id": "f13ca1b2-496b-4eec-aa1e-8470b03ce715",
   "metadata": {},
   "outputs": [],
   "source": [
    "d2['phone number'] = 1213221"
   ]
  },
  {
   "cell_type": "code",
   "execution_count": 86,
   "id": "95cef9c4-5d6e-4873-82c7-fb8c8ea8a492",
   "metadata": {},
   "outputs": [
    {
     "data": {
      "text/plain": [
       "{'name': 'pwskills', 'phone number': 1213221}"
      ]
     },
     "execution_count": 86,
     "metadata": {},
     "output_type": "execute_result"
    }
   ],
   "source": [
    "d2"
   ]
  },
  {
   "cell_type": "code",
   "execution_count": 87,
   "id": "f8da03b2-44f5-44d5-8188-557c4da5a428",
   "metadata": {},
   "outputs": [],
   "source": [
    "d2['name'] = \"Abhinav\""
   ]
  },
  {
   "cell_type": "code",
   "execution_count": 88,
   "id": "8690c656-a88f-479e-b8b4-1ea52b909168",
   "metadata": {},
   "outputs": [
    {
     "data": {
      "text/plain": [
       "{'name': 'Abhinav', 'phone number': 1213221}"
      ]
     },
     "execution_count": 88,
     "metadata": {},
     "output_type": "execute_result"
    }
   ],
   "source": [
    "d2"
   ]
  },
  {
   "cell_type": "code",
   "execution_count": 90,
   "id": "74133428-0c39-41fb-9b41-50a80df964a9",
   "metadata": {},
   "outputs": [],
   "source": [
    "s1 =\"Pwskills\""
   ]
  },
  {
   "cell_type": "code",
   "execution_count": 91,
   "id": "45863d2d-e277-43f9-9105-3b9b46b2b357",
   "metadata": {},
   "outputs": [
    {
     "data": {
      "text/plain": [
       "2"
      ]
     },
     "execution_count": 91,
     "metadata": {},
     "output_type": "execute_result"
    }
   ],
   "source": [
    "s1.count('l')"
   ]
  },
  {
   "cell_type": "code",
   "execution_count": 92,
   "id": "e08b70b7-15be-4280-a1c1-2dc386e59b0d",
   "metadata": {},
   "outputs": [
    {
     "data": {
      "text/plain": [
       "2"
      ]
     },
     "execution_count": 92,
     "metadata": {},
     "output_type": "execute_result"
    }
   ],
   "source": [
    "s1.find('s')"
   ]
  },
  {
   "cell_type": "code",
   "execution_count": 94,
   "id": "2f80dde0-1abd-4f30-b76b-daa55e8ce699",
   "metadata": {},
   "outputs": [
    {
     "data": {
      "text/plain": [
       "0"
      ]
     },
     "execution_count": 94,
     "metadata": {},
     "output_type": "execute_result"
    }
   ],
   "source": [
    "s1.index('P')"
   ]
  },
  {
   "cell_type": "code",
   "execution_count": 95,
   "id": "8d923486-9ff8-4a73-98a4-5838677d2d78",
   "metadata": {},
   "outputs": [
    {
     "data": {
      "text/plain": [
       "-1"
      ]
     },
     "execution_count": 95,
     "metadata": {},
     "output_type": "execute_result"
    }
   ],
   "source": [
    "s1.find('z')"
   ]
  },
  {
   "cell_type": "code",
   "execution_count": 96,
   "id": "a68810ce-0340-42fc-9d98-56be53318585",
   "metadata": {},
   "outputs": [
    {
     "ename": "ValueError",
     "evalue": "substring not found",
     "output_type": "error",
     "traceback": [
      "\u001b[0;31m---------------------------------------------------------------------------\u001b[0m",
      "\u001b[0;31mValueError\u001b[0m                                Traceback (most recent call last)",
      "Cell \u001b[0;32mIn[96], line 1\u001b[0m\n\u001b[0;32m----> 1\u001b[0m \u001b[43ms1\u001b[49m\u001b[38;5;241;43m.\u001b[39;49m\u001b[43mindex\u001b[49m\u001b[43m(\u001b[49m\u001b[38;5;124;43m'\u001b[39;49m\u001b[38;5;124;43mz\u001b[39;49m\u001b[38;5;124;43m'\u001b[39;49m\u001b[43m)\u001b[49m\n",
      "\u001b[0;31mValueError\u001b[0m: substring not found"
     ]
    }
   ],
   "source": [
    "s1.index('z')"
   ]
  },
  {
   "cell_type": "code",
   "execution_count": 97,
   "id": "9ce7992d-a837-4826-aeeb-6f29dd1c6242",
   "metadata": {},
   "outputs": [
    {
     "data": {
      "text/plain": [
       "'Pwskills'"
      ]
     },
     "execution_count": 97,
     "metadata": {},
     "output_type": "execute_result"
    }
   ],
   "source": [
    "s1"
   ]
  },
  {
   "cell_type": "code",
   "execution_count": 98,
   "id": "87027062-439b-498e-847b-55befa8b9da9",
   "metadata": {},
   "outputs": [
    {
     "data": {
      "text/plain": [
       "'PWSKILLS'"
      ]
     },
     "execution_count": 98,
     "metadata": {},
     "output_type": "execute_result"
    }
   ],
   "source": [
    "s1.upper()"
   ]
  },
  {
   "cell_type": "code",
   "execution_count": 99,
   "id": "295c09e8-b1d7-4055-8909-adc13eeeca8e",
   "metadata": {},
   "outputs": [
    {
     "data": {
      "text/plain": [
       "'pwskills'"
      ]
     },
     "execution_count": 99,
     "metadata": {},
     "output_type": "execute_result"
    }
   ],
   "source": [
    "s1.lower()"
   ]
  },
  {
   "cell_type": "code",
   "execution_count": 100,
   "id": "8203d846-4086-44c8-9b39-063139cef6f6",
   "metadata": {},
   "outputs": [
    {
     "data": {
      "text/plain": [
       "'Pwskills'"
      ]
     },
     "execution_count": 100,
     "metadata": {},
     "output_type": "execute_result"
    }
   ],
   "source": [
    "s1.title()"
   ]
  },
  {
   "cell_type": "code",
   "execution_count": 101,
   "id": "a8fdcefe-4efd-4ee9-a186-441222cca93b",
   "metadata": {},
   "outputs": [],
   "source": [
    "s2 = \"My Name is Abhinav\""
   ]
  },
  {
   "cell_type": "code",
   "execution_count": 102,
   "id": "23826e74-f5e3-480d-a942-c07223a4f987",
   "metadata": {},
   "outputs": [
    {
     "data": {
      "text/plain": [
       "'My Name Is Abhinav'"
      ]
     },
     "execution_count": 102,
     "metadata": {},
     "output_type": "execute_result"
    }
   ],
   "source": [
    "s2.title()"
   ]
  },
  {
   "cell_type": "code",
   "execution_count": 103,
   "id": "04df20e5-1a60-441a-9a78-d69fbf26a610",
   "metadata": {},
   "outputs": [
    {
     "data": {
      "text/plain": [
       "['My', 'Name', 'is', 'Abhinav']"
      ]
     },
     "execution_count": 103,
     "metadata": {},
     "output_type": "execute_result"
    }
   ],
   "source": [
    "s2.split()"
   ]
  },
  {
   "cell_type": "code",
   "execution_count": 104,
   "id": "f573f065-6ef9-4341-87db-46701a7cb892",
   "metadata": {},
   "outputs": [],
   "source": [
    "s2 = \"My Name, is, Abhinav\""
   ]
  },
  {
   "cell_type": "code",
   "execution_count": 105,
   "id": "306a63f5-5ead-458f-b53f-76fe8ff810cf",
   "metadata": {},
   "outputs": [
    {
     "data": {
      "text/plain": [
       "['My', 'Name,', 'is,', 'Abhinav']"
      ]
     },
     "execution_count": 105,
     "metadata": {},
     "output_type": "execute_result"
    }
   ],
   "source": [
    "s2.split()"
   ]
  },
  {
   "cell_type": "code",
   "execution_count": 106,
   "id": "33659426-d28d-46bb-b65b-cbc9305d80d7",
   "metadata": {},
   "outputs": [],
   "source": [
    "s3 =\"This is my fsds pro class. I am attending this 4th time\""
   ]
  },
  {
   "cell_type": "code",
   "execution_count": 107,
   "id": "7946d392-0c68-4197-a266-03ac0e412ef7",
   "metadata": {},
   "outputs": [
    {
     "data": {
      "text/plain": [
       "['This is my fsds pro class', ' I am attending this 4th time']"
      ]
     },
     "execution_count": 107,
     "metadata": {},
     "output_type": "execute_result"
    }
   ],
   "source": [
    "s3.split('.')"
   ]
  },
  {
   "cell_type": "code",
   "execution_count": 108,
   "id": "26996c41-8c6d-487f-a43d-aba5e3acfb6b",
   "metadata": {},
   "outputs": [
    {
     "data": {
      "text/plain": [
       "'Pwskills'"
      ]
     },
     "execution_count": 108,
     "metadata": {},
     "output_type": "execute_result"
    }
   ],
   "source": [
    "s1"
   ]
  },
  {
   "cell_type": "code",
   "execution_count": 109,
   "id": "33bdf64b-35be-47fe-a422-2f153ec6b435",
   "metadata": {},
   "outputs": [
    {
     "data": {
      "text/plain": [
       "'Pwskills'"
      ]
     },
     "execution_count": 109,
     "metadata": {},
     "output_type": "execute_result"
    }
   ],
   "source": [
    "s1.capitalize()"
   ]
  },
  {
   "cell_type": "code",
   "execution_count": 110,
   "id": "f322f310-003f-4e9e-b41e-96d23498767a",
   "metadata": {},
   "outputs": [
    {
     "data": {
      "text/plain": [
       "'My Name, is, Abhinav'"
      ]
     },
     "execution_count": 110,
     "metadata": {},
     "output_type": "execute_result"
    }
   ],
   "source": [
    "s2"
   ]
  },
  {
   "cell_type": "code",
   "execution_count": 111,
   "id": "21aa7936-1863-480d-94ff-4f48ba4d6fe4",
   "metadata": {},
   "outputs": [
    {
     "data": {
      "text/plain": [
       "'My name, is, abhinav'"
      ]
     },
     "execution_count": 111,
     "metadata": {},
     "output_type": "execute_result"
    }
   ],
   "source": [
    "s2.capitalize()"
   ]
  },
  {
   "cell_type": "code",
   "execution_count": 112,
   "id": "ec9c3fec-df16-45b5-bba6-8ae21624779f",
   "metadata": {},
   "outputs": [
    {
     "data": {
      "text/plain": [
       "'My Name, is, Abhiaav'"
      ]
     },
     "execution_count": 112,
     "metadata": {},
     "output_type": "execute_result"
    }
   ],
   "source": [
    "s2.replace('n','a')"
   ]
  },
  {
   "cell_type": "code",
   "execution_count": 113,
   "id": "3cfa1e22-4991-49b7-a201-5e6115da2b31",
   "metadata": {},
   "outputs": [
    {
     "data": {
      "text/plain": [
       "'My Name, is, Abhinav'"
      ]
     },
     "execution_count": 113,
     "metadata": {},
     "output_type": "execute_result"
    }
   ],
   "source": [
    "s2"
   ]
  },
  {
   "cell_type": "code",
   "execution_count": 114,
   "id": "98c1c71f-bd29-4d29-a237-4896a6dc9d14",
   "metadata": {},
   "outputs": [
    {
     "data": {
      "text/plain": [
       "'ffffffffffffffffPwskillsffffffffffffffff'"
      ]
     },
     "execution_count": 114,
     "metadata": {},
     "output_type": "execute_result"
    }
   ],
   "source": [
    "s1.center(40,'f')"
   ]
  },
  {
   "cell_type": "code",
   "execution_count": null,
   "id": "b7557405-1a51-4a7a-bb7f-d037e5886798",
   "metadata": {},
   "outputs": [],
   "source": []
  }
 ],
 "metadata": {
  "kernelspec": {
   "display_name": "Python 3 (ipykernel)",
   "language": "python",
   "name": "python3"
  },
  "language_info": {
   "codemirror_mode": {
    "name": "ipython",
    "version": 3
   },
   "file_extension": ".py",
   "mimetype": "text/x-python",
   "name": "python",
   "nbconvert_exporter": "python",
   "pygments_lexer": "ipython3",
   "version": "3.10.8"
  }
 },
 "nbformat": 4,
 "nbformat_minor": 5
}
